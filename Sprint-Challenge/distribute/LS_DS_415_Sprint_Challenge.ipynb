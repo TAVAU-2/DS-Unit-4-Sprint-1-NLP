{
 "cells": [
  {
   "cell_type": "markdown",
   "metadata": {},
   "source": [
    "<img align=\"left\" src=\"https://lever-client-logos.s3.amazonaws.com/864372b1-534c-480e-acd5-9711f850815c-1524247202159.png\" width=200>\n",
    "<br></br>\n",
    "<br></br>\n",
    "\n",
    "# Sprint Challenge\n",
    "## *Data Science Unit 4 Sprint 1*\n",
    "\n",
    "After a week of Natural Language Processing, you've learned some cool new stuff: how to process text, how turn text into vectors, and how to model topics from documents. Apply your newly acquired skills to one of the most famous NLP datasets out there: [Yelp](https://www.yelp.com/dataset/challenge). As part of the job selection process, some of my friends have been asked to create analysis of this dataset, so I want to empower you to have a head start.  \n",
    "\n",
    "The real dataset is massive (almost 8 gigs uncompressed). I've sampled the data for you to something more managable for the Sprint Challenge. You can analyze the full dataset as a stretch goal or after the sprint challenge. As you work on the challenge, I suggest adding notes about your findings and things you want to analyze in the future.\n",
    "\n",
    "## Challenge Objectives\n",
    "*Successfully complete these all these objectives to earn a 2. There are more details on each objective further down in the notebook.*\n",
    "* <a href=\"#p1\">Part 1</a>: Write a function to tokenize the yelp reviews\n",
    "* <a href=\"#p2\">Part 2</a>: Create a vector representation of those tokens\n",
    "* <a href=\"#p3\">Part 3</a>: Use your tokens in a classification model on yelp rating\n",
    "* <a href=\"#p4\">Part 4</a>: Estimate & Interpret a topic model of the Yelp reviews"
   ]
  },
  {
   "cell_type": "code",
   "execution_count": 1,
   "metadata": {},
   "outputs": [],
   "source": [
    "import pandas as pd\n",
    "\n",
    "yelp = pd.read_json('./data/review_sample.json', lines=True)"
   ]
  },
  {
   "cell_type": "code",
   "execution_count": 2,
   "metadata": {},
   "outputs": [
    {
     "data": {
      "text/html": [
       "<div>\n",
       "<style scoped>\n",
       "    .dataframe tbody tr th:only-of-type {\n",
       "        vertical-align: middle;\n",
       "    }\n",
       "\n",
       "    .dataframe tbody tr th {\n",
       "        vertical-align: top;\n",
       "    }\n",
       "\n",
       "    .dataframe thead th {\n",
       "        text-align: right;\n",
       "    }\n",
       "</style>\n",
       "<table border=\"1\" class=\"dataframe\">\n",
       "  <thead>\n",
       "    <tr style=\"text-align: right;\">\n",
       "      <th></th>\n",
       "      <th>business_id</th>\n",
       "      <th>cool</th>\n",
       "      <th>date</th>\n",
       "      <th>funny</th>\n",
       "      <th>review_id</th>\n",
       "      <th>stars</th>\n",
       "      <th>text</th>\n",
       "      <th>useful</th>\n",
       "      <th>user_id</th>\n",
       "    </tr>\n",
       "  </thead>\n",
       "  <tbody>\n",
       "    <tr>\n",
       "      <th>0</th>\n",
       "      <td>nDuEqIyRc8YKS1q1fX0CZg</td>\n",
       "      <td>1</td>\n",
       "      <td>2015-03-31 16:50:30</td>\n",
       "      <td>0</td>\n",
       "      <td>eZs2tpEJtXPwawvHnHZIgQ</td>\n",
       "      <td>1</td>\n",
       "      <td>BEWARE!!! FAKE, FAKE, FAKE....We also own a sm...</td>\n",
       "      <td>10</td>\n",
       "      <td>n1LM36qNg4rqGXIcvVXv8w</td>\n",
       "    </tr>\n",
       "    <tr>\n",
       "      <th>1</th>\n",
       "      <td>eMYeEapscbKNqUDCx705hg</td>\n",
       "      <td>0</td>\n",
       "      <td>2015-12-16 05:31:03</td>\n",
       "      <td>0</td>\n",
       "      <td>DoQDWJsNbU0KL1O29l_Xug</td>\n",
       "      <td>4</td>\n",
       "      <td>Came here for lunch Togo. Service was quick. S...</td>\n",
       "      <td>0</td>\n",
       "      <td>5CgjjDAic2-FAvCtiHpytA</td>\n",
       "    </tr>\n",
       "    <tr>\n",
       "      <th>2</th>\n",
       "      <td>6Q7-wkCPc1KF75jZLOTcMw</td>\n",
       "      <td>1</td>\n",
       "      <td>2010-06-20 19:14:48</td>\n",
       "      <td>1</td>\n",
       "      <td>DDOdGU7zh56yQHmUnL1idQ</td>\n",
       "      <td>3</td>\n",
       "      <td>I've been to Vegas dozens of times and had nev...</td>\n",
       "      <td>2</td>\n",
       "      <td>BdV-cf3LScmb8kZ7iiBcMA</td>\n",
       "    </tr>\n",
       "    <tr>\n",
       "      <th>3</th>\n",
       "      <td>k3zrItO4l9hwfLRwHBDc9w</td>\n",
       "      <td>3</td>\n",
       "      <td>2010-07-13 00:33:45</td>\n",
       "      <td>4</td>\n",
       "      <td>LfTMUWnfGFMOfOIyJcwLVA</td>\n",
       "      <td>1</td>\n",
       "      <td>We went here on a night where they closed off ...</td>\n",
       "      <td>5</td>\n",
       "      <td>cZZnBqh4gAEy4CdNvJailQ</td>\n",
       "    </tr>\n",
       "    <tr>\n",
       "      <th>4</th>\n",
       "      <td>6hpfRwGlOzbNv7k5eP9rsQ</td>\n",
       "      <td>1</td>\n",
       "      <td>2018-06-30 02:30:01</td>\n",
       "      <td>0</td>\n",
       "      <td>zJSUdI7bJ8PNJAg4lnl_Gg</td>\n",
       "      <td>4</td>\n",
       "      <td>3.5 to 4 stars\\n\\nNot bad for the price, $12.9...</td>\n",
       "      <td>5</td>\n",
       "      <td>n9QO4ClYAS7h9fpQwa5bhA</td>\n",
       "    </tr>\n",
       "  </tbody>\n",
       "</table>\n",
       "</div>"
      ],
      "text/plain": [
       "              business_id  cool                date  funny  \\\n",
       "0  nDuEqIyRc8YKS1q1fX0CZg     1 2015-03-31 16:50:30      0   \n",
       "1  eMYeEapscbKNqUDCx705hg     0 2015-12-16 05:31:03      0   \n",
       "2  6Q7-wkCPc1KF75jZLOTcMw     1 2010-06-20 19:14:48      1   \n",
       "3  k3zrItO4l9hwfLRwHBDc9w     3 2010-07-13 00:33:45      4   \n",
       "4  6hpfRwGlOzbNv7k5eP9rsQ     1 2018-06-30 02:30:01      0   \n",
       "\n",
       "                review_id  stars  \\\n",
       "0  eZs2tpEJtXPwawvHnHZIgQ      1   \n",
       "1  DoQDWJsNbU0KL1O29l_Xug      4   \n",
       "2  DDOdGU7zh56yQHmUnL1idQ      3   \n",
       "3  LfTMUWnfGFMOfOIyJcwLVA      1   \n",
       "4  zJSUdI7bJ8PNJAg4lnl_Gg      4   \n",
       "\n",
       "                                                text  useful  \\\n",
       "0  BEWARE!!! FAKE, FAKE, FAKE....We also own a sm...      10   \n",
       "1  Came here for lunch Togo. Service was quick. S...       0   \n",
       "2  I've been to Vegas dozens of times and had nev...       2   \n",
       "3  We went here on a night where they closed off ...       5   \n",
       "4  3.5 to 4 stars\\n\\nNot bad for the price, $12.9...       5   \n",
       "\n",
       "                  user_id  \n",
       "0  n1LM36qNg4rqGXIcvVXv8w  \n",
       "1  5CgjjDAic2-FAvCtiHpytA  \n",
       "2  BdV-cf3LScmb8kZ7iiBcMA  \n",
       "3  cZZnBqh4gAEy4CdNvJailQ  \n",
       "4  n9QO4ClYAS7h9fpQwa5bhA  "
      ]
     },
     "execution_count": 2,
     "metadata": {},
     "output_type": "execute_result"
    }
   ],
   "source": [
    "yelp.head()"
   ]
  },
  {
   "cell_type": "markdown",
   "metadata": {},
   "source": [
    "## Part 1: Tokenize Function\n",
    "<a id=\"#p1\"></a>\n",
    "\n",
    "Complete the function `tokenize`. Your function should\n",
    "- accept one document at a time\n",
    "- return a list of tokens\n",
    "\n",
    "You are free to use any method you have learned this week."
   ]
  },
  {
   "cell_type": "code",
   "execution_count": 3,
   "metadata": {},
   "outputs": [],
   "source": [
    "import spacy\n",
    "nlp = spacy.load('en_core_web_sm')"
   ]
  },
  {
   "cell_type": "code",
   "execution_count": 4,
   "metadata": {},
   "outputs": [],
   "source": [
    "import re"
   ]
  },
  {
   "cell_type": "code",
   "execution_count": 7,
   "metadata": {},
   "outputs": [],
   "source": [
    "df = yelp"
   ]
  },
  {
   "cell_type": "code",
   "execution_count": 8,
   "metadata": {},
   "outputs": [],
   "source": [
    "def tokenize(doc):\n",
    "    doc = nlp(doc)\n",
    "    return [token.lemma_.strip() for token in doc if (token.is_stop != True) and (token.is_punct != True)]"
   ]
  },
  {
   "cell_type": "code",
   "execution_count": 9,
   "metadata": {},
   "outputs": [
    {
     "data": {
      "text/plain": [
       "0    [beware, fake, FAKE, fake, small, business, Lo...\n",
       "1    [come, lunch, Togo, service, quick, staff, fri...\n",
       "2    [Vegas, dozen, time, step, foot, Circus, Circu...\n",
       "Name: tokens, dtype: object"
      ]
     },
     "execution_count": 9,
     "metadata": {},
     "output_type": "execute_result"
    }
   ],
   "source": [
    "df['tokens'] = df['text'].apply(tokenize)\n",
    "df['tokens'].head(3)"
   ]
  },
  {
   "cell_type": "markdown",
   "metadata": {},
   "source": [
    "## Part 2: Vector Representation\n",
    "<a id=\"#p2\"></a>\n",
    "1. Create a vector representation of the reviews\n",
    "2. Write a fake review and query for the 10 most similiar reviews, print the text of the reviews. Do you notice any patterns?\n",
    "    - Given the size of the dataset, it will probably be best to use a `NearestNeighbors` model for this. "
   ]
  },
  {
   "cell_type": "code",
   "execution_count": 11,
   "metadata": {},
   "outputs": [],
   "source": [
    "# Classics\n",
    "import numpy as np\n",
    "import pandas as pd\n",
    "import seaborn as sns\n",
    "import matplotlib.pyplot as plt\n",
    "\n",
    "from sklearn.feature_extraction.text import CountVectorizer, TfidfVectorizer\n",
    "from sklearn.metrics.pairwise import cosine_similarity\n",
    "from sklearn.neighbors import NearestNeighbors\n",
    "from sklearn.decomposition import PCA"
   ]
  },
  {
   "cell_type": "code",
   "execution_count": 12,
   "metadata": {},
   "outputs": [],
   "source": [
    "texts = df['text'].tolist()"
   ]
  },
  {
   "cell_type": "code",
   "execution_count": 13,
   "metadata": {},
   "outputs": [],
   "source": [
    "stars = df['stars'].tolist()"
   ]
  },
  {
   "cell_type": "code",
   "execution_count": 14,
   "metadata": {},
   "outputs": [
    {
     "name": "stdout",
     "output_type": "stream",
     "text": [
      "(10000, 32713)\n"
     ]
    },
    {
     "data": {
      "text/html": [
       "<div>\n",
       "<style scoped>\n",
       "    .dataframe tbody tr th:only-of-type {\n",
       "        vertical-align: middle;\n",
       "    }\n",
       "\n",
       "    .dataframe tbody tr th {\n",
       "        vertical-align: top;\n",
       "    }\n",
       "\n",
       "    .dataframe thead th {\n",
       "        text-align: right;\n",
       "    }\n",
       "</style>\n",
       "<table border=\"1\" class=\"dataframe\">\n",
       "  <thead>\n",
       "    <tr style=\"text-align: right;\">\n",
       "      <th></th>\n",
       "      <th></th>\n",
       "      <th>$</th>\n",
       "      <th>+</th>\n",
       "      <th>-PRON-</th>\n",
       "      <th>-duck</th>\n",
       "      <th>-i</th>\n",
       "      <th>-it</th>\n",
       "      <th>-the</th>\n",
       "      <th>-they</th>\n",
       "      <th>1</th>\n",
       "      <th>...</th>\n",
       "      <th>à</th>\n",
       "      <th>à ce</th>\n",
       "      <th>à essayer</th>\n",
       "      <th>à la</th>\n",
       "      <th>ça</th>\n",
       "      <th>équipe</th>\n",
       "      <th>était</th>\n",
       "      <th>été</th>\n",
       "      <th>être</th>\n",
       "      <th>‍</th>\n",
       "    </tr>\n",
       "  </thead>\n",
       "  <tbody>\n",
       "    <tr>\n",
       "      <th>0</th>\n",
       "      <td>0.0</td>\n",
       "      <td>0.0</td>\n",
       "      <td>0.0</td>\n",
       "      <td>0.0</td>\n",
       "      <td>0.0</td>\n",
       "      <td>0.0</td>\n",
       "      <td>0.0</td>\n",
       "      <td>0.0</td>\n",
       "      <td>0.0</td>\n",
       "      <td>0.0</td>\n",
       "      <td>...</td>\n",
       "      <td>0.0</td>\n",
       "      <td>0.0</td>\n",
       "      <td>0.0</td>\n",
       "      <td>0.0</td>\n",
       "      <td>0.0</td>\n",
       "      <td>0.0</td>\n",
       "      <td>0.0</td>\n",
       "      <td>0.0</td>\n",
       "      <td>0.0</td>\n",
       "      <td>0.0</td>\n",
       "    </tr>\n",
       "    <tr>\n",
       "      <th>1</th>\n",
       "      <td>0.0</td>\n",
       "      <td>0.0</td>\n",
       "      <td>0.0</td>\n",
       "      <td>0.0</td>\n",
       "      <td>0.0</td>\n",
       "      <td>0.0</td>\n",
       "      <td>0.0</td>\n",
       "      <td>0.0</td>\n",
       "      <td>0.0</td>\n",
       "      <td>0.0</td>\n",
       "      <td>...</td>\n",
       "      <td>0.0</td>\n",
       "      <td>0.0</td>\n",
       "      <td>0.0</td>\n",
       "      <td>0.0</td>\n",
       "      <td>0.0</td>\n",
       "      <td>0.0</td>\n",
       "      <td>0.0</td>\n",
       "      <td>0.0</td>\n",
       "      <td>0.0</td>\n",
       "      <td>0.0</td>\n",
       "    </tr>\n",
       "    <tr>\n",
       "      <th>2</th>\n",
       "      <td>0.0</td>\n",
       "      <td>0.0</td>\n",
       "      <td>0.0</td>\n",
       "      <td>0.0</td>\n",
       "      <td>0.0</td>\n",
       "      <td>0.0</td>\n",
       "      <td>0.0</td>\n",
       "      <td>0.0</td>\n",
       "      <td>0.0</td>\n",
       "      <td>0.0</td>\n",
       "      <td>...</td>\n",
       "      <td>0.0</td>\n",
       "      <td>0.0</td>\n",
       "      <td>0.0</td>\n",
       "      <td>0.0</td>\n",
       "      <td>0.0</td>\n",
       "      <td>0.0</td>\n",
       "      <td>0.0</td>\n",
       "      <td>0.0</td>\n",
       "      <td>0.0</td>\n",
       "      <td>0.0</td>\n",
       "    </tr>\n",
       "    <tr>\n",
       "      <th>3</th>\n",
       "      <td>0.0</td>\n",
       "      <td>0.0</td>\n",
       "      <td>0.0</td>\n",
       "      <td>0.0</td>\n",
       "      <td>0.0</td>\n",
       "      <td>0.0</td>\n",
       "      <td>0.0</td>\n",
       "      <td>0.0</td>\n",
       "      <td>0.0</td>\n",
       "      <td>0.0</td>\n",
       "      <td>...</td>\n",
       "      <td>0.0</td>\n",
       "      <td>0.0</td>\n",
       "      <td>0.0</td>\n",
       "      <td>0.0</td>\n",
       "      <td>0.0</td>\n",
       "      <td>0.0</td>\n",
       "      <td>0.0</td>\n",
       "      <td>0.0</td>\n",
       "      <td>0.0</td>\n",
       "      <td>0.0</td>\n",
       "    </tr>\n",
       "    <tr>\n",
       "      <th>4</th>\n",
       "      <td>0.0</td>\n",
       "      <td>0.0</td>\n",
       "      <td>0.0</td>\n",
       "      <td>0.0</td>\n",
       "      <td>0.0</td>\n",
       "      <td>0.0</td>\n",
       "      <td>0.0</td>\n",
       "      <td>0.0</td>\n",
       "      <td>0.0</td>\n",
       "      <td>0.0</td>\n",
       "      <td>...</td>\n",
       "      <td>0.0</td>\n",
       "      <td>0.0</td>\n",
       "      <td>0.0</td>\n",
       "      <td>0.0</td>\n",
       "      <td>0.0</td>\n",
       "      <td>0.0</td>\n",
       "      <td>0.0</td>\n",
       "      <td>0.0</td>\n",
       "      <td>0.0</td>\n",
       "      <td>0.0</td>\n",
       "    </tr>\n",
       "  </tbody>\n",
       "</table>\n",
       "<p>5 rows × 32713 columns</p>\n",
       "</div>"
      ],
      "text/plain": [
       "          $    +   -PRON-   -duck   -i   -it   -the   -they    1  ...    à  \\\n",
       "0  0.0  0.0  0.0      0.0     0.0  0.0   0.0    0.0     0.0  0.0  ...  0.0   \n",
       "1  0.0  0.0  0.0      0.0     0.0  0.0   0.0    0.0     0.0  0.0  ...  0.0   \n",
       "2  0.0  0.0  0.0      0.0     0.0  0.0   0.0    0.0     0.0  0.0  ...  0.0   \n",
       "3  0.0  0.0  0.0      0.0     0.0  0.0   0.0    0.0     0.0  0.0  ...  0.0   \n",
       "4  0.0  0.0  0.0      0.0     0.0  0.0   0.0    0.0     0.0  0.0  ...  0.0   \n",
       "\n",
       "   à ce  à essayer  à la   ça  équipe  était  été  être    ‍  \n",
       "0   0.0        0.0   0.0  0.0     0.0    0.0  0.0   0.0  0.0  \n",
       "1   0.0        0.0   0.0  0.0     0.0    0.0  0.0   0.0  0.0  \n",
       "2   0.0        0.0   0.0  0.0     0.0    0.0  0.0   0.0  0.0  \n",
       "3   0.0        0.0   0.0  0.0     0.0    0.0  0.0   0.0  0.0  \n",
       "4   0.0        0.0   0.0  0.0     0.0    0.0  0.0   0.0  0.0  \n",
       "\n",
       "[5 rows x 32713 columns]"
      ]
     },
     "execution_count": 14,
     "metadata": {},
     "output_type": "execute_result"
    }
   ],
   "source": [
    "# Instantiate vectorizer object\n",
    "tfidf = TfidfVectorizer(stop_words='english',\n",
    "                        tokenizer=tokenize,\n",
    "                        ngram_range=(1,2),\n",
    "                        min_df=3,\n",
    "                        max_df=0.25)\n",
    "\n",
    "# Create a vocabulary and get word counts per document\n",
    "dtm = tfidf.fit_transform(df['text'])\n",
    "\n",
    "# Get feature names to use as dataframe column headers\n",
    "dtm = pd.DataFrame(dtm.todense(), columns=tfidf.get_feature_names())\n",
    "print(dtm.shape)\n",
    "dtm.head()"
   ]
  },
  {
   "cell_type": "code",
   "execution_count": 15,
   "metadata": {},
   "outputs": [],
   "source": [
    "og_df = df"
   ]
  },
  {
   "cell_type": "code",
   "execution_count": 16,
   "metadata": {},
   "outputs": [
    {
     "name": "stdout",
     "output_type": "stream",
     "text": [
      "(10000, 10000)\n"
     ]
    },
    {
     "data": {
      "text/html": [
       "<div>\n",
       "<style scoped>\n",
       "    .dataframe tbody tr th:only-of-type {\n",
       "        vertical-align: middle;\n",
       "    }\n",
       "\n",
       "    .dataframe tbody tr th {\n",
       "        vertical-align: top;\n",
       "    }\n",
       "\n",
       "    .dataframe thead th {\n",
       "        text-align: right;\n",
       "    }\n",
       "</style>\n",
       "<table border=\"1\" class=\"dataframe\">\n",
       "  <thead>\n",
       "    <tr style=\"text-align: right;\">\n",
       "      <th></th>\n",
       "      <th>0</th>\n",
       "      <th>1</th>\n",
       "      <th>2</th>\n",
       "      <th>3</th>\n",
       "      <th>4</th>\n",
       "      <th>5</th>\n",
       "      <th>6</th>\n",
       "      <th>7</th>\n",
       "      <th>8</th>\n",
       "      <th>9</th>\n",
       "      <th>...</th>\n",
       "      <th>9990</th>\n",
       "      <th>9991</th>\n",
       "      <th>9992</th>\n",
       "      <th>9993</th>\n",
       "      <th>9994</th>\n",
       "      <th>9995</th>\n",
       "      <th>9996</th>\n",
       "      <th>9997</th>\n",
       "      <th>9998</th>\n",
       "      <th>9999</th>\n",
       "    </tr>\n",
       "  </thead>\n",
       "  <tbody>\n",
       "    <tr>\n",
       "      <th>0</th>\n",
       "      <td>1.000000</td>\n",
       "      <td>0.000000</td>\n",
       "      <td>0.019832</td>\n",
       "      <td>0.000000</td>\n",
       "      <td>0.005758</td>\n",
       "      <td>0.012170</td>\n",
       "      <td>0.014579</td>\n",
       "      <td>0.000000</td>\n",
       "      <td>0.008339</td>\n",
       "      <td>0.015154</td>\n",
       "      <td>...</td>\n",
       "      <td>0.000000</td>\n",
       "      <td>0.000000</td>\n",
       "      <td>0.009610</td>\n",
       "      <td>0.016761</td>\n",
       "      <td>0.006772</td>\n",
       "      <td>0.034497</td>\n",
       "      <td>0.000000</td>\n",
       "      <td>0.005112</td>\n",
       "      <td>0.002811</td>\n",
       "      <td>0.016703</td>\n",
       "    </tr>\n",
       "    <tr>\n",
       "      <th>1</th>\n",
       "      <td>0.000000</td>\n",
       "      <td>1.000000</td>\n",
       "      <td>0.021155</td>\n",
       "      <td>0.000000</td>\n",
       "      <td>0.020723</td>\n",
       "      <td>0.014462</td>\n",
       "      <td>0.000000</td>\n",
       "      <td>0.000000</td>\n",
       "      <td>0.000000</td>\n",
       "      <td>0.000000</td>\n",
       "      <td>...</td>\n",
       "      <td>0.008553</td>\n",
       "      <td>0.010277</td>\n",
       "      <td>0.000000</td>\n",
       "      <td>0.000000</td>\n",
       "      <td>0.000000</td>\n",
       "      <td>0.000000</td>\n",
       "      <td>0.000000</td>\n",
       "      <td>0.000000</td>\n",
       "      <td>0.000000</td>\n",
       "      <td>0.003244</td>\n",
       "    </tr>\n",
       "    <tr>\n",
       "      <th>2</th>\n",
       "      <td>0.019832</td>\n",
       "      <td>0.021155</td>\n",
       "      <td>1.000000</td>\n",
       "      <td>0.011055</td>\n",
       "      <td>0.011742</td>\n",
       "      <td>0.005327</td>\n",
       "      <td>0.015274</td>\n",
       "      <td>0.000000</td>\n",
       "      <td>0.040137</td>\n",
       "      <td>0.019198</td>\n",
       "      <td>...</td>\n",
       "      <td>0.019595</td>\n",
       "      <td>0.024657</td>\n",
       "      <td>0.009447</td>\n",
       "      <td>0.023913</td>\n",
       "      <td>0.012910</td>\n",
       "      <td>0.023076</td>\n",
       "      <td>0.002196</td>\n",
       "      <td>0.003462</td>\n",
       "      <td>0.007314</td>\n",
       "      <td>0.065126</td>\n",
       "    </tr>\n",
       "    <tr>\n",
       "      <th>3</th>\n",
       "      <td>0.000000</td>\n",
       "      <td>0.000000</td>\n",
       "      <td>0.011055</td>\n",
       "      <td>1.000000</td>\n",
       "      <td>0.008660</td>\n",
       "      <td>0.029398</td>\n",
       "      <td>0.009750</td>\n",
       "      <td>0.000000</td>\n",
       "      <td>0.007209</td>\n",
       "      <td>0.000000</td>\n",
       "      <td>...</td>\n",
       "      <td>0.000000</td>\n",
       "      <td>0.000000</td>\n",
       "      <td>0.009925</td>\n",
       "      <td>0.000000</td>\n",
       "      <td>0.000000</td>\n",
       "      <td>0.079092</td>\n",
       "      <td>0.000000</td>\n",
       "      <td>0.000000</td>\n",
       "      <td>0.000000</td>\n",
       "      <td>0.054971</td>\n",
       "    </tr>\n",
       "    <tr>\n",
       "      <th>4</th>\n",
       "      <td>0.005758</td>\n",
       "      <td>0.020723</td>\n",
       "      <td>0.011742</td>\n",
       "      <td>0.008660</td>\n",
       "      <td>1.000000</td>\n",
       "      <td>0.018284</td>\n",
       "      <td>0.000000</td>\n",
       "      <td>0.017498</td>\n",
       "      <td>0.012418</td>\n",
       "      <td>0.043243</td>\n",
       "      <td>...</td>\n",
       "      <td>0.006551</td>\n",
       "      <td>0.005064</td>\n",
       "      <td>0.031218</td>\n",
       "      <td>0.000000</td>\n",
       "      <td>0.062136</td>\n",
       "      <td>0.000000</td>\n",
       "      <td>0.010864</td>\n",
       "      <td>0.014155</td>\n",
       "      <td>0.003264</td>\n",
       "      <td>0.031582</td>\n",
       "    </tr>\n",
       "  </tbody>\n",
       "</table>\n",
       "<p>5 rows × 10000 columns</p>\n",
       "</div>"
      ],
      "text/plain": [
       "       0         1         2         3         4         5         6     \\\n",
       "0  1.000000  0.000000  0.019832  0.000000  0.005758  0.012170  0.014579   \n",
       "1  0.000000  1.000000  0.021155  0.000000  0.020723  0.014462  0.000000   \n",
       "2  0.019832  0.021155  1.000000  0.011055  0.011742  0.005327  0.015274   \n",
       "3  0.000000  0.000000  0.011055  1.000000  0.008660  0.029398  0.009750   \n",
       "4  0.005758  0.020723  0.011742  0.008660  1.000000  0.018284  0.000000   \n",
       "\n",
       "       7         8         9     ...      9990      9991      9992      9993  \\\n",
       "0  0.000000  0.008339  0.015154  ...  0.000000  0.000000  0.009610  0.016761   \n",
       "1  0.000000  0.000000  0.000000  ...  0.008553  0.010277  0.000000  0.000000   \n",
       "2  0.000000  0.040137  0.019198  ...  0.019595  0.024657  0.009447  0.023913   \n",
       "3  0.000000  0.007209  0.000000  ...  0.000000  0.000000  0.009925  0.000000   \n",
       "4  0.017498  0.012418  0.043243  ...  0.006551  0.005064  0.031218  0.000000   \n",
       "\n",
       "       9994      9995      9996      9997      9998      9999  \n",
       "0  0.006772  0.034497  0.000000  0.005112  0.002811  0.016703  \n",
       "1  0.000000  0.000000  0.000000  0.000000  0.000000  0.003244  \n",
       "2  0.012910  0.023076  0.002196  0.003462  0.007314  0.065126  \n",
       "3  0.000000  0.079092  0.000000  0.000000  0.000000  0.054971  \n",
       "4  0.062136  0.000000  0.010864  0.014155  0.003264  0.031582  \n",
       "\n",
       "[5 rows x 10000 columns]"
      ]
     },
     "execution_count": 16,
     "metadata": {},
     "output_type": "execute_result"
    }
   ],
   "source": [
    "# Create and fit a NearestNeighbors model named \"nn\"\n",
    "from sklearn.neighbors import NearestNeighbors\n",
    "from sklearn.metrics.pairwise import cosine_similarity\n",
    "\n",
    "# Calculate Distance of TF-IDF Vectors\n",
    "dist_matrix = cosine_similarity(dtm)\n",
    "print(dist_matrix.shape)\n",
    "\n",
    "# Turn it into a DataFrame\n",
    "matrix = pd.DataFrame(dist_matrix)\n",
    "matrix.head()"
   ]
  },
  {
   "cell_type": "code",
   "execution_count": 17,
   "metadata": {},
   "outputs": [
    {
     "data": {
      "text/plain": [
       "(array([[0.        , 1.        , 1.        , 1.24040014, 1.2817619 ,\n",
       "         1.28256456, 1.30552944, 1.31768906, 1.31973027, 1.32710404]]),\n",
       " array([[   0, 6204, 6311, 2131, 3276, 6132, 7063, 9036, 2943, 6019]]))"
      ]
     },
     "execution_count": 17,
     "metadata": {},
     "output_type": "execute_result"
    }
   ],
   "source": [
    "from sklearn.neighbors import NearestNeighbors\n",
    "\n",
    "# Fit on DTM\n",
    "nn = NearestNeighbors(n_neighbors=10, algorithm='kd_tree')\n",
    "nn.fit(dtm)\n",
    "\n",
    "# sample a doc from dtm to use as our query point \n",
    "doc = dtm.iloc[0].values\n",
    "\n",
    "# Query Using kneighbors \n",
    "nn.kneighbors([doc])"
   ]
  },
  {
   "cell_type": "code",
   "execution_count": 18,
   "metadata": {},
   "outputs": [
    {
     "data": {
      "text/plain": [
       "<1x32713 sparse matrix of type '<class 'numpy.float64'>'\n",
       "\twith 49 stored elements in Compressed Sparse Row format>"
      ]
     },
     "execution_count": 18,
     "metadata": {},
     "output_type": "execute_result"
    }
   ],
   "source": [
    "# Create a fake review and find the 10 most similar reviews\n",
    "\n",
    "fake_review = ['''Beautiful new location for Maman near NYU! The outdoor floral decorations are stunning. We sat next to the French windows that I believe open to a porch balcony vibe in the warmer months.\n",
    "\n",
    "The staff was very good about keeping everyone socially distanced and taking peoples temperatures and contact information if contact tracing was needed.\n",
    "\n",
    "My friend and I shared some cookies and baked pastries with the famous Lavendar hot chocolate and earl grey tea.\n",
    "\n",
    "Great service will come again!''']\n",
    "\n",
    "fake_review_vect = tfidf.transform(fake_review)\n",
    "fake_review_vect"
   ]
  },
  {
   "cell_type": "code",
   "execution_count": 19,
   "metadata": {},
   "outputs": [
    {
     "data": {
      "text/plain": [
       "(array([[1.        , 1.        , 1.30421524, 1.31571116, 1.31668318,\n",
       "         1.31751497, 1.32518252, 1.3253673 , 1.32891846, 1.32982072]]),\n",
       " array([[6311, 6204, 6132, 4977, 2779, 4282, 1595, 4720, 3531, 5241]]))"
      ]
     },
     "execution_count": 19,
     "metadata": {},
     "output_type": "execute_result"
    }
   ],
   "source": [
    "review_nn = nn.kneighbors(fake_review_vect.todense())\n",
    "review_nn"
   ]
  },
  {
   "cell_type": "code",
   "execution_count": 20,
   "metadata": {},
   "outputs": [
    {
     "name": "stdout",
     "output_type": "stream",
     "text": [
      "6311 天氣很熱吃不下東西，今天我點了一個韓國冷面湯、餐後點了甜點，冰沙系列不會太甜膩，覺得店家很用心製作，包含擺盤精緻、佐料衛生，夏日想開胃，這是一個不錯的選擇，服務人員也很敬業，以後會常常來\n",
      "\n",
      "6204 旅行でラスベガスに来ましたがネイルがはげてるのが気になり、探したお店でした。\n",
      "質問にも丁寧に答えてくれましたし、日本人の方も日本語が話せる方も居て、とても綺麗で居心地のいいお店でした。 \n",
      "ネイルはちはるさんと言う綺麗な方が丁寧にしてくれとても気に入りました。\n",
      "予定になかったまつ毛エクステもお願いし、日本ではまだあまりないブラウンカラーのエクステをしてもらい、とても気に入りました。\n",
      "また是非マッサージなどで伺いたいと思います。\n",
      "\n",
      "6132 Hi, \n",
      "Update: I went to the location and spoke to the people around, they think there is something fishy going on...if someone is able to get some information, please contact me...my email id is akshayinfy@gmail.com\n",
      "\n",
      "i am not able to contact these people since the last  few days, they have had my car for a while and are not replying to phone calls or emails...i see others also having this problem, does anyone have any contact numbers of any staff member? Someone named Brian owns the place...does anybody have any phone number for this person?????\n",
      "\n",
      "4977 Very cute and cozy little coffee shop/bakery. They even have gelato. Prices are very reasonable and the two gentlemen working were very nice. Though we did not get any desserts they all looked amazing. \n",
      "\n",
      "We were in the area in a cold day and googled the best hot chocolate near us and this place came up. My husband and brother both got the hot chocolate but I got a small cappuccino instead. The hot chocolate (because of course I still had to try it) had a very smooth and creamy texture. They loved it! It also had like a cinnamon flavor in it. It wasn't your basic hot chocolate, it was definitely elevated. The cappuccino was pretty standard. \n",
      "\n",
      "Once ordered there's a little hall that takes you down to a seating area. There a restaurant there but also some couches in front of a fireplace. It was super nice!\n",
      "\n",
      "2779 Just moved to town, needed a new eye doctor. I have keratoconus - a medical condition requiring special contacts, and Associated Ophthalmologists said they had specialists for a variety of different conditions including mine. Additionally, they were one of the only offices that could accommodate me in a timely manner. So I made an appointment, came to see them and agree with the other reviewer that yes, their office is beautiful, they have a huge flat screen TV in the office and nice, friendly office staff. \n",
      "\n",
      "I cannot say the same for the doctor or the insurance billing. \n",
      "\n",
      "I didn't receive my contacts for SEVEN WEEKS because the woman forgot to order them, then had to wait for the doctor to write a report (which apparently took a month), then just DIDN'T call me back. I called weekly for the next 6 weeks and she NEVER ONCE called me back, NEVER APOLOGIZED. Worst, I suffered a painful scratched cornea from wearing my ill-fitting hard contacts for too long and have only been able to see out of my right eye for the last 3 days. \n",
      "\n",
      "When I finally got the office manager to deal with this and I went in to pick up my contacts, she was in the office but didn't come out - not even to apologize. In fact, no one apologized. She told the front office staff to simply let me know \"she hadn't heard back from the insurance company\" about whether they were going to reimburse me for the contacts. The doctor didn't come out to make sure that the new contacts fit properly (as my old doctor used to); I was handed an envelope with the contacts in it and was sent on my way. \n",
      "\n",
      "I called my insurance company immediately upon returning home (rather than yelling at the front office woman whose fault it clearly was not), and I found that no claim was ever filed for the contacts. Instead, Associated Ophthalmologists grossly overcharged my insurance (it could be that my old doctor was undercharging but I'm just not sure how a 20 minute appointment to get a new prescription could cost almost $2000 - and a $30 copay from me, and they're still billing me an additional $50!). Ironically, I paid cash for my special contacts (almost $600) when I was in the office in the beginning of October to get them sooner--she'd originally said 1-2 weeks--instead of waiting for my insurance to cover them. \n",
      "\n",
      "So now I need to find out, on my own, without documentation or a receipt (they failed to give me one), how to get reimbursed from my insurance company for my contacts. \n",
      "\n",
      "I will NOT be going back.\n",
      "\n",
      "Please don't give these people your money, they don't need more expensive paintings for the inside of their Scottsdale offices, or another flat-screen TV for the back room of their office where their insurance staff apparently sits comfortably and ignores patient phone calls.\n",
      "\n",
      "4282 The porch is a really cool place and I imagine it's even nicer during the summer. I had ordered the little piggy pizza (I think it's a special). I'm giving the porch three stars because the service on the day I went was a bit lackluster and the food took a really long time and wasn't all that hot when it arrived. But my pizza was good and I'd definitely give the porch another try!\n",
      "\n",
      "1595 Thank you for a great coffee. For making the hot chocolate warm for my toddler. Will be back for sure!!! Very yummy. Good location. Nice atmosphere!!!\n",
      "\n",
      "4720 Not going to lie, Chatime was the reason I stepped in here.\n",
      "\n",
      "But once I entered, it was like bread heaven! Lots of different breads and pastries, most with an Asian ingredient influence (goji berries, taro, mango, green tea, etc). My favourite was the Earl Gray tea breadstick (a soft bread loaf filled with a fragrant earl gray pastry cream), and the chocolate loaf (was this bread, or a chocolate bar? YUM.)\n",
      "\n",
      "Also tried the mille crepe here, which was decent but kind of expensive at $8 a piece.\n",
      "\n",
      "3531 This place was absolutely stunning! The flowers were well maintained and beautiful. Definitely a must see in Vegas!\n",
      "\n",
      "5241 White Russian = Four Stars, we came during happy hour when they had this cocktail on their happy hour menu. It is rich and creamy and divine. It's so rich that it covers the vodka in the drink. They top everything off with mashmellows. So good!\n",
      "\n",
      "Deeply Rich Dark Hot Chocolate = Four Stars, this is one hot small hot chocolate that you definitely need to share with someone. It is so velvety and rich. It's so chocolatey and creamy. It is certainly chocolate heaven for a chocoholic like myself. \n",
      "\n",
      "Liquor Infused Chocolates = They definitely offer some of the best chocolate around. These chocolate confectionaries are so delightful to savor. You can pick whichever flavor chocolate you want and they will wrap it up with a bow for you. So cute!\n",
      "\n"
     ]
    }
   ],
   "source": [
    "for review_num in review_nn[1][0]:\n",
    "    print(review_num, texts[review_num])\n",
    "    print()"
   ]
  },
  {
   "cell_type": "markdown",
   "metadata": {},
   "source": [
    "## Part 3: Classification\n",
    "<a id=\"#p3\"></a>\n",
    "Your goal in this section will be to predict `stars` from the review dataset. \n",
    "\n",
    "1. Create a piepline object with a sklearn `CountVectorizer` or `TfidfVector` and any sklearn classifier. Use that pipeline to estimate a model to predict `stars`. Use the Pipeline to predict a star rating for your fake review from Part 2. \n",
    "2. Tune the entire pipeline with a GridSearch"
   ]
  },
  {
   "cell_type": "code",
   "execution_count": 21,
   "metadata": {},
   "outputs": [],
   "source": [
    "from sklearn.pipeline import Pipeline\n",
    "from sklearn.feature_extraction.text import TfidfVectorizer\n",
    "from sklearn.neighbors import KNeighborsClassifier\n",
    "from sklearn.model_selection import GridSearchCV"
   ]
  },
  {
   "cell_type": "code",
   "execution_count": 22,
   "metadata": {},
   "outputs": [],
   "source": [
    "from sklearn.svm import LinearSVC\n",
    "\n",
    "# Create Pipeline Components\n",
    "vect = TfidfVectorizer(stop_words='english', \n",
    "                       ngram_range=(1,2),# result lies in 1 word or 2 words\n",
    "                       min_df=2,\n",
    "                       max_df=0.25)\n",
    "svm = LinearSVC()"
   ]
  },
  {
   "cell_type": "code",
   "execution_count": 23,
   "metadata": {},
   "outputs": [
    {
     "data": {
      "text/plain": [
       "Pipeline(memory=None,\n",
       "         steps=[('vect',\n",
       "                 TfidfVectorizer(analyzer='word', binary=False,\n",
       "                                 decode_error='strict',\n",
       "                                 dtype=<class 'numpy.float64'>,\n",
       "                                 encoding='utf-8', input='content',\n",
       "                                 lowercase=True, max_df=0.25, max_features=None,\n",
       "                                 min_df=2, ngram_range=(1, 2), norm='l2',\n",
       "                                 preprocessor=None, smooth_idf=True,\n",
       "                                 stop_words='english', strip_accents=None,\n",
       "                                 sublinear_tf=False,\n",
       "                                 token_pattern='(?u)\\\\b\\\\w\\\\w+\\\\b',\n",
       "                                 tokenizer=None, use_idf=True,\n",
       "                                 vocabulary=None)),\n",
       "                ('clf',\n",
       "                 LinearSVC(C=1.0, class_weight=None, dual=True,\n",
       "                           fit_intercept=True, intercept_scaling=1,\n",
       "                           loss='squared_hinge', max_iter=1000,\n",
       "                           multi_class='ovr', penalty='l2', random_state=None,\n",
       "                           tol=0.0001, verbose=0))],\n",
       "         verbose=False)"
      ]
     },
     "execution_count": 23,
     "metadata": {},
     "output_type": "execute_result"
    }
   ],
   "source": [
    "# Define the Pipeline\n",
    "pipe = Pipeline([\n",
    "    ('vect', vect),      # TF-IDF Vectorizer\n",
    "    ('clf', svm)         # clf: classifier, LinearSVC Classifier\n",
    "])\n",
    "pipe"
   ]
  },
  {
   "cell_type": "code",
   "execution_count": 24,
   "metadata": {},
   "outputs": [],
   "source": [
    "parameters = {\n",
    "    'vect__max_df': (0.3, 0.5),\n",
    "    'clf__C': (0.5, 1.)\n",
    "}\n",
    "\n",
    "gs = GridSearchCV(pipe, parameters, cv=5, n_jobs=1, verbose=1)"
   ]
  },
  {
   "cell_type": "code",
   "execution_count": 25,
   "metadata": {},
   "outputs": [
    {
     "name": "stdout",
     "output_type": "stream",
     "text": [
      "Fitting 5 folds for each of 4 candidates, totalling 20 fits\n"
     ]
    },
    {
     "name": "stderr",
     "output_type": "stream",
     "text": [
      "[Parallel(n_jobs=1)]: Using backend SequentialBackend with 1 concurrent workers.\n",
      "[Parallel(n_jobs=1)]: Done  20 out of  20 | elapsed:   54.6s finished\n"
     ]
    },
    {
     "data": {
      "text/plain": [
       "GridSearchCV(cv=5, error_score=nan,\n",
       "             estimator=Pipeline(memory=None,\n",
       "                                steps=[('vect',\n",
       "                                        TfidfVectorizer(analyzer='word',\n",
       "                                                        binary=False,\n",
       "                                                        decode_error='strict',\n",
       "                                                        dtype=<class 'numpy.float64'>,\n",
       "                                                        encoding='utf-8',\n",
       "                                                        input='content',\n",
       "                                                        lowercase=True,\n",
       "                                                        max_df=0.25,\n",
       "                                                        max_features=None,\n",
       "                                                        min_df=2,\n",
       "                                                        ngram_range=(1, 2),\n",
       "                                                        norm='l2',\n",
       "                                                        preprocessor=None,\n",
       "                                                        smooth_idf=True,\n",
       "                                                        stop_words='english',\n",
       "                                                        stri...\n",
       "                                        LinearSVC(C=1.0, class_weight=None,\n",
       "                                                  dual=True, fit_intercept=True,\n",
       "                                                  intercept_scaling=1,\n",
       "                                                  loss='squared_hinge',\n",
       "                                                  max_iter=1000,\n",
       "                                                  multi_class='ovr',\n",
       "                                                  penalty='l2',\n",
       "                                                  random_state=None, tol=0.0001,\n",
       "                                                  verbose=0))],\n",
       "                                verbose=False),\n",
       "             iid='deprecated', n_jobs=1,\n",
       "             param_grid={'clf__C': (0.5, 1.0), 'vect__max_df': (0.3, 0.5)},\n",
       "             pre_dispatch='2*n_jobs', refit=True, return_train_score=False,\n",
       "             scoring=None, verbose=1)"
      ]
     },
     "execution_count": 25,
     "metadata": {},
     "output_type": "execute_result"
    }
   ],
   "source": [
    "gs.fit(texts, stars)"
   ]
  },
  {
   "cell_type": "code",
   "execution_count": 26,
   "metadata": {},
   "outputs": [
    {
     "data": {
      "text/plain": [
       "0.6188"
      ]
     },
     "execution_count": 26,
     "metadata": {},
     "output_type": "execute_result"
    }
   ],
   "source": [
    "gs.best_score_"
   ]
  },
  {
   "cell_type": "code",
   "execution_count": 27,
   "metadata": {},
   "outputs": [
    {
     "data": {
      "text/plain": [
       "{'clf__C': 0.5, 'vect__max_df': 0.5}"
      ]
     },
     "execution_count": 27,
     "metadata": {},
     "output_type": "execute_result"
    }
   ],
   "source": [
    "gs.best_params_"
   ]
  },
  {
   "cell_type": "code",
   "execution_count": 28,
   "metadata": {},
   "outputs": [],
   "source": [
    "pred = gs.predict(fake_review)"
   ]
  },
  {
   "cell_type": "code",
   "execution_count": 29,
   "metadata": {},
   "outputs": [
    {
     "data": {
      "text/plain": [
       "array([5])"
      ]
     },
     "execution_count": 29,
     "metadata": {},
     "output_type": "execute_result"
    }
   ],
   "source": [
    "pred"
   ]
  },
  {
   "cell_type": "code",
   "execution_count": null,
   "metadata": {},
   "outputs": [],
   "source": []
  },
  {
   "cell_type": "code",
   "execution_count": null,
   "metadata": {},
   "outputs": [],
   "source": []
  },
  {
   "cell_type": "code",
   "execution_count": null,
   "metadata": {},
   "outputs": [],
   "source": []
  },
  {
   "cell_type": "markdown",
   "metadata": {},
   "source": [
    "## Part 4: Topic Modeling\n",
    "\n",
    "Let's find out what those yelp reviews are saying! :D\n",
    "\n",
    "1. Estimate a LDA topic model of the review text\n",
    "    - Keep the `iterations` parameter at or below 5 to reduce run time\n",
    "    - The `workers` parameter should match the number of physical cores on your machine.\n",
    "2. Create 1-2 visualizations of the results\n",
    "    - You can use the most important 3 words of a topic in relevant visualizations. Refer to yesterday's notebook to extract. \n",
    "3. In markdown, write 1-2 paragraphs of analysis on the results of your topic model\n",
    "\n",
    "__*Note*__: You can pass the DataFrame column of text reviews to gensim. You do not have to use a generator."
   ]
  },
  {
   "cell_type": "code",
   "execution_count": 30,
   "metadata": {
    "inputHidden": false,
    "outputHidden": false
   },
   "outputs": [],
   "source": [
    "from gensim.models import LdaMulticore\n",
    "from gensim.corpora import Dictionary"
   ]
  },
  {
   "cell_type": "markdown",
   "metadata": {},
   "source": [
    "Learn the vocubalary of the yelp data:"
   ]
  },
  {
   "cell_type": "code",
   "execution_count": 32,
   "metadata": {},
   "outputs": [],
   "source": [
    "id2word = Dictionary(df['tokens'])"
   ]
  },
  {
   "cell_type": "markdown",
   "metadata": {},
   "source": [
    "Create a bag of words representation of the entire corpus"
   ]
  },
  {
   "cell_type": "code",
   "execution_count": 33,
   "metadata": {
    "inputHidden": false,
    "outputHidden": false
   },
   "outputs": [],
   "source": [
    "corpus = [id2word.doc2bow(text) for text in df['tokens']]"
   ]
  },
  {
   "cell_type": "markdown",
   "metadata": {},
   "source": [
    "Your LDA model should be ready for estimation: "
   ]
  },
  {
   "cell_type": "code",
   "execution_count": 34,
   "metadata": {
    "inputHidden": false,
    "outputHidden": false
   },
   "outputs": [],
   "source": [
    "lda = LdaMulticore(corpus=corpus,\n",
    "                   id2word=id2word,\n",
    "                   iterations=5,\n",
    "                   workers=4,\n",
    "                   num_topics = 5 # You can change this parameter\n",
    "                  )"
   ]
  },
  {
   "cell_type": "markdown",
   "metadata": {},
   "source": [
    "Create 1-2 visualizations of the results"
   ]
  },
  {
   "cell_type": "code",
   "execution_count": 35,
   "metadata": {
    "inputHidden": false,
    "outputHidden": false
   },
   "outputs": [
    {
     "data": {
      "text/html": [
       "\n",
       "<link rel=\"stylesheet\" type=\"text/css\" href=\"https://cdn.rawgit.com/bmabey/pyLDAvis/files/ldavis.v1.0.0.css\">\n",
       "\n",
       "\n",
       "<div id=\"ldavis_el6289140355873077792273669685\"></div>\n",
       "<script type=\"text/javascript\">\n",
       "\n",
       "var ldavis_el6289140355873077792273669685_data = {\"mdsDat\": {\"x\": [-0.005417640532318126, -0.001123555820657943, 0.003540803932467878, 0.0012291420058195917, 0.0017712504146885962], \"y\": [0.001155464118783029, -0.0004500282461166088, 0.002387925710166748, -0.005124802685398194, 0.0020314411025650282], \"topics\": [1, 2, 3, 4, 5], \"cluster\": [1, 1, 1, 1, 1], \"Freq\": [20.884529701117437, 20.274713055950514, 19.830083373794857, 19.72199737564554, 19.288676493491653]}, \"tinfo\": {\"Term\": [\"\", \"order\", \"good\", \"try\", \"service\", \"food\", \"go\", \"feel\", \"experience\", \"wait\", \"look\", \"recommend\", \"want\", \"people\", \"get\", \"room\", \"come\", \"little\", \"eat\", \"call\", \"friendly\", \"place\", \"worth\", \"menu\", \"great\", \"sure\", \"think\", \"like\", \"nail\", \"big\", \"Schwartz\", \"Wrestlemania\", \"chauffeur\", \"Puzzlemaster\", \"BB\", \"SAW\", \"ate\", \"Yeahhhhhhh\", \"\\u8cea\\u554f\\u306b\\u3082\\u4e01\\u5be7\\u306b\\u7b54\\u3048\\u3066\\u304f\\u308c\\u307e\\u3057\\u305f\\u3057\\u3001\\u65e5\\u672c\\u4eba\\u306e\\u65b9\\u3082\\u65e5\\u672c\\u8a9e\\u304c\\u8a71\\u305b\\u308b\\u65b9\\u3082\\u5c45\\u3066\\u3001\\u3068\\u3066\\u3082\\u7dba\\u9e97\\u3067\\u5c45\\u5fc3\\u5730\\u306e\\u3044\\u3044\\u304a\\u5e97\\u3067\\u3057\\u305f\", \"regale\", \"beagle\", \"Roomtastic\", \"Regis\", \"Carousel\", \"\\u4e88\\u5b9a\\u306b\\u306a\\u304b\\u3063\\u305f\\u307e\\u3064\\u6bdb\\u30a8\\u30af\\u30b9\\u30c6\\u3082\\u304a\\u9858\\u3044\\u3057\\u3001\\u65e5\\u672c\\u3067\\u306f\\u307e\\u3060\\u3042\\u307e\\u308a\\u306a\\u3044\\u30d6\\u30e9\\u30a6\\u30f3\\u30ab\\u30e9\\u30fc\\u306e\\u30a8\\u30af\\u30b9\\u30c6\\u3092\\u3057\\u3066\\u3082\\u3089\\u3044\\u3001\\u3068\\u3066\\u3082\\u6c17\\u306b\\u5165\\u308a\\u307e\\u3057\\u305f\", \"jackpot\", \"machaca\", \"stadium\", \"shower\", \"\\u30cd\\u30a4\\u30eb\\u306f\\u3061\\u306f\\u308b\\u3055\\u3093\\u3068\\u8a00\\u3046\\u7dba\\u9e97\\u306a\\u65b9\\u304c\\u4e01\\u5be7\\u306b\\u3057\\u3066\\u304f\\u308c\\u3068\\u3066\\u3082\\u6c17\\u306b\\u5165\\u308a\\u307e\\u3057\\u305f\", \"\\u307e\\u305f\\u662f\\u975e\\u30de\\u30c3\\u30b5\\u30fc\\u30b8\\u306a\\u3069\\u3067\\u4f3a\\u3044\\u305f\\u3044\\u3068\\u601d\\u3044\\u307e\\u3059\", \"meringue\", \"Whew\", \"\\u65c5\\u884c\\u3067\\u30e9\\u30b9\\u30d9\\u30ac\\u30b9\\u306b\\u6765\\u307e\\u3057\\u305f\\u304c\\u30cd\\u30a4\\u30eb\\u304c\\u306f\\u3052\\u3066\\u308b\\u306e\\u304c\\u6c17\\u306b\\u306a\\u308a\\u3001\\u63a2\\u3057\\u305f\\u304a\\u5e97\\u3067\\u3057\\u305f\", \"yuk\", \"Linda\", \"104\", \"Tuna\", \"Mission\", \"Snapper\", \"yummy\", \"room\", \"towel\", \"selection\", \"\", \"bake\", \"arrive\", \"mistake\", \"Mac\", \"love\", \"little\", \"menu\", \"awful\", \"place\", \"refreshing\", \"restaurant\", \"night\", \"great\", \"eat\", \"second\", \"seat\", \"taco\", \"look\", \"time\", \"hotel\", \"call\", \"server\", \"taste\", \"tell\", \"leave\", \"pizza\", \"order\", \"good\", \"come\", \"staff\", \"like\", \"way\", \"bad\", \"$\", \"review\", \"nice\", \"ask\", \"service\", \"amazing\", \"food\", \"say\", \"get\", \"go\", \"price\", \"definitely\", \"find\", \"try\", \"day\", \"want\", \"palmas\", \"fungus\", \"clinical\", \"Hog\", \"Caliente\", \"Harlow\", \"intelligently\", \"Aryon\", \"zombie\", \"Bim\", \"fingernail\", \"HKS\", \"ooze\", \"Blue\", \"Angelo\", \"Brookline\", \"brother\", \"soften\", \"BodyFlo\", \"grub\", \"\\u5929\\u6c23\\u5f88\\u71b1\\u5403\\u4e0d\\u4e0b\\u6771\\u897f\\uff0c\\u4eca\\u5929\\u6211\\u9ede\\u4e86\\u4e00\\u500b\\u97d3\\u570b\\u51b7\\u9762\\u6e6f\\u3001\\u9910\\u5f8c\\u9ede\\u4e86\\u751c\\u9ede\\uff0c\\u51b0\\u6c99\\u7cfb\\u5217\\u4e0d\\u6703\\u592a\\u751c\\u81a9\\uff0c\\u89ba\\u5f97\\u5e97\\u5bb6\\u5f88\\u7528\\u5fc3\\u88fd\\u4f5c\\uff0c\\u5305\\u542b\\u64fa\\u76e4\\u7cbe\\u7dfb\\u3001\\u4f50\\u6599\\u885b\\u751f\\uff0c\\u590f\\u65e5\\u60f3\\u958b\\u80c3\\uff0c\\u9019\\u662f\\u4e00\\u500b\\u4e0d\\u932f\\u7684\\u9078\\u64c7\\uff0c\\u670d\\u52d9\\u4eba\\u54e1\\u4e5f\\u5f88\\u656c\\u696d\\uff0c\\u4ee5\\u5f8c\\u6703\\u5e38\\u5e38\\u4f86\", \"effortlessly\", \"saving\", \"umani\", \"alow\", \"suggestion-\", \"expertly\", \"rapide\", \"lolos\", \"jake\", \"sushi\", \"tidy\", \"plenty\", \"truly\", \"bench\", \"Yum\", \"fantastic\", \"app\", \"get\", \"new\", \"steak\", \"dessert\", \"decide\", \"feel\", \"\", \"like\", \"outside\", \"visit\", \"sauce\", \"customer\", \"spicy\", \"lot\", \"amazing\", \"mind\", \"beer\", \"spend\", \"food\", \"table\", \"fun\", \"place\", \"try\", \"pretty\", \"excellent\", \"delicious\", \"way\", \"price\", \"drink\", \"take\", \"work\", \"want\", \"come\", \"good\", \"great\", \"chicken\", \"time\", \"service\", \"go\", \"nice\", \"order\", \"say\", \"wait\", \"know\", \"eat\", \"$\", \"love\", \"look\", \"day\", \"definitely\", \"Erica\", \"bowler\", \"Joiner\", \"PRICED\", \"8/12/12\", \"tar\", \"Karen\", \"nail\", \"Secret\", \"Dimmi\", \"39.99\", \"blowingly\", \"Moves\", \"washing\", \"Serenity\", \"Shenker\", \"coolant\", \"bookkeepe\", \"Yasmin\", \"Corey\", \"bowling\", \"listen\", \"Rico\", \"Prima\", \"4/6\", \"2700\", \"stance\", \"effectively\", \"sant\\u00e9\", \"McQueen\", \"Victoria\", \"rear\", \"italian\", \"people\", \"sandwich\", \"strip\", \"Saturday\", \"brunch\", \"noon\", \"berry\", \"look\", \"service\", \"2\", \"wedding\", \"want\", \"think\", \"big\", \"ask\", \"bring\", \"potato\", \"go\", \"$\", \"Vegas\", \"know\", \"worth\", \"poor\", \"meal\", \"bar\", \"will\", \"take\", \"menu\", \"expect\", \"well\", \"come\", \"try\", \"great\", \"start\", \"\", \"hour\", \"price\", \"wait\", \"time\", \"staff\", \"good\", \"food\", \"place\", \"order\", \"get\", \"like\", \"experience\", \"friendly\", \"chicken\", \"drink\", \"love\", \"nice\", \"restaurant\", \"Donovan\", \"everrrrr\", \"Convent\", \"imcomplete\", \"SLOW\", \"CHOP\", \"Cary\", \"Coe\", \"Suzzanne\", \"Harter\", \"flu\", \"2min\", \"CTR\", \"Roy\", \"CT\", \"accueil\", \"shiek\", \"Mississippi\", \"livermush\", \"iphone\", \"iep\", \"Barlow\", \"prenatal\", \"IEP\", \"mixologist\", \"hurry\", \"Penn\", \"froide\", \"shipper\", \"ridgeville\", \"order\", \"proceed\", \"weekly\", \"et\", \"experience\", \"raise\", \"doctor\", \"meat\", \"pleased\", \"bank\", \"good\", \"family\", \"tea\", \"thing\", \"honestly\", \"need\", \"try\", \"sure\", \"taste\", \"dish\", \"couple\", \"food\", \"go\", \"work\", \"find\", \"month\", \"live\", \"return\", \"eat\", \"\", \"absolutely\", \"time\", \"highly\", \"quality\", \"wine\", \"like\", \"week\", \"want\", \"know\", \"tell\", \"service\", \"recommend\", \"$\", \"place\", \"great\", \"love\", \"nice\", \"come\", \"get\", \"ask\", \"look\", \"definitely\", \"think\", \"day\", \"restaurant\", \"botanical\", \"Colleen\", \"Merest\", \"CWRU\", \"ist\", \"collaborate\", \"suitemate\", \"insectarium\", \"BB\", \"Mighty\", \"walkthrough\", \"messaging\", \"Panda\", \"knowlagble\", \"gut\", \"slew\", \"chickpea\", \"promoter\", \"Roomtastic\", \"JetBlue\", \"Dental\", \"Berman\", \"mikes\", \"Keri\", \"manchuri\", \"AA\", \"Hummus\", \"butterfly\", \"evidence\", \"-jon\", \"product\", \"hole\", \"shine\", \"mean\", \"mother\", \"recommend\", \"browse\", \"rush\", \"2nd\", \"feel\", \"ice\", \"young\", \"rating\", \"wait\", \"stay\", \"worth\", \"friendly\", \"yum\", \"call\", \"area\", \"rent\", \"offer\", \"upper\", \"come\", \"happy\", \"morning\", \"bit\", \"appointment\", \"couple\", \"delicious\", \"load\", \"service\", \"food\", \"great\", \"fresh\", \"place\", \"good\", \"\", \"time\", \"drink\", \"price\", \"staff\", \"day\", \"say\", \"sauce\", \"find\", \"go\", \"love\", \"get\", \"restaurant\", \"like\", \"nice\", \"tell\", \"definitely\", \"think\", \"$\", \"try\", \"order\"], \"Freq\": [26347.0, 3280.0, 6055.0, 2458.0, 3527.0, 4748.0, 2966.0, 1117.0, 1403.0, 1627.0, 1879.0, 1362.0, 1748.0, 1321.0, 2742.0, 1083.0, 3756.0, 1354.0, 1471.0, 774.0, 1357.0, 5052.0, 615.0, 1219.0, 4104.0, 918.0, 1420.0, 3617.0, 348.0, 703.0, 4.441641117262354, 1.2587323275062448, 1.4772435303263451, 1.1970846861288902, 1.1766648697131767, 1.3953963416339288, 1.3959071363767697, 1.1178668732417372, 0.5863501613800364, 0.583658247357517, 0.5834389183091817, 1.118514222952637, 1.0917899209391162, 1.0893774498367408, 0.5679183082312106, 1.0833915924977375, 2.4343909454294272, 3.8896344808727155, 32.92801796113081, 0.5549579553750325, 0.5526251413373581, 2.8878021241999656, 1.0451304736936158, 0.5435350333440228, 8.245477913797856, 1.9497027418008566, 1.9500589721523147, 9.443362633924398, 2.1570426597521024, 1.019217486305541, 68.31444332426912, 343.58908204408164, 16.967721864019357, 154.84751376657218, 7057.001563402006, 23.93147743190948, 107.14255102173995, 32.873589129920006, 21.93891958511095, 567.5607618065095, 369.9958521966577, 329.4018805653343, 35.721095070480274, 1254.1367351096158, 18.31678837043576, 421.7183713457598, 265.74082524153783, 989.9712523104945, 377.24423106562494, 95.05779257887099, 158.0045063034953, 110.48921643023951, 462.2379177488105, 955.3556682635157, 126.88799725858391, 199.86485941854664, 211.36068201192478, 284.6086085541651, 353.9424469851511, 246.3707349679104, 183.05575188919457, 724.2866133032346, 1215.6407037625281, 792.3127918606117, 353.1405645477886, 754.2926462651683, 264.01035002242213, 277.517338352913, 469.49085636627643, 214.56190410928497, 373.09708914221665, 320.16033429985606, 618.0475637805372, 286.61770973848536, 755.1822025333857, 317.0511937902328, 479.2354442189019, 456.2780224778217, 331.60973612032416, 296.7658606651788, 308.34574728851703, 341.8128573483626, 289.4005495791569, 291.78393011940926, 1.4185797912359397, 2.186938944879816, 1.2514000866027855, 1.2366577966397545, 2.0401900268111812, 1.4252707105278586, 1.1310593146642336, 1.0691650210388846, 2.191894669053647, 1.7912408733098117, 3.1725049875690052, 1.1963986377600393, 2.453850821336453, 10.37474035282603, 1.4681539401513974, 1.0229346506580224, 15.522336395003698, 1.23472653590488, 4.43623655437545, 7.268180272697869, 0.5179363859526457, 0.9930225881279918, 7.266362751154702, 0.9844691895718594, 0.9868167895439476, 0.9858072581540354, 2.2374128245972456, 2.490234682300054, 0.5126978508156493, 0.7218835331308944, 137.72550844143962, 3.1574929512796945, 65.25942285064728, 60.33706729643733, 8.329113323673404, 5.909352751019121, 108.14825259236167, 22.037641606417992, 719.6876005284081, 286.2164252299474, 112.31753788424281, 136.92884225433247, 166.38060381253814, 299.7487576715918, 5975.6994467657205, 900.2594986228941, 108.0313041110285, 226.93713241639153, 229.88822792863243, 275.2047746068643, 90.16845338817674, 264.81698037626563, 317.3817261178413, 70.70345396673726, 152.15598702145212, 95.13588040262502, 1062.2022696898325, 272.58589590344053, 112.80485806216271, 1061.661830235353, 550.3448223915502, 245.7934427202624, 157.8239982723044, 265.0658540238509, 257.0897979103509, 371.1368354995075, 305.467957706777, 316.8355074828101, 319.55747693037193, 369.78925355615485, 696.4292761022289, 1029.4966327429956, 725.2286296567993, 261.53681586418895, 693.8099055536518, 611.4806339208676, 529.9465775319882, 350.42759694949456, 542.4497239902885, 311.08694429197107, 326.4549166226181, 320.4704153117264, 303.3800996231465, 363.9972358460191, 359.91447841273765, 328.407345143279, 298.89142238482134, 290.23034893402024, 4.073853740857129, 1.1800865288008453, 1.1456285267770998, 1.106381452238944, 1.1040851478256073, 2.788602013377197, 1.0946347840571033, 122.58873500914733, 2.052651106164996, 0.9999305485847303, 1.2726535287376142, 0.5429033950958944, 1.0185854851092466, 1.8858236509679935, 1.7160421936942605, 1.1772783476917699, 0.7475606333448422, 1.0115495294630632, 1.714900618464226, 1.4412795051735727, 7.9949855743472655, 43.88123632737526, 1.8580862855392382, 0.995608347454521, 0.9965246142564383, 0.9960148046104987, 0.9998229680383608, 2.1028749667915845, 0.7308545959321769, 1.1944984697851868, 4.839578057550336, 6.673546945600142, 49.02267619027112, 379.7114738506844, 158.29970670409008, 86.13919364281034, 61.069147771684335, 51.58376742792696, 7.532406137184054, 7.451970840432639, 507.67060568165397, 918.4533587644535, 276.54060766220863, 34.0842651386082, 457.64048399533937, 367.88252506036264, 188.42507989513012, 373.8839508448966, 183.1934685551012, 91.0557896000531, 726.5250158100116, 530.9861336699499, 210.8669328305357, 401.1251356266069, 160.33860253340924, 52.23254144942434, 219.54658167247644, 250.6965140285887, 96.89748580257343, 346.1454233583268, 297.5862594084192, 142.12537726293758, 220.40293860632156, 811.3564749884165, 543.7430450057803, 856.4657493597922, 184.86832309032306, 4186.855014831925, 227.96571308750157, 379.5538308614863, 364.63674875713366, 801.0139499769269, 340.89363159902155, 1084.7205788235772, 881.8470884207568, 916.3367959818049, 627.9738059827458, 542.2403614374001, 666.9226886685179, 307.1364083147587, 298.240451355354, 267.57559470311094, 291.1762222261895, 362.7251651557403, 324.58484620583704, 312.788344835782, 2.7862036133662453, 0.6487060553431342, 0.6496113474744958, 1.2386461484617313, 0.6378635748214566, 1.1882060144382867, 1.1409294503061762, 1.0919793852677329, 1.8421496912315531, 1.696461200469762, 1.8019112875084045, 1.0460787941573295, 0.7650274973118557, 0.986262700535988, 1.023285111898181, 1.457059836072693, 1.0184631791398697, 0.7446601998052809, 1.0157892594104196, 1.0095064124095705, 0.7419563310535248, 1.0049721023990226, 0.7386233926663098, 1.1623111833389754, 0.5225354031572673, 14.360444996591205, 4.161417490433113, 0.9923939802539027, 0.9820597453868983, 0.9837296019504234, 1022.5086209336773, 21.934941280810996, 12.869764509555791, 24.55152858298554, 415.3236176309951, 11.780413256120692, 39.07665750638965, 177.80004441092981, 33.18340159129064, 16.05134380859984, 1562.088973483615, 143.21185070878576, 93.4515469701012, 305.58437757827625, 48.909086926575, 351.34247974401376, 622.4390994652597, 242.10892346641901, 289.9370302884334, 215.16376959558355, 113.55367312328202, 1093.8954102730258, 683.8427787046822, 349.8477714171734, 367.6841584389835, 113.76463982997673, 121.85367844568447, 133.29152347786095, 345.6969015892733, 4762.673373002121, 105.19446124695405, 854.571084666465, 131.62927854479128, 158.63247876031375, 108.59539335271725, 710.7044214321827, 151.5656203665206, 370.33955444116424, 346.1960307802456, 316.7852050200308, 643.4931892595833, 291.0420996858437, 423.1630438075367, 831.4638311912033, 697.0009389364553, 405.69809119493954, 344.3712010618204, 613.172304941393, 479.2035422130637, 282.1545141691802, 314.48210595508704, 272.9147752463195, 274.1203163716035, 275.05707170298547, 275.54313956933424, 1.5345624671914644, 1.2333556775470815, 1.129988519414333, 1.1095714594258161, 1.2836187574084283, 1.3362591148430347, 1.0725895856040357, 1.063716469261187, 1.0503603221325049, 1.2832387512516694, 1.0463569143170108, 1.2620593027687603, 1.8624606224232023, 1.0316088735453661, 3.172344038168888, 0.9728866811627476, 1.244072344682172, 2.595730116898575, 1.011635336856212, 1.0199762800747687, 2.3060179194509307, 4.490783350110691, 1.0107218780931517, 2.3878093552441784, 0.5271544475023717, 1.6456127320068505, 2.110978799882914, 0.9941131049137121, 2.262283579325126, 0.9908388190603689, 73.74325999239404, 26.588949267138478, 6.695679236788887, 87.28491738977158, 18.37389684243983, 375.00374766887523, 5.901011970266328, 41.94240290668482, 18.365928959618554, 304.1982017660518, 128.94378123413728, 44.821176012449186, 24.936440492667845, 427.21281365212747, 164.10622798304536, 162.80908181070214, 344.4312225573868, 28.3987773004107, 197.51002597905276, 201.627203141415, 26.728311909855417, 157.53879744267442, 7.862453503711291, 842.8484178574779, 171.2992155560722, 67.27373687763908, 196.26298285992817, 95.34212121568308, 106.52107982338131, 260.13460778243535, 23.859357914596618, 736.1198601560005, 955.7393118593292, 836.1526940216019, 208.71186611187255, 988.6053238262527, 1163.240586197823, 4365.569640584837, 806.1121058785833, 299.20874249621835, 362.32508991977465, 328.27698280278315, 317.2308680597477, 317.13978648786815, 204.00919798205953, 326.655786974309, 570.1157523812014, 423.69617124111494, 521.8156603986993, 336.343422295404, 585.6829570163522, 336.7770248568332, 297.9740993855952, 286.89111216444974, 287.2885909275275, 372.5033210489206, 400.45822776199446, 363.01331378784784], \"Total\": [26347.0, 3280.0, 6055.0, 2458.0, 3527.0, 4748.0, 2966.0, 1117.0, 1403.0, 1627.0, 1879.0, 1362.0, 1748.0, 1321.0, 2742.0, 1083.0, 3756.0, 1354.0, 1471.0, 774.0, 1357.0, 5052.0, 615.0, 1219.0, 4104.0, 918.0, 1420.0, 3617.0, 348.0, 703.0, 10.720065758317668, 3.0607605702851712, 3.711260793131521, 3.063811995985132, 3.084091219576048, 3.7100000908128354, 3.7169734947422937, 3.059941699243103, 1.605406315836776, 1.6070602972546342, 1.607806815599984, 3.084741423191131, 3.0722986339336296, 3.0680703662273405, 1.6057961056915087, 3.066243179220439, 6.9813355188221715, 11.234041906661586, 95.23768744792447, 1.6063929404577606, 1.6071425884720578, 8.462545193384761, 3.0749317003534724, 1.606872954760315, 24.519470588753244, 5.832704739729141, 5.840582231972212, 28.39207713444842, 6.505484295742803, 3.0779230726594893, 208.72383804530227, 1083.079687972028, 53.331703900167035, 512.1289724759761, 26347.799038586607, 76.58613996374967, 359.8693955651421, 107.88916592411198, 71.29107434839621, 2119.5946678110417, 1354.106855280325, 1219.9566065355782, 118.66392879092616, 5052.20451634423, 59.28518652472467, 1619.2883232208465, 993.4333796093782, 4104.819264285144, 1471.8097583373074, 340.48748371900746, 585.349549691552, 403.4038620324071, 1879.7050458223962, 4110.862714339143, 470.17333451049547, 774.5543453991806, 823.2812069706048, 1140.0290268105734, 1463.9108526444593, 994.7906525440683, 722.5376607057653, 3280.232077997794, 6055.187475010539, 3756.119265750128, 1515.846523201786, 3617.862212005115, 1098.7416442737094, 1168.3887769022065, 2160.140590738703, 873.0054778772252, 1729.2577582162016, 1453.6326202475636, 3527.594605881442, 1283.571895439099, 4748.86628277633, 1482.9138280216243, 2742.1826087964737, 2966.708146905705, 1692.828695974568, 1389.4154751859533, 1540.5976517090203, 2458.798051972947, 1460.7793328313787, 1748.9934762109065, 3.0824168819103814, 5.210503444486398, 3.0720943887762244, 3.089097318883644, 5.200528257421026, 3.739915038411625, 3.0942489928484185, 3.0929235615278317, 6.359835879258501, 5.232835554405777, 9.311736875358827, 3.5745950827108213, 7.332756578736421, 31.016915644636338, 4.395390374248445, 3.068326260695704, 46.88140765013353, 3.7319263405496796, 13.642149091388912, 22.40768203127202, 1.6097311883506689, 3.0881024408118467, 22.74325558572833, 3.083588342010408, 3.091472891060872, 3.089331667766039, 7.015798722154723, 7.841386216159602, 1.616030640239532, 2.277211389673483, 449.16339659050055, 9.972172017475724, 213.64984968099589, 201.32822296465284, 26.86980311565724, 19.020636453523174, 379.46797293323425, 73.62386568024975, 2742.1826087964737, 1052.1994389885526, 398.35984743179654, 491.7855578720557, 603.4493491760488, 1117.6922928555607, 26347.799038586607, 3617.862212005115, 395.406148262559, 868.6761801060461, 888.395011879537, 1080.9020924025638, 331.05494949889123, 1052.0324466292057, 1283.571895439099, 256.15021038995764, 585.0414978957036, 354.35792610713264, 4748.86628277633, 1101.9614214651438, 426.2124296848149, 5052.20451634423, 2458.798051972947, 1018.7093849039013, 627.7469578632326, 1127.065864960896, 1098.7416442737094, 1692.828695974568, 1353.5893669428278, 1426.346919580389, 1451.2359087394402, 1748.9934762109065, 3756.119265750128, 6055.187475010539, 4104.819264285144, 1164.831169210332, 4110.862714339143, 3527.594605881442, 2966.708146905705, 1729.2577582162016, 3280.232077997794, 1482.9138280216243, 1627.8134738022095, 1623.8014722894143, 1471.8097583373074, 2160.140590738703, 2119.5946678110417, 1879.7050458223962, 1460.7793328313787, 1389.4154751859533, 10.134819409228738, 3.0991068722017423, 3.099400383453762, 3.0907375037833456, 3.1014644602350137, 7.882130144414935, 3.1068179603189323, 348.53464595422645, 5.889604055108248, 2.940683105313754, 3.7550749404100414, 1.6227919666426256, 3.0921304459810237, 5.738115713029943, 5.235823305865901, 3.592041295435315, 2.282151594893663, 3.093386046981556, 5.251140443567449, 4.417560328317236, 24.52973294415591, 134.63506701566493, 5.733711271675777, 3.0728978213301774, 3.086511480095972, 3.0881721292876647, 3.1000346089720097, 6.556354542702658, 2.28261201436129, 3.7334337420693275, 15.134456156976198, 20.974373697866785, 159.49019348141226, 1321.5738761012833, 541.9997258945002, 295.3071963659366, 208.05623307583235, 175.8408979403323, 24.33771853271632, 24.128851799720774, 1879.7050458223962, 3527.594605881442, 1011.3433123652771, 116.30342185193756, 1748.9934762109065, 1420.2486519530248, 703.016297624463, 1453.6326202475636, 688.7194496420119, 332.95591950897045, 2966.708146905705, 2160.140590738703, 811.3214884767181, 1623.8014722894143, 615.1439818920213, 186.56376760759122, 864.5362476343577, 1001.606766312548, 362.01429456786116, 1426.346919580389, 1219.9566065355782, 548.7448934340865, 890.6571574778528, 3756.119265750128, 2458.798051972947, 4104.819264285144, 737.4073367117859, 26347.799038586607, 938.9673353291981, 1692.828695974568, 1627.8134738022095, 4110.862714339143, 1515.846523201786, 6055.187475010539, 4748.86628277633, 5052.20451634423, 3280.232077997794, 2742.1826087964737, 3617.862212005115, 1403.210810186412, 1357.0722831416788, 1164.831169210332, 1353.5893669428278, 2119.5946678110417, 1729.2577582162016, 1619.2883232208465, 6.407406740379185, 1.620080218646685, 1.62626847742862, 3.101860062445692, 1.6218225089783709, 3.1025892129844546, 3.1079283973045753, 3.090364922201255, 5.236980412927316, 4.929513881328578, 5.251015852334487, 3.110342661454018, 2.2810366312551964, 2.9517921213138076, 3.095590185109426, 4.422060119986871, 3.099135127926412, 2.2758880928134992, 3.113321231083451, 3.1068806762030743, 2.286146212997788, 3.0972019254624588, 2.2851386343254982, 3.6075369213886894, 1.6230306545035469, 44.62248044513599, 12.978286839020472, 3.1015783775950276, 3.10798676340554, 3.11486321248394, 3280.232077997794, 69.58539796304257, 40.839771708480036, 78.51651546684582, 1403.210810186412, 37.53925150196149, 127.66836872912121, 625.1043355937854, 111.4915335484169, 52.909901800852815, 6055.187475010539, 512.5331833858703, 329.5753604116112, 1139.2122817423422, 169.10898441599448, 1321.8405098835146, 2458.798051972947, 918.1675837947059, 1140.0290268105734, 836.9840570771713, 426.23850591612427, 4748.86628277633, 2966.708146905705, 1451.2359087394402, 1540.5976517090203, 434.4178809040701, 471.2027246117464, 520.7615202938681, 1471.8097583373074, 26347.799038586607, 406.26391652272775, 4110.862714339143, 521.6461622831753, 644.9246346567054, 421.49138056772256, 3617.862212005115, 618.4977235092093, 1748.9934762109065, 1623.8014722894143, 1463.9108526444593, 3527.594605881442, 1362.3895255085786, 2160.140590738703, 5052.20451634423, 4104.819264285144, 2119.5946678110417, 1729.2577582162016, 3756.119265750128, 2742.1826087964737, 1453.6326202475636, 1879.7050458223962, 1389.4154751859533, 1420.2486519530248, 1460.7793328313787, 1619.2883232208465, 3.784511813353739, 3.131482089947949, 3.1116864551483645, 3.116425564135998, 3.622248321423357, 3.772558357746331, 3.1193218129360303, 3.1115638604293343, 3.084091219576048, 3.779761842746022, 3.1053529734282805, 3.7801020493463415, 5.604403116010919, 3.1130844753704765, 9.589821886496768, 2.9519593993416824, 3.7748238527312594, 7.9064162743490085, 3.084741423191131, 3.1115016113905334, 7.069417507345342, 13.827355884027678, 3.1151481285274216, 7.383350192247651, 1.6303452477630653, 5.096876390258682, 6.57447653175786, 3.1023393376137296, 7.077802477415057, 3.1128058052888314, 232.2088689892206, 84.81231340159306, 21.344534361828938, 297.56166454620876, 60.68322433304634, 1362.3895255085786, 18.866668366854338, 142.65097811857828, 61.02077458336568, 1117.6922928555607, 461.13251139013937, 153.9371200295614, 84.03934922351283, 1627.8134738022095, 619.4121775850134, 615.1439818920213, 1357.0722831416788, 98.44588064514794, 774.5543453991806, 798.4557305978533, 93.32748762334668, 618.3698468254686, 25.589483877791043, 3756.119265750128, 688.7619792223832, 255.56828906786984, 821.8665880341023, 375.4580325042972, 426.23850591612427, 1127.065864960896, 84.1532733312873, 3527.594605881442, 4748.86628277633, 4104.819264285144, 894.687642643582, 5052.20451634423, 6055.187475010539, 26347.799038586607, 4110.862714339143, 1353.5893669428278, 1692.828695974568, 1515.846523201786, 1460.7793328313787, 1482.9138280216243, 888.395011879537, 1540.5976517090203, 2966.708146905705, 2119.5946678110417, 2742.1826087964737, 1619.2883232208465, 3617.862212005115, 1729.2577582162016, 1463.9108526444593, 1389.4154751859533, 1420.2486519530248, 2160.140590738703, 2458.798051972947, 3280.232077997794], \"Category\": [\"Default\", \"Default\", \"Default\", \"Default\", \"Default\", \"Default\", \"Default\", \"Default\", \"Default\", \"Default\", \"Default\", \"Default\", \"Default\", \"Default\", \"Default\", \"Default\", \"Default\", \"Default\", \"Default\", \"Default\", \"Default\", \"Default\", \"Default\", \"Default\", \"Default\", \"Default\", \"Default\", \"Default\", \"Default\", \"Default\", \"Topic1\", \"Topic1\", \"Topic1\", \"Topic1\", \"Topic1\", \"Topic1\", \"Topic1\", \"Topic1\", \"Topic1\", \"Topic1\", \"Topic1\", \"Topic1\", \"Topic1\", \"Topic1\", \"Topic1\", \"Topic1\", \"Topic1\", \"Topic1\", \"Topic1\", \"Topic1\", \"Topic1\", \"Topic1\", \"Topic1\", \"Topic1\", \"Topic1\", \"Topic1\", \"Topic1\", \"Topic1\", \"Topic1\", \"Topic1\", \"Topic1\", \"Topic1\", \"Topic1\", \"Topic1\", \"Topic1\", \"Topic1\", \"Topic1\", \"Topic1\", \"Topic1\", \"Topic1\", \"Topic1\", \"Topic1\", \"Topic1\", \"Topic1\", \"Topic1\", \"Topic1\", \"Topic1\", \"Topic1\", \"Topic1\", \"Topic1\", \"Topic1\", \"Topic1\", \"Topic1\", \"Topic1\", \"Topic1\", \"Topic1\", \"Topic1\", \"Topic1\", \"Topic1\", \"Topic1\", \"Topic1\", \"Topic1\", \"Topic1\", \"Topic1\", \"Topic1\", \"Topic1\", \"Topic1\", \"Topic1\", \"Topic1\", \"Topic1\", \"Topic1\", \"Topic1\", \"Topic1\", \"Topic1\", \"Topic1\", \"Topic1\", \"Topic1\", \"Topic1\", \"Topic1\", \"Topic1\", \"Topic1\", \"Topic1\", \"Topic1\", \"Topic1\", \"Topic2\", \"Topic2\", \"Topic2\", \"Topic2\", \"Topic2\", \"Topic2\", \"Topic2\", \"Topic2\", \"Topic2\", \"Topic2\", \"Topic2\", \"Topic2\", \"Topic2\", \"Topic2\", \"Topic2\", \"Topic2\", \"Topic2\", \"Topic2\", \"Topic2\", \"Topic2\", \"Topic2\", \"Topic2\", \"Topic2\", \"Topic2\", \"Topic2\", \"Topic2\", \"Topic2\", \"Topic2\", \"Topic2\", \"Topic2\", \"Topic2\", \"Topic2\", \"Topic2\", \"Topic2\", \"Topic2\", \"Topic2\", \"Topic2\", \"Topic2\", \"Topic2\", \"Topic2\", \"Topic2\", \"Topic2\", \"Topic2\", \"Topic2\", \"Topic2\", \"Topic2\", \"Topic2\", \"Topic2\", \"Topic2\", \"Topic2\", \"Topic2\", \"Topic2\", \"Topic2\", \"Topic2\", \"Topic2\", \"Topic2\", \"Topic2\", \"Topic2\", \"Topic2\", \"Topic2\", \"Topic2\", \"Topic2\", \"Topic2\", \"Topic2\", \"Topic2\", \"Topic2\", \"Topic2\", \"Topic2\", \"Topic2\", \"Topic2\", \"Topic2\", \"Topic2\", \"Topic2\", \"Topic2\", \"Topic2\", \"Topic2\", \"Topic2\", \"Topic2\", \"Topic2\", \"Topic2\", \"Topic2\", \"Topic2\", \"Topic2\", \"Topic2\", \"Topic2\", \"Topic2\", \"Topic2\", \"Topic2\", \"Topic3\", \"Topic3\", \"Topic3\", \"Topic3\", \"Topic3\", \"Topic3\", \"Topic3\", \"Topic3\", \"Topic3\", \"Topic3\", \"Topic3\", \"Topic3\", \"Topic3\", \"Topic3\", \"Topic3\", \"Topic3\", \"Topic3\", \"Topic3\", \"Topic3\", \"Topic3\", \"Topic3\", \"Topic3\", \"Topic3\", \"Topic3\", \"Topic3\", \"Topic3\", \"Topic3\", \"Topic3\", \"Topic3\", \"Topic3\", \"Topic3\", \"Topic3\", \"Topic3\", \"Topic3\", \"Topic3\", \"Topic3\", \"Topic3\", \"Topic3\", \"Topic3\", \"Topic3\", \"Topic3\", \"Topic3\", \"Topic3\", \"Topic3\", \"Topic3\", \"Topic3\", \"Topic3\", \"Topic3\", \"Topic3\", \"Topic3\", \"Topic3\", \"Topic3\", \"Topic3\", \"Topic3\", \"Topic3\", \"Topic3\", \"Topic3\", \"Topic3\", \"Topic3\", \"Topic3\", \"Topic3\", \"Topic3\", \"Topic3\", \"Topic3\", \"Topic3\", \"Topic3\", \"Topic3\", \"Topic3\", \"Topic3\", \"Topic3\", \"Topic3\", \"Topic3\", \"Topic3\", \"Topic3\", \"Topic3\", \"Topic3\", \"Topic3\", \"Topic3\", \"Topic3\", \"Topic3\", \"Topic3\", \"Topic3\", \"Topic3\", \"Topic3\", \"Topic3\", \"Topic3\", \"Topic4\", \"Topic4\", \"Topic4\", \"Topic4\", \"Topic4\", \"Topic4\", \"Topic4\", \"Topic4\", \"Topic4\", \"Topic4\", \"Topic4\", \"Topic4\", \"Topic4\", \"Topic4\", \"Topic4\", \"Topic4\", \"Topic4\", \"Topic4\", \"Topic4\", \"Topic4\", \"Topic4\", \"Topic4\", \"Topic4\", \"Topic4\", \"Topic4\", \"Topic4\", \"Topic4\", \"Topic4\", \"Topic4\", \"Topic4\", \"Topic4\", \"Topic4\", \"Topic4\", \"Topic4\", \"Topic4\", \"Topic4\", \"Topic4\", \"Topic4\", \"Topic4\", \"Topic4\", \"Topic4\", \"Topic4\", \"Topic4\", \"Topic4\", \"Topic4\", \"Topic4\", \"Topic4\", \"Topic4\", \"Topic4\", \"Topic4\", \"Topic4\", \"Topic4\", \"Topic4\", \"Topic4\", \"Topic4\", \"Topic4\", \"Topic4\", \"Topic4\", \"Topic4\", \"Topic4\", \"Topic4\", \"Topic4\", \"Topic4\", \"Topic4\", \"Topic4\", \"Topic4\", \"Topic4\", \"Topic4\", \"Topic4\", \"Topic4\", \"Topic4\", \"Topic4\", \"Topic4\", \"Topic4\", \"Topic4\", \"Topic4\", \"Topic4\", \"Topic4\", \"Topic4\", \"Topic4\", \"Topic4\", \"Topic4\", \"Topic4\", \"Topic4\", \"Topic4\", \"Topic5\", \"Topic5\", \"Topic5\", \"Topic5\", \"Topic5\", \"Topic5\", \"Topic5\", \"Topic5\", \"Topic5\", \"Topic5\", \"Topic5\", \"Topic5\", \"Topic5\", \"Topic5\", \"Topic5\", \"Topic5\", \"Topic5\", \"Topic5\", \"Topic5\", \"Topic5\", \"Topic5\", \"Topic5\", \"Topic5\", \"Topic5\", \"Topic5\", \"Topic5\", \"Topic5\", \"Topic5\", \"Topic5\", \"Topic5\", \"Topic5\", \"Topic5\", \"Topic5\", \"Topic5\", \"Topic5\", \"Topic5\", \"Topic5\", \"Topic5\", \"Topic5\", \"Topic5\", \"Topic5\", \"Topic5\", \"Topic5\", \"Topic5\", \"Topic5\", \"Topic5\", \"Topic5\", \"Topic5\", \"Topic5\", \"Topic5\", \"Topic5\", \"Topic5\", \"Topic5\", \"Topic5\", \"Topic5\", \"Topic5\", \"Topic5\", \"Topic5\", \"Topic5\", \"Topic5\", \"Topic5\", \"Topic5\", \"Topic5\", \"Topic5\", \"Topic5\", \"Topic5\", \"Topic5\", \"Topic5\", \"Topic5\", \"Topic5\", \"Topic5\", \"Topic5\", \"Topic5\", \"Topic5\", \"Topic5\", \"Topic5\", \"Topic5\", \"Topic5\", \"Topic5\", \"Topic5\", \"Topic5\", \"Topic5\", \"Topic5\", \"Topic5\", \"Topic5\", \"Topic5\", \"Topic5\", \"Topic5\"], \"logprob\": [30.0, 29.0, 28.0, 27.0, 26.0, 25.0, 24.0, 23.0, 22.0, 21.0, 20.0, 19.0, 18.0, 17.0, 16.0, 15.0, 14.0, 13.0, 12.0, 11.0, 10.0, 9.0, 8.0, 7.0, 6.0, 5.0, 4.0, 3.0, 2.0, 1.0, -10.106200218200684, -11.367199897766113, -11.207099914550781, -11.417400360107422, -11.434599876403809, -11.264100074768066, -11.263699531555176, -11.485799789428711, -12.131099700927734, -12.135700225830078, -12.136099815368652, -11.485300064086914, -11.509400367736816, -11.511699676513672, -12.163000106811523, -11.517200469970703, -10.707599639892578, -10.23900032043457, -8.102899551391602, -12.186100006103516, -12.190299987792969, -10.536800384521484, -11.553099632263184, -12.206899642944336, -9.487600326538086, -10.92959976196289, -10.929400444030762, -9.35200023651123, -10.828499794006348, -11.578200340270996, -7.3730998039245605, -5.757800102233887, -8.765999794006348, -6.554800033569336, -2.7355000972747803, -8.422100067138672, -6.923099994659424, -8.104599952697754, -8.508999824523926, -5.255899906158447, -5.683800220489502, -5.800000190734863, -8.021499633789062, -4.463099956512451, -8.689399719238281, -5.5528998374938965, -6.014699935913086, -4.6996002197265625, -5.664400100708008, -7.042799949645996, -6.534599781036377, -6.892300128936768, -5.46120023727417, -4.735199928283691, -6.754000186920166, -6.299600124359131, -6.24370002746582, -5.946199893951416, -5.728099822998047, -6.090400218963623, -6.387499809265137, -5.0121002197265625, -4.494200229644775, -4.922299861907959, -5.730400085449219, -4.971499919891357, -6.021299839019775, -5.971399784088135, -5.4456000328063965, -6.228700160980225, -5.6753997802734375, -5.828400135040283, -5.1707000732421875, -5.9390997886657715, -4.970300197601318, -5.838200092315674, -5.425099849700928, -5.4741997718811035, -5.793300151824951, -5.904300212860107, -5.866000175476074, -5.763000011444092, -5.929500102996826, -5.921299934387207, -11.218000411987305, -10.785099983215332, -11.343400001525879, -11.355199813842773, -10.854599952697754, -11.213299751281738, -11.444499969482422, -11.500800132751465, -10.782899856567383, -10.984700202941895, -10.413100242614746, -11.388299942016602, -10.670000076293945, -9.228300094604492, -11.183600425720215, -11.545000076293945, -8.825400352478027, -11.356800079345703, -10.077799797058105, -9.584099769592285, -12.225500106811523, -11.574600219726562, -9.584400177001953, -11.58329963684082, -11.580900192260742, -11.581899642944336, -10.762299537658691, -10.65530014038086, -12.235699653625488, -11.893500328063965, -6.642399787902832, -10.417900085449219, -7.3892998695373535, -7.467700004577637, -9.44789981842041, -9.791099548339844, -6.884099960327148, -8.474900245666504, -4.988800048828125, -5.910900115966797, -6.84630012512207, -6.648200035095215, -6.453400135040283, -5.864699840545654, -2.8722000122070312, -4.764900207519531, -6.885200023651123, -6.14300012588501, -6.130000114440918, -5.950099945068359, -7.065999984741211, -5.98859977722168, -5.807499885559082, -7.309100151062012, -6.542699813842773, -7.01230001449585, -4.5995001792907715, -5.959700107574463, -6.8420000076293945, -4.599999904632568, -5.2571001052856445, -6.0630998611450195, -6.506199836730957, -5.98769998550415, -6.018199920654297, -5.651100158691406, -5.845799922943115, -5.809199810028076, -5.8007001876831055, -5.654699802398682, -5.021699905395508, -4.630799770355225, -4.981100082397461, -6.001100063323975, -5.025400161743164, -5.151700019836426, -5.294899940490723, -5.708499908447266, -5.271500110626221, -5.827600002288818, -5.779300212860107, -5.797800064086914, -5.85260009765625, -5.670499801635742, -5.68179988861084, -5.773399829864502, -5.867599964141846, -5.896999835968018, -10.140899658203125, -11.379899978637695, -11.409500122070312, -11.4443998336792, -11.446399688720703, -10.51990032196045, -11.454999923706055, -6.736599922180176, -10.826299667358398, -11.545499801635742, -11.304400444030762, -12.156299591064453, -11.527000427246094, -10.911100387573242, -11.005399703979492, -11.38230037689209, -11.836400032043457, -11.534000396728516, -11.006099700927734, -11.179900169372559, -9.46660041809082, -7.763999938964844, -10.92590045928955, -11.54990005493164, -11.54889965057373, -11.549400329589844, -11.545599937438965, -10.802200317382812, -11.859000205993652, -11.36769962310791, -9.968600273132324, -9.647299766540527, -7.653200149536133, -5.605999946594238, -6.480999946594238, -7.0894999504089355, -7.4334001541137695, -7.602200031280518, -9.526200294494629, -9.536999702453613, -5.3155999183654785, -4.722799777984619, -5.923099994659424, -8.016599655151367, -5.419400215148926, -5.637700080871582, -6.30679988861084, -5.621500015258789, -6.33489990234375, -7.033999919891357, -4.957200050354004, -5.270699977874756, -6.194200038909912, -5.551199913024902, -6.468200206756592, -7.589799880981445, -6.153900146484375, -6.021200180053711, -6.971799850463867, -5.698599815368652, -5.849800109863281, -6.588699817657471, -6.150000095367432, -4.846700191497803, -5.247000217437744, -4.792600154876709, -6.325799942016602, -3.2058000564575195, -6.116300106048584, -5.606500148773193, -5.646599769592285, -4.859600067138672, -5.713900089263916, -4.556399822235107, -4.763400077819824, -4.725100040435791, -5.103000164031982, -5.24970006942749, -5.042799949645996, -5.81820011138916, -5.847599983215332, -5.956099987030029, -5.871500015258789, -5.651800155639648, -5.762899875640869, -5.799900054931641, -10.515299797058105, -11.972800254821777, -11.971400260925293, -11.326000213623047, -11.98960018157959, -11.367500305175781, -11.408100128173828, -11.45199966430664, -10.929100036621094, -11.01140022277832, -10.95110034942627, -11.49489974975586, -11.80780029296875, -11.553799629211426, -11.517000198364258, -11.163599967956543, -11.521699905395508, -11.834799766540527, -11.524299621582031, -11.530500411987305, -11.838500022888184, -11.53499984741211, -11.843000411987305, -11.389599800109863, -12.18910026550293, -8.875499725341797, -10.114100456237793, -11.547599792480469, -11.558099746704102, -11.556400299072266, -4.610000133514404, -8.451899528503418, -8.985099792480469, -8.339200019836426, -5.510900020599365, -9.073599815368652, -7.874499797821045, -6.359300136566162, -8.0378999710083, -8.764200210571289, -4.186200141906738, -6.575699806213379, -7.002500057220459, -5.817800045013428, -7.650000095367432, -5.678199768066406, -5.106299877166748, -6.050600051879883, -5.870299816131592, -6.168600082397461, -6.807700157165527, -4.542500019073486, -5.01230001449585, -5.682499885559082, -5.632800102233887, -6.8059000968933105, -6.737199783325195, -6.647500038146973, -5.694399833679199, -3.0713999271392822, -6.884200096130371, -4.789400100708008, -6.659999847412109, -6.473400115966797, -6.852399826049805, -4.973700046539307, -6.519000053405762, -5.6255998611450195, -5.692999839782715, -5.781799793243408, -5.0731000900268555, -5.866499900817871, -5.492199897766113, -4.816800117492676, -4.993199825286865, -5.53439998626709, -5.698299884796143, -5.121300220489502, -5.3678998947143555, -5.897500038146973, -5.789100170135498, -5.930799961090088, -5.926400184631348, -5.922999858856201, -5.921199798583984, -11.089500427246094, -11.307999610900879, -11.395600318908691, -11.413800239562988, -11.268099784851074, -11.227899551391602, -11.447699546813965, -11.456000328063965, -11.468600273132324, -11.268400192260742, -11.47249984741211, -11.28499984741211, -10.895899772644043, -11.486700057983398, -10.363300323486328, -11.545299530029297, -11.299400329589844, -10.563899993896484, -11.506199836730957, -11.498000144958496, -10.682299613952637, -10.015700340270996, -11.507100105285645, -10.64739990234375, -12.157999992370605, -11.019700050354004, -10.770600318908691, -11.523699760437012, -10.701399803161621, -11.527000427246094, -7.217199802398682, -8.237299919128418, -9.616299629211426, -7.048600196838379, -8.606800079345703, -5.590799808502197, -9.74269962310791, -7.781499862670898, -8.6072998046875, -5.800099849700928, -6.658400058746338, -7.715099811553955, -8.301400184631348, -5.4604997634887695, -6.417300224304199, -6.42519998550415, -5.675899982452393, -8.17140007019043, -6.23199987411499, -6.211400032043457, -8.232099533081055, -6.458099842071533, -9.455699920654297, -4.781000137329102, -6.3744001388549805, -7.309000015258789, -6.23829984664917, -6.960299968719482, -6.849400043487549, -5.956600189208984, -8.345600128173828, -4.916399955749512, -4.655300140380859, -4.789000034332275, -6.176799774169922, -4.621500015258789, -4.458799839019775, -3.1363000869750977, -4.8256001472473145, -5.8165998458862305, -5.625199794769287, -5.723899841308594, -5.7581000328063965, -5.758399963378906, -6.1996002197265625, -5.728899955749512, -5.171899795532227, -5.468800067901611, -5.260499954223633, -5.6996002197265625, -5.144999980926514, -5.698400020599365, -5.820799827575684, -5.858699798583984, -5.8572998046875, -5.597499847412109, -5.525199890136719, -5.623300075531006], \"loglift\": [30.0, 29.0, 28.0, 27.0, 26.0, 25.0, 24.0, 23.0, 22.0, 21.0, 20.0, 19.0, 18.0, 17.0, 16.0, 15.0, 14.0, 13.0, 12.0, 11.0, 10.0, 9.0, 8.0, 7.0, 6.0, 5.0, 4.0, 3.0, 2.0, 1.0, 0.6851, 0.6776, 0.645, 0.6264, 0.6026, 0.5883, 0.5868, 0.5592, 0.5589, 0.5533, 0.5525, 0.5517, 0.5316, 0.5307, 0.5268, 0.5258, 0.5126, 0.5055, 0.5041, 0.5033, 0.4986, 0.491, 0.487, 0.4822, 0.4764, 0.4704, 0.4692, 0.4654, 0.4623, 0.4609, 0.4493, 0.418, 0.4209, 0.37, 0.2488, 0.4029, 0.3546, 0.3777, 0.3877, 0.2485, 0.2688, 0.2569, 0.3656, 0.1728, 0.3916, 0.2208, 0.2475, 0.1439, 0.2048, 0.2903, 0.2566, 0.2711, 0.1634, 0.1069, 0.2564, 0.2115, 0.2064, 0.1785, 0.1464, 0.1705, 0.1932, 0.0557, -0.0395, 0.01, 0.1093, -0.0017, 0.1402, 0.1287, 0.0399, 0.1628, 0.0326, 0.0532, -0.1756, 0.0669, -0.2725, 0.0235, -0.1782, -0.3059, -0.064, 0.0225, -0.0425, -0.407, -0.0528, -0.2246, 0.8197, 0.7276, 0.6977, 0.6803, 0.6601, 0.6311, 0.5894, 0.5336, 0.5306, 0.5238, 0.519, 0.5013, 0.5011, 0.5006, 0.4992, 0.4973, 0.4905, 0.4897, 0.4724, 0.4699, 0.4618, 0.4612, 0.4548, 0.454, 0.4539, 0.4535, 0.453, 0.4488, 0.4478, 0.447, 0.4137, 0.4458, 0.4098, 0.3908, 0.4245, 0.4268, 0.3405, 0.3896, 0.2581, 0.2939, 0.3298, 0.3172, 0.3074, 0.2797, 0.1121, 0.2048, 0.2983, 0.2535, 0.244, 0.2278, 0.2952, 0.2164, 0.1985, 0.3085, 0.249, 0.2808, 0.0982, 0.1989, 0.2665, 0.0358, 0.0989, 0.174, 0.2151, 0.1484, 0.1433, 0.0782, 0.1071, 0.0913, 0.0826, 0.0419, -0.0894, -0.176, -0.1376, 0.102, -0.1834, -0.1567, -0.1266, -0.0005, -0.2038, 0.0341, -0.0109, -0.0269, 0.0165, -0.185, -0.1773, -0.1488, 0.0092, 0.0298, 0.7066, 0.6524, 0.6227, 0.5907, 0.5851, 0.5789, 0.5748, 0.5731, 0.5639, 0.5393, 0.536, 0.523, 0.5075, 0.5052, 0.5025, 0.5025, 0.5019, 0.5002, 0.4989, 0.4979, 0.4969, 0.4969, 0.4912, 0.4909, 0.4874, 0.4864, 0.4864, 0.4808, 0.4791, 0.4784, 0.4778, 0.4728, 0.4383, 0.3708, 0.3872, 0.3859, 0.3922, 0.3916, 0.4452, 0.443, 0.3089, 0.2723, 0.3213, 0.3906, 0.2773, 0.2671, 0.3013, 0.2601, 0.2937, 0.3214, 0.211, 0.2148, 0.2705, 0.2197, 0.2734, 0.3449, 0.2473, 0.2329, 0.2999, 0.202, 0.2071, 0.267, 0.2215, 0.0855, 0.109, 0.0509, 0.2345, -0.2215, 0.2024, 0.1228, 0.1219, -0.0175, 0.1258, -0.1016, -0.0657, -0.0892, -0.0352, -0.0028, -0.073, 0.0987, 0.1028, 0.147, 0.0814, -0.1474, -0.0549, -0.0262, 0.7907, 0.7082, 0.7058, 0.7055, 0.6903, 0.6636, 0.6213, 0.5831, 0.5786, 0.5567, 0.5539, 0.5338, 0.531, 0.5272, 0.5165, 0.5133, 0.5106, 0.5062, 0.5034, 0.4993, 0.4981, 0.4979, 0.494, 0.4908, 0.4901, 0.4897, 0.486, 0.4839, 0.4714, 0.4708, 0.4578, 0.469, 0.4687, 0.4609, 0.406, 0.4645, 0.4395, 0.3662, 0.4115, 0.4306, 0.2685, 0.3484, 0.3631, 0.3076, 0.3829, 0.2984, 0.2497, 0.2904, 0.2543, 0.265, 0.3007, 0.1553, 0.156, 0.2008, 0.1907, 0.2836, 0.271, 0.2607, 0.1747, -0.0871, 0.2722, 0.0526, 0.2464, 0.2209, 0.2673, -0.0039, 0.2172, 0.0711, 0.0779, 0.0928, -0.078, 0.0799, -0.0067, -0.181, -0.1497, -0.0299, 0.0097, -0.1891, -0.1209, -0.0159, -0.1645, -0.004, -0.0216, -0.0463, -0.1476, 0.743, 0.7139, 0.6327, 0.6129, 0.6082, 0.6078, 0.5781, 0.5723, 0.5685, 0.5654, 0.5578, 0.5486, 0.544, 0.5412, 0.5394, 0.5357, 0.5357, 0.5318, 0.5308, 0.5303, 0.5254, 0.521, 0.52, 0.5168, 0.5166, 0.5151, 0.5096, 0.5076, 0.5051, 0.5009, 0.4986, 0.4857, 0.4863, 0.4192, 0.4509, 0.3556, 0.4834, 0.4215, 0.4449, 0.3443, 0.3713, 0.4118, 0.4307, 0.3079, 0.3174, 0.3164, 0.2745, 0.4025, 0.2792, 0.2694, 0.3953, 0.2782, 0.4656, 0.1513, 0.2542, 0.3109, 0.2135, 0.275, 0.259, 0.1795, 0.3852, 0.0787, 0.0425, 0.0545, 0.1901, 0.0144, -0.0041, -0.152, 0.0165, 0.1363, 0.104, 0.1158, 0.1186, 0.1032, 0.1744, 0.0946, -0.0037, 0.0357, -0.0135, 0.074, -0.1752, 0.0096, 0.0538, 0.0681, 0.0476, -0.112, -0.1692, -0.5556]}, \"token.table\": {\"Topic\": [1, 2, 3, 4, 5, 1, 2, 3, 4, 5, 1, 3, 4, 5, 1, 2, 3, 4, 5, 1, 2, 3, 4, 5, 1, 2, 3, 2, 4, 5, 1, 2, 3, 4, 5, 1, 2, 3, 4, 1, 2, 3, 4, 3, 4, 5, 1, 2, 3, 4, 5, 1, 2, 3, 4, 5, 2, 3, 4, 5, 1, 5, 1, 2, 4, 5, 1, 2, 3, 4, 5, 1, 2, 3, 4, 5, 1, 2, 3, 4, 5, 1, 2, 3, 4, 5, 1, 2, 2, 4, 5, 1, 3, 4, 4, 2, 4, 5, 1, 2, 3, 4, 5, 1, 2, 3, 2, 4, 5, 1, 2, 3, 4, 3, 4, 5, 4, 1, 2, 3, 4, 5, 1, 2, 3, 4, 5, 1, 3, 1, 2, 3, 4, 5, 1, 2, 3, 4, 5, 1, 2, 3, 4, 5, 1, 2, 3, 4, 5, 1, 2, 3, 4, 5, 2, 4, 1, 2, 3, 4, 5, 1, 2, 3, 4, 5, 2, 4, 5, 1, 3, 4, 2, 3, 4, 5, 1, 2, 3, 4, 5, 1, 2, 3, 4, 5, 1, 2, 3, 4, 5, 1, 2, 3, 4, 2, 3, 5, 1, 2, 3, 4, 5, 1, 2, 3, 4, 5, 4, 1, 2, 3, 5, 1, 3, 4, 1, 2, 3, 4, 5, 1, 2, 3, 4, 5, 1, 2, 3, 1, 4, 1, 2, 3, 5, 1, 2, 3, 4, 5, 1, 5, 3, 4, 5, 1, 2, 3, 4, 4, 1, 2, 3, 4, 5, 1, 2, 3, 4, 5, 1, 2, 3, 4, 5, 1, 2, 3, 4, 5, 1, 2, 3, 4, 1, 2, 5, 1, 2, 3, 4, 5, 1, 2, 3, 4, 5, 1, 2, 3, 4, 5, 1, 2, 3, 4, 5, 1, 4, 5, 1, 2, 2, 3, 4, 5, 1, 2, 1, 2, 3, 4, 5, 1, 2, 3, 4, 5, 2, 3, 4, 5, 2, 3, 5, 1, 2, 3, 4, 5, 1, 2, 3, 4, 5, 1, 2, 3, 4, 5, 1, 2, 3, 4, 5, 1, 2, 3, 4, 5, 1, 2, 3, 4, 5, 1, 2, 3, 4, 5, 1, 2, 3, 4, 5, 1, 2, 3, 4, 5, 1, 2, 3, 4, 5, 1, 2, 3, 4, 5, 1, 2, 3, 4, 5, 1, 1, 2, 3, 4, 5, 1, 2, 3, 4, 5, 1, 2, 3, 4, 5, 1, 2, 3, 4, 5, 1, 2, 3, 4, 5, 3, 1, 3, 4, 2, 4, 5, 3, 5, 1, 2, 3, 4, 5, 1, 2, 3, 4, 5, 1, 2, 3, 4, 5, 1, 2, 3, 4, 5, 1, 2, 3, 4, 5, 1, 2, 5, 1, 2, 3, 4, 5, 1, 2, 3, 4, 1, 2, 3, 4, 5, 1, 2, 3, 4, 5, 1, 2, 1, 2, 4, 5, 1, 2, 3, 4, 5, 3, 1, 2, 3, 4, 5, 1, 2, 3, 4, 5, 1, 2, 3, 4, 5, 1, 2, 3, 4, 5, 1, 2, 3, 4, 5, 1, 2, 3, 4, 5, 1, 2, 3, 4, 5, 1, 2, 3, 4, 5, 1, 2, 3, 4, 5, 1, 2, 3, 4, 5, 1, 2, 3, 4, 5, 1, 2, 3, 4, 5, 2, 3, 5, 1, 2, 3, 4, 5, 4, 1, 2, 3, 4, 5, 1, 2, 3, 4, 5, 1, 2, 3, 4, 5, 1, 2, 3, 4, 5, 1, 2, 3, 4, 5, 1, 2, 3, 4, 5, 1, 2, 3, 4, 5, 1, 2, 3, 4, 5, 1, 2, 3, 4, 5, 1, 2, 3, 4, 5, 1, 2, 3, 4, 5, 1, 2, 3, 4, 5, 1, 2, 3, 4, 5, 1, 2, 3, 4, 5, 2, 3, 4, 5, 1, 2, 3, 4, 5, 1, 2, 3, 4, 5, 1, 2, 3, 4, 5, 1, 2, 3, 4, 5, 1, 2, 3, 4, 5, 1, 2, 3, 4, 5, 1, 2, 3, 4, 5, 1, 2, 3, 4, 5, 1, 2, 3, 4, 5, 1, 2, 3, 4, 5, 1, 2, 3, 4, 5, 1, 2, 3, 4, 5, 1, 2, 3, 4, 5, 1, 2, 3, 4, 5, 1, 2, 3, 4, 5, 1, 2, 3, 4, 5, 4, 3, 4, 2, 5, 2, 3, 5, 1, 4, 5, 1, 2, 3, 5, 1, 2, 3, 4, 5, 1, 2, 5, 2, 5, 1, 2, 3, 4, 5, 1, 2, 3, 4, 5, 1, 2, 3, 4, 5, 1, 2, 3, 4, 5, 1, 2, 3, 4, 5, 1, 2, 3, 4, 5, 1, 2, 3, 4, 5, 1, 4, 5, 1, 2, 3, 4, 5, 2, 1, 2, 3, 4, 5, 1, 2, 3, 4, 5, 1, 2, 3, 4, 5, 1, 2, 3, 4, 5, 5, 1, 2, 3, 4, 5, 1, 2, 3, 4, 5, 1, 2, 3, 4, 5, 1, 2, 3, 4, 5, 1, 2, 3, 4, 5, 1, 2, 3, 4, 5, 3, 5, 1, 2, 3, 4, 5, 1, 2, 3, 4, 5, 4, 1, 2, 3, 4, 5, 1, 2, 3, 4, 5, 1, 2, 3, 4, 5, 1, 2, 3, 4, 5, 1, 2, 3, 4, 5, 1, 2, 3, 4, 5, 1, 2, 3, 4, 5, 1, 2, 3, 4, 5, 1, 2, 3, 4, 5, 1, 2, 3, 4, 5, 1, 2, 3, 4, 5, 1, 2, 3, 4, 5, 1, 2, 3, 4, 5, 2, 5, 1, 2, 3, 4, 5, 1, 2, 3, 4, 5, 1, 2, 3, 4, 5, 1, 2, 3, 4, 5, 1, 2, 3, 4, 5, 1, 2, 3, 4, 5, 1, 2, 3, 4, 5, 4, 1, 2, 3, 4, 5, 1, 2, 3, 4, 5, 1, 2, 3, 4, 5, 1, 2, 3, 4, 5, 1, 2, 3, 4, 5, 1, 2, 3, 4, 5, 1, 2, 3, 4, 5, 1, 2, 3, 4, 5, 1, 2, 3, 4, 5, 1, 2, 3, 4, 5, 1, 2, 3, 4, 5, 1, 2, 3, 4, 5, 1, 1, 2, 3, 4, 5, 1, 2, 3, 4, 5, 1, 2, 3, 4, 5, 1, 2, 3, 4, 5, 4, 5, 1, 2, 3, 4, 5, 1, 2, 3, 4, 5, 1, 2, 3, 4, 5, 3, 1, 2, 3, 4, 5, 1, 2, 3, 4, 5, 1, 2, 3, 4, 5, 1, 2, 3, 4, 5, 1, 2, 3, 4, 5, 1, 2, 3, 4, 5, 1, 2, 3, 4, 5, 1, 2, 3, 4, 5, 1, 2, 4, 5, 1, 2, 3, 4, 5, 1, 4, 5, 1, 2, 3, 4, 5, 1, 3, 5, 1, 2, 3, 1, 2, 3, 4, 5, 1, 2, 3, 4, 5, 1, 2, 3, 4, 5, 1, 2, 3, 4, 5, 1, 3, 5, 1, 2, 3, 4, 5, 1, 2, 3, 4, 5, 1, 2, 3, 4, 5, 1, 2, 3, 4, 5, 2, 3, 4, 3, 4, 5, 1, 2, 3, 4, 5, 1, 2, 3, 4, 5, 1, 2, 3, 4, 5, 1, 2, 3, 4, 5, 1, 2, 3, 4, 5, 1, 2, 3, 4, 5, 1, 2, 3, 4, 5, 1, 2, 3, 4, 5, 1, 2, 3, 4, 5, 1, 2, 3, 4, 5, 1, 2, 3, 4, 5, 1, 2, 3, 4, 5, 1, 2, 3, 4, 5, 1, 2, 3, 4, 5, 1, 2, 3, 4, 5, 1, 2, 3, 4, 5, 1, 2, 4, 1, 2, 3, 4, 5, 1, 2, 3, 4, 5, 1, 2, 3, 4, 5, 1, 2, 5, 1, 2, 3, 4, 5, 1, 2, 3, 4, 5, 1, 2, 3, 4, 5, 1, 2, 3, 4, 5, 1, 2, 3, 4, 5, 1, 2, 3, 4, 5, 1, 2, 3, 4, 5, 1, 2, 3, 4, 5, 1, 2, 3, 4, 5, 1, 2, 3, 4, 5, 1, 2, 3, 4, 5, 1, 2, 3, 4, 5, 1, 2, 3, 4, 5, 1, 2, 3, 4, 5, 1, 2, 3, 4, 5, 1, 2, 3, 4, 5, 1, 1, 1, 2, 1, 1], \"Freq\": [0.26784020895502336, 0.22681211403078072, 0.158912704392048, 0.18077411297332807, 0.16570644073935553, 0.2171154979498886, 0.16850755064767473, 0.24581733349976725, 0.19582058770320443, 0.17267394613072162, 0.32125357717495384, 0.32125357717495384, 0.32125357717495384, 0.32125357717495384, 0.3424316139325467, 0.17121580696627334, 0.17121580696627334, 0.17121580696627334, 0.17121580696627334, 0.19676799912246332, 0.17501475298832164, 0.2738931445071474, 0.16413812992125082, 0.18984651171614553, 0.3238161469421284, 0.3238161469421284, 0.3238161469421284, 0.32150798443941275, 0.32150798443941275, 0.32150798443941275, 0.16387861459113648, 0.1474907531320228, 0.2130421989684774, 0.18026647605025012, 0.2949815062640456, 0.266306269746724, 0.266306269746724, 0.266306269746724, 0.266306269746724, 0.3239903711516103, 0.3239903711516103, 0.3239903711516103, 0.3239903711516103, 0.32242832791455717, 0.32242832791455717, 0.32242832791455717, 0.19619859761779448, 0.19619859761779448, 0.19619859761779448, 0.19619859761779448, 0.39239719523558897, 0.22751107748216498, 0.22751107748216498, 0.22751107748216498, 0.22751107748216498, 0.22751107748216498, 0.32331869188064366, 0.32331869188064366, 0.32331869188064366, 0.32331869188064366, 0.32424462468962384, 0.32424462468962384, 0.32287207100669907, 0.32287207100669907, 0.32287207100669907, 0.32287207100669907, 0.21696121985732458, 0.1446408132382164, 0.1446408132382164, 0.1446408132382164, 0.2892816264764328, 0.19110097949820948, 0.38220195899641896, 0.19110097949820948, 0.19110097949820948, 0.19110097949820948, 0.1289618879526375, 0.3224047198815937, 0.16120235994079685, 0.22568330391711558, 0.16120235994079685, 0.2199067009092897, 0.2932089345457196, 0.1466044672728598, 0.1466044672728598, 0.0733022336364299, 0.32591058285088065, 0.32591058285088065, 0.3223114409780585, 0.3223114409780585, 0.3223114409780585, 0.3230401765744877, 0.3230401765744877, 0.3230401765744877, 0.43839716833031545, 0.3208804379953934, 0.3208804379953934, 0.3208804379953934, 0.19228815814490086, 0.3845763162898017, 0.19228815814490086, 0.19228815814490086, 0.19228815814490086, 0.32593776564181354, 0.32593776564181354, 0.32593776564181354, 0.321757734466236, 0.321757734466236, 0.321757734466236, 0.3235863806296714, 0.3235863806296714, 0.3235863806296714, 0.3235863806296714, 0.3193376079684434, 0.3193376079684434, 0.3193376079684434, 0.6149046199193097, 0.22636929111977197, 0.22636929111977197, 0.22636929111977197, 0.22636929111977197, 0.22636929111977197, 0.14145437003274589, 0.14145437003274589, 0.14145437003274589, 0.14145437003274589, 0.28290874006549177, 0.340057042594294, 0.340057042594294, 0.15606938040908902, 0.15606938040908902, 0.15606938040908902, 0.46820814122726706, 0.15606938040908902, 0.19733948077839508, 0.19733948077839508, 0.39467896155679016, 0.09866974038919754, 0.09866974038919754, 0.2797519654286668, 0.2797519654286668, 0.2797519654286668, 0.2797519654286668, 0.2797519654286668, 0.2673857533471426, 0.2673857533471426, 0.2673857533471426, 0.2673857533471426, 0.2673857533471426, 0.2028597594151586, 0.2028597594151586, 0.2028597594151586, 0.4057195188303172, 0.2028597594151586, 0.32371916348734064, 0.32371916348734064, 0.15210336445335573, 0.15210336445335573, 0.15210336445335573, 0.15210336445335573, 0.30420672890671147, 0.2771974401900394, 0.2771974401900394, 0.2771974401900394, 0.2771974401900394, 0.2771974401900394, 0.3213882314375852, 0.3213882314375852, 0.3213882314375852, 0.32264305229441437, 0.32264305229441437, 0.32264305229441437, 0.32187273691997853, 0.32187273691997853, 0.32187273691997853, 0.32187273691997853, 0.27087974265394515, 0.13543987132697258, 0.27087974265394515, 0.13543987132697258, 0.27087974265394515, 0.3428940927486201, 0.17144704637431005, 0.17144704637431005, 0.17144704637431005, 0.17144704637431005, 0.3085940308949057, 0.22443202246902233, 0.11221601123451116, 0.16832401685176676, 0.18235101825608066, 0.2678499389802297, 0.2678499389802297, 0.2678499389802297, 0.2678499389802297, 0.3213691399869272, 0.3213691399869272, 0.3213691399869272, 0.264566933474701, 0.264566933474701, 0.264566933474701, 0.264566933474701, 0.264566933474701, 0.3074329149190019, 0.15371645745950094, 0.15371645745950094, 0.15371645745950094, 0.15371645745950094, 0.4393889151042482, 0.32340162146126256, 0.32340162146126256, 0.32340162146126256, 0.32340162146126256, 0.32354737300592773, 0.32354737300592773, 0.32354737300592773, 0.1784311333963743, 0.1784311333963743, 0.1784311333963743, 0.1784311333963743, 0.3568622667927486, 0.1541035442356542, 0.1541035442356542, 0.2311553163534813, 0.3082070884713084, 0.1541035442356542, 0.3254257245583018, 0.3254257245583018, 0.3254257245583018, 0.32639078419642453, 0.32639078419642453, 0.3254891920189562, 0.3254891920189562, 0.3254891920189562, 0.3254891920189562, 0.17440710782559732, 0.17440710782559732, 0.34881421565119464, 0.17440710782559732, 0.17440710782559732, 0.3241762802165476, 0.3241762802165476, 0.3387772440949913, 0.3387772440949913, 0.3387772440949913, 0.2695417723779373, 0.2695417723779373, 0.2695417723779373, 0.2695417723779373, 0.6165902831314918, 0.25954521622199167, 0.16822375125499459, 0.29318996647299056, 0.1586109654689949, 0.12015982232499614, 0.37313203950231477, 0.09328300987557869, 0.09328300987557869, 0.18656601975115739, 0.18656601975115739, 0.16979070080826011, 0.16979070080826011, 0.33958140161652023, 0.16979070080826011, 0.16979070080826011, 0.1909919303196615, 0.1909919303196615, 0.381983860639323, 0.1909919303196615, 0.1909919303196615, 0.2783932359772081, 0.2783932359772081, 0.2783932359772081, 0.2783932359772081, 0.32489440976702083, 0.32489440976702083, 0.32489440976702083, 0.190949730789814, 0.190949730789814, 0.190949730789814, 0.381899461579628, 0.190949730789814, 0.31698984041855116, 0.1761054668991951, 0.1761054668991951, 0.1761054668991951, 0.14088437351935607, 0.15406962810105213, 0.22802304958955716, 0.260069532234576, 0.14913940000181847, 0.2095346942174309, 0.13214878547704564, 0.13214878547704564, 0.33037196369261407, 0.13214878547704564, 0.2642975709540913, 0.3252104753692731, 0.3252104753692731, 0.3252104753692731, 0.3267161795366535, 0.3267161795366535, 0.1904348228250078, 0.3808696456500156, 0.1904348228250078, 0.1904348228250078, 0.3268036120581502, 0.3268036120581502, 0.10514895255408459, 0.3154468576622538, 0.21029790510816918, 0.21029790510816918, 0.1577234288311269, 0.19199342306255845, 0.19937778548804147, 0.17230178992793707, 0.2584526848919056, 0.1796861523534201, 0.22613894267972298, 0.22613894267972298, 0.22613894267972298, 0.22613894267972298, 0.3234704088434815, 0.3234704088434815, 0.3234704088434815, 0.22359479902901716, 0.2469670776731653, 0.17607116578591597, 0.19009453297240483, 0.162826874554232, 0.1494080743841035, 0.298816148768207, 0.16299062660084018, 0.17657317881757686, 0.2173208354677869, 0.17045846528604366, 0.13583408952481604, 0.26101452496925437, 0.17844870584632697, 0.25302428440897107, 0.15655219846240537, 0.17659087986559324, 0.23795934166285615, 0.175338462277894, 0.25298835271524706, 0.29733009063459326, 0.1778422972019997, 0.14171808058284352, 0.17228472541443723, 0.20840894203359342, 0.2201381528886589, 0.16854327330537947, 0.2572864661886201, 0.19399674723313065, 0.1596001608442777, 0.26903608578713645, 0.26903608578713645, 0.26903608578713645, 0.26903608578713645, 0.26903608578713645, 0.3033777860450614, 0.16011605374600463, 0.2106790180868482, 0.1516888930225307, 0.1769703751929525, 0.2379345004811429, 0.17459941761925593, 0.2062669590501994, 0.17802293561179036, 0.2036993205557986, 0.31337262866831855, 0.15668631433415928, 0.20891508577887904, 0.16974350719533923, 0.15668631433415928, 0.13230037784510068, 0.20790059375658676, 0.1512004318229722, 0.3024008636459444, 0.18900053977871525, 0.21665189103992724, 0.17471926696768325, 0.25059734862222, 0.16872889210021982, 0.1896952041363418, 0.6219652698927207, 0.19143941139704662, 0.25981062975313474, 0.19998581369155766, 0.1589630826779048, 0.18973013093814442, 0.18608249485410117, 0.29773199176656184, 0.11164949691246069, 0.22329899382492138, 0.18608249485410117, 0.16577664089454472, 0.20722080111818092, 0.29010912156545327, 0.12433248067090855, 0.16577664089454472, 0.2275907408415, 0.2275907408415, 0.2674191204887625, 0.12090758107204687, 0.15646863432853125, 0.17886114624956675, 0.22631410341781916, 0.17399417628359215, 0.18129463123255407, 0.23848152833275568, 0.6162219314339396, 0.32327035320268976, 0.32327035320268976, 0.32327035320268976, 0.2642348734310926, 0.2642348734310926, 0.5284697468621852, 0.3226736092807138, 0.3226736092807138, 0.12230055691310474, 0.20383426152184123, 0.32613481843494596, 0.24460111382620947, 0.16306740921747298, 0.1814962537575692, 0.13358124276557093, 0.2657105155010813, 0.21198762438884083, 0.20763171429865918, 0.17064334031312334, 0.3412866806262467, 0.19197375785226375, 0.17064334031312334, 0.14931292277398292, 0.15901058637732304, 0.15901058637732304, 0.15901058637732304, 0.21201411516976407, 0.3180211727546461, 0.16492181477508439, 0.18198269216561036, 0.2957218747691168, 0.17629573303543503, 0.18198269216561036, 0.32233740128801774, 0.32233740128801774, 0.32233740128801774, 0.25821299846549356, 0.1161958493094721, 0.1884954888798103, 0.18204016391817296, 0.2556308684808386, 0.2694502099800459, 0.2694502099800459, 0.2694502099800459, 0.2694502099800459, 0.20088748153831976, 0.2249252998420503, 0.23007626090713545, 0.1691232216369615, 0.17513267621289413, 0.2649130234981571, 0.2649130234981571, 0.2649130234981571, 0.2649130234981571, 0.2649130234981571, 0.32551083184600726, 0.32551083184600726, 0.2650721089434346, 0.2650721089434346, 0.2650721089434346, 0.2650721089434346, 0.21085592441693438, 0.18529763054821505, 0.2159143367451184, 0.1632003556408848, 0.2244337680346915, 0.4381829858443716, 0.15484288510758706, 0.19003444990476595, 0.13842015486890358, 0.2674558924585595, 0.251033162219876, 0.18780609402724338, 0.25441712245069914, 0.21463553603113528, 0.16560241788609145, 0.1776294091292154, 0.19783960075601642, 0.20468526168183013, 0.19167850592278407, 0.18825567545987723, 0.21700745134829483, 0.17731397033752386, 0.27508522500961646, 0.20879962862175708, 0.16074257124055902, 0.17731397033752386, 0.21375895497367398, 0.2087208651258096, 0.17489369043300598, 0.19648550406671042, 0.20656168376243916, 0.20052066789179276, 0.23512379199701364, 0.16680480337901346, 0.16680480337901346, 0.23068749403480585, 0.19520703376363815, 0.2785767044335253, 0.1362382423142058, 0.22367472618750206, 0.1647059347380697, 0.18518871260376796, 0.21744739157345658, 0.13381377942981942, 0.25687466586974267, 0.20669449858356037, 0.1566558748975226, 0.21931822485653166, 0.14882308115264647, 0.30547895605016906, 0.16448866864239875, 0.1898655576620343, 0.22532682913198623, 0.2149839582865836, 0.1477552977914664, 0.22089417019824226, 0.2561472349700237, 0.2058689978671543, 0.12841333530327445, 0.23508473023774054, 0.17461495858699225, 0.1525237833748662, 0.1525237833748662, 0.3050475667497324, 0.1525237833748662, 0.1525237833748662, 0.3238234544243633, 0.3238234544243633, 0.3238234544243633, 0.1400979135993985, 0.16557026152656185, 0.1910426094537252, 0.318404349089542, 0.1910426094537252, 0.6172533856597164, 0.2825735821792016, 0.1412867910896008, 0.1412867910896008, 0.1412867910896008, 0.2825735821792016, 0.1720438444936757, 0.2516937725000071, 0.19275282577532188, 0.19115982721519525, 0.19275282577532188, 0.23508191428025574, 0.17494468039460892, 0.258772339750359, 0.1384978719790654, 0.1931680846023807, 0.18457668521353018, 0.1539326795603186, 0.21878394733804543, 0.2957502871182047, 0.14680616661771126, 0.14253544601303436, 0.2850708920260687, 0.14253544601303436, 0.14253544601303436, 0.14253544601303436, 0.15218526824881937, 0.19901150463307146, 0.15803854779685086, 0.2790063251228355, 0.2107180637291345, 0.12122235150552087, 0.2846089991868751, 0.21609201790114588, 0.16075137917036464, 0.21872728641213549, 0.16551961678768373, 0.2684101893854331, 0.17804542562567063, 0.11631108206702101, 0.2719889919105722, 0.199922413005322, 0.16616927834208584, 0.18304584567370394, 0.2388683376167484, 0.2122552891322737, 0.10739135065620774, 0.32217405196862325, 0.21478270131241547, 0.21478270131241547, 0.10739135065620774, 0.19043934128582413, 0.19043934128582413, 0.19043934128582413, 0.38087868257164825, 0.19043934128582413, 0.158985314608312, 0.22363232332983754, 0.18572853971461084, 0.2303707737503223, 0.20131120631198182, 0.16989169488345382, 0.1732448204403641, 0.1989521163766762, 0.22465941231298828, 0.233601080464749, 0.17979882356386342, 0.1761144214416531, 0.21959036648373484, 0.1702193780461166, 0.25348686600806974, 0.3224164854977493, 0.3224164854977493, 0.3224164854977493, 0.3224164854977493, 0.19943106788991982, 0.26512600790071694, 0.1876998286022775, 0.15954485431193588, 0.1876998286022775, 0.19192003434105215, 0.3838400686821043, 0.19192003434105215, 0.19192003434105215, 0.19192003434105215, 0.1746783742495654, 0.26256457089705026, 0.1976527742030573, 0.1746783742495654, 0.19035931390036145, 0.15370571603937883, 0.17864918750190958, 0.2450527534224307, 0.23055857405906824, 0.19213214504922352, 0.2008195460534248, 0.16993693494159057, 0.17918520350984038, 0.25796063399296837, 0.19206672044418838, 0.2411799244399641, 0.17662166183734745, 0.20853536901071645, 0.16980041144914645, 0.20366304730485857, 0.17851020888361524, 0.31239286554632667, 0.13388265666271143, 0.17851020888361524, 0.17851020888361524, 0.20855444696174796, 0.20855444696174796, 0.20855444696174796, 0.10427722348087398, 0.31283167044262195, 0.2119745346060405, 0.17277376450766313, 0.20761889348399856, 0.15970684114153735, 0.2482715439563899, 0.16102869353498792, 0.17253074307320132, 0.18978381738052147, 0.2530450898406953, 0.22428996599516174, 0.15327962979200868, 0.17686111129847154, 0.20044259280493443, 0.15327962979200868, 0.3183500003372488, 0.1537470057536511, 0.20696712312991494, 0.1537470057536511, 0.28975397238188094, 0.1951404303796341, 0.270113149084096, 0.1531350136539757, 0.1744037655503612, 0.17653064073999974, 0.22757564529132498, 0.15868496633885693, 0.18424496091692785, 0.2428199484916737, 0.21832495368768906, 0.19595995843187702, 0.17928183104558967, 0.17928183104558967, 0.17928183104558967, 0.3137432043297819, 0.15687160216489096, 0.20601453520076277, 0.16914877627009994, 0.17131735032484482, 0.17348592437958968, 0.2797460530620884, 0.43741734203811733, 0.32238720634339, 0.32238720634339, 0.32138180183839127, 0.32138180183839127, 0.323180197298682, 0.323180197298682, 0.323180197298682, 0.32186623955642296, 0.32186623955642296, 0.32186623955642296, 0.2760716304527271, 0.2760716304527271, 0.2760716304527271, 0.2760716304527271, 0.12539955945523945, 0.16928940526457326, 0.30722892066533664, 0.17555938323733522, 0.22571920701943102, 0.3261319933059712, 0.3261319933059712, 0.3261319933059712, 0.43913358440710437, 0.43913358440710437, 0.1699715172759788, 0.1970684258272218, 0.24695137111473733, 0.21308023542568358, 0.17243487259881907, 0.32122481992108287, 0.32122481992108287, 0.32122481992108287, 0.32122481992108287, 0.32122481992108287, 0.24728821020873276, 0.19903685211922395, 0.1909949591043058, 0.18898448585057626, 0.17390593644760474, 0.20841036938831156, 0.24876569290382017, 0.18436301907427563, 0.19652489739401793, 0.1619741067129318, 0.14854970880411847, 0.17083216512473623, 0.32680935936906064, 0.2228245632061777, 0.13369473792370662, 0.2732428379320207, 0.12923647740028005, 0.21120932877988627, 0.18314655083011117, 0.20234739890100992, 0.17826722048182742, 0.1400671018071501, 0.23132294086332367, 0.2589119154617017, 0.1910005933733865, 0.3212003920494883, 0.3212003920494883, 0.3212003920494883, 0.23766158116352454, 0.19012926493081964, 0.11883079058176227, 0.16636310681446717, 0.2851938973962294, 0.618800148400514, 0.24578324191169515, 0.17449546179012124, 0.2702551664310414, 0.1670474847624941, 0.1420435618840316, 0.20436632034389893, 0.25189337158666614, 0.1948609100953455, 0.18820712292135808, 0.1606414332005531, 0.26797576377496163, 0.1698437939418771, 0.17125915889139273, 0.19154605650111695, 0.20003824619821078, 0.2864781379734378, 0.2864781379734378, 0.1432390689867189, 0.1432390689867189, 0.1432390689867189, 0.6133670162022811, 0.1931671464984428, 0.1607798404987039, 0.2544716899979486, 0.21630093649825632, 0.17581680399858268, 0.15458980601601183, 0.2587698926789763, 0.13442591827479292, 0.15795045397288165, 0.29237637224767454, 0.2175636805827204, 0.1727711581098074, 0.15357436276427322, 0.28475246429208995, 0.17117142516434622, 0.269681723298578, 0.1819736856300435, 0.24427098341330167, 0.166399361184229, 0.13852951743908717, 0.3545032766672991, 0.1181677588890997, 0.1181677588890997, 0.2363355177781994, 0.1181677588890997, 0.2645431226315493, 0.2645431226315493, 0.2645431226315493, 0.2645431226315493, 0.2645431226315493, 0.321012022138644, 0.321012022138644, 0.1444464946707324, 0.2771811113951892, 0.21862172166381122, 0.1795821285095592, 0.1834860878249844, 0.30586945146291916, 0.15756911135968563, 0.1761066538725898, 0.1761066538725898, 0.1853754251290419, 0.6161313079486354, 0.16804096518329123, 0.2209853788711775, 0.1933622065122803, 0.2624201374095233, 0.15653131003375073, 0.2191195167610501, 0.11738545540770541, 0.2191195167610501, 0.1799910316251483, 0.26216085041054205, 0.18126920777361719, 0.14831116999659588, 0.16479018888510655, 0.19774822666212785, 0.29662233999319176, 0.17788762385516918, 0.17788762385516918, 0.3529060924868679, 0.16067269251434638, 0.13485029550311212, 0.19972152315354946, 0.18988675118007922, 0.18383458381178985, 0.2655388432836964, 0.1603824352596685, 0.16821905946855922, 0.2718115876158641, 0.19863154479620837, 0.1967307644632303, 0.16346710863611405, 0.215699480443427, 0.202398976287398, 0.18794190655258386, 0.1989292795510426, 0.19488130002529463, 0.26775826689515125, 0.18420963474365668, 0.2093748853916972, 0.14998489386232156, 0.1892426848732648, 0.16435394281608376, 0.2054424285201047, 0.3287078856321675, 0.2054424285201047, 0.16435394281608376, 0.1892071558803264, 0.2102301732003627, 0.19082431105879075, 0.15686405231103984, 0.25551051819736387, 0.13637436198275107, 0.27274872396550215, 0.13637436198275107, 0.13637436198275107, 0.13637436198275107, 0.22071609044257595, 0.16523221135342012, 0.19144986850543882, 0.3118681775176177, 0.11066290169979982, 0.1871493408111152, 0.27313687577838436, 0.17956220537282674, 0.1972655213954998, 0.1618588893501537, 0.324420751089396, 0.324420751089396, 0.21035524765374108, 0.19295175594138123, 0.2875359500302936, 0.1528480576476824, 0.1558747518585276, 0.25327399518697474, 0.14532114477941174, 0.21036965720448175, 0.17992141734593833, 0.21175366810714283, 0.24820847927735776, 0.2102052671391977, 0.18130699124247185, 0.16448265253547392, 0.19575612919083477, 0.15247794571430387, 0.19732440033615795, 0.18835510941178712, 0.2959866005042369, 0.1704165275630455, 0.14977777914554927, 0.3042361138893969, 0.18722222393193658, 0.2574305579064128, 0.0982916675642667, 0.17152312268536074, 0.1608029275175257, 0.27872507436371124, 0.19296351302103085, 0.19296351302103085, 0.18921423620553068, 0.19221763678022166, 0.27330945229687764, 0.16819043218269394, 0.17720063390676685, 0.4376102110300056, 0.2110513588919982, 0.24148201994154211, 0.21006972466459356, 0.18651050320688212, 0.15019003679291035, 0.19612143909745475, 0.21915980091914372, 0.22447634595491808, 0.1465003520968939, 0.21384325588336933, 0.14370831083428007, 0.18682080408456408, 0.15807914191770808, 0.31615828383541617, 0.2155624662514201, 0.18948457994531867, 0.15933930586310888, 0.1980975153973786, 0.13350049950692905, 0.31867861172621775, 0.12647955347915665, 0.12647955347915665, 0.2529591069583133, 0.12647955347915665, 0.37943866043747, 0.14420289597016878, 0.22793360975929905, 0.17676484022149722, 0.24654043504577244, 0.2062256469250801, 0.1598327020368664, 0.1598327020368664, 0.18647148570967748, 0.3196654040737328, 0.1598327020368664, 0.12752847168006987, 0.25505694336013973, 0.25505694336013973, 0.12752847168006987, 0.12752847168006987, 0.15468944155463324, 0.19038700499031783, 0.15468944155463324, 0.2022861928022127, 0.2974796952973716, 0.19070891258158632, 0.19070891258158632, 0.33374059701777603, 0.19070891258158632, 0.14303168443618974, 0.15707695632797383, 0.18203310826793231, 0.17175704570442, 0.21359530042729152, 0.2752516758083654, 0.3036171606290412, 0.2024114404193608, 0.18554382038441408, 0.1518085803145206, 0.1518085803145206, 0.6222541877914073, 0.18215426593940906, 0.1607243522994786, 0.20358417957933955, 0.1607243522994786, 0.28930383413906147, 0.260608314126925, 0.1685925823617311, 0.1932947922315818, 0.1704452481019699, 0.20749856290674595, 0.18818594727332802, 0.19394674157761357, 0.19586700634570875, 0.25539521415665944, 0.167063034824281, 0.24627565971611973, 0.23253004149940606, 0.18671131411036054, 0.19587505958816964, 0.13974711853658886, 0.32104138505734015, 0.32104138505734015, 0.3176128255568248, 0.17819556782693952, 0.17265580924164606, 0.1394172577298853, 0.19296825738772205, 0.14721245011403847, 0.2173136168350092, 0.20329338349081505, 0.1402023334419414, 0.29442490022807694, 0.18819197709309213, 0.19557205462615457, 0.29151306255596626, 0.18450193832656092, 0.1402214731281863, 0.4380946011448273, 0.15871318289112485, 0.2588938444323313, 0.15871318289112485, 0.19473319602953618, 0.22962758375737213, 0.21984539465570446, 0.3077835525179862, 0.17587631572456358, 0.17587631572456358, 0.17587631572456358, 0.2137683215368718, 0.20972223343207297, 0.18612005282074642, 0.17600483255874932, 0.2137683215368718, 0.26992418475978597, 0.193047043530733, 0.16742132978771535, 0.17937999620112358, 0.18963028169833063, 0.27901172449087797, 0.14978524156878711, 0.22027241407174575, 0.16153310365261356, 0.19090275886217964, 0.3026581356071805, 0.14449485183826685, 0.16011591690186325, 0.2030738458267534, 0.18940541389610654, 0.2562915298120412, 0.19070033260895955, 0.22713988661067155, 0.16154868940758993, 0.16397799300770408, 0.1751901987177407, 0.17320584371608344, 0.26023398450305174, 0.18227718086651662, 0.20864075445996302, 0.3226706673707016, 0.3226706673707016, 0.3226706673707016, 0.3226706673707016, 0.14055120384190664, 0.1874016051225422, 0.1874016051225422, 0.1874016051225422, 0.32795280896444884, 0.32175169205169385, 0.32175169205169385, 0.32175169205169385, 0.34650148364894146, 0.17850076430400016, 0.1575006743858825, 0.17850076430400016, 0.14700062942682365, 0.33875804668011705, 0.33875804668011705, 0.33875804668011705, 0.26795812905908234, 0.26795812905908234, 0.26795812905908234, 0.1467442835870952, 0.26809051809180856, 0.2201164253806428, 0.2003623872054569, 0.1664983217622811, 0.1631149151575541, 0.2718581919292568, 0.18123879461950454, 0.17821814804251282, 0.2054039672354385, 0.35606062655223597, 0.17803031327611799, 0.17803031327611799, 0.17803031327611799, 0.17803031327611799, 0.23287317983511277, 0.18075708576436517, 0.22495681111550556, 0.14513342652613262, 0.2163807450025977, 0.3225770438516511, 0.3225770438516511, 0.3225770438516511, 0.15730790056586913, 0.21968861975578277, 0.2508789793507396, 0.1857860549786558, 0.18714215756974087, 0.18888876298196755, 0.13884131296110436, 0.21471970492821954, 0.19211763072524907, 0.26476715494908276, 0.1782308143195982, 0.2811528338562676, 0.1732102280007363, 0.18325140063846013, 0.1857616937978911, 0.12529325548216785, 0.2065645563354659, 0.2912221613909847, 0.2133371647399074, 0.16254260170659612, 0.3236946069708084, 0.3236946069708084, 0.3236946069708084, 0.32058250477810113, 0.32058250477810113, 0.32058250477810113, 0.23198379441767017, 0.16554712089899468, 0.13614072442351535, 0.26356844248392575, 0.20366652373757896, 0.1892407098290201, 0.30723785831064443, 0.14916620657111, 0.14471348398689773, 0.2115043227500813, 0.2032739038197676, 0.24774007028034173, 0.19964401268012888, 0.19964401268012888, 0.14973300951009666, 0.27267959073521025, 0.24293272629136914, 0.15617103833016588, 0.16856556518176635, 0.15864994370048596, 0.17597401905129828, 0.22224607186956793, 0.24257773144123188, 0.1829849361449755, 0.17597401905129828, 0.12686925763444454, 0.2537385152688891, 0.38060777290333364, 0.12686925763444454, 0.12686925763444454, 0.24999363463344115, 0.17367978827165387, 0.16315374049761425, 0.2543794878726243, 0.15876788725843105, 0.16688140743079138, 0.20329189632478223, 0.21239451854827993, 0.28218128892842903, 0.1335051259446331, 0.2418180037128095, 0.1762402399940815, 0.16189510418060976, 0.2165432406128831, 0.20356430821021818, 0.18082670218840866, 0.19662709364176476, 0.1922380960158325, 0.26860665470705364, 0.16151511263430676, 0.17320910649111923, 0.17250500443221223, 0.25910955767777183, 0.1929239641405149, 0.20207729090630577, 0.20055811276571459, 0.3008371691485719, 0.10027905638285729, 0.10027905638285729, 0.20055811276571459, 0.23231133374239293, 0.16882101111750858, 0.19484961081430024, 0.20798553963324184, 0.1960659005197578, 0.31875973870669366, 0.15000458292079702, 0.1312540100556974, 0.20625630151609592, 0.18750572865099627, 0.12417533732659651, 0.29802080958383165, 0.1887465127364267, 0.15894443177804354, 0.22351560718787372, 0.13909235031546333, 0.22368652828510185, 0.22124631161290076, 0.2529691283515152, 0.16268111148007408, 0.32429750313170197, 0.32429750313170197, 0.32429750313170197, 0.1953927646168538, 0.1953927646168538, 0.11723565877011227, 0.1953927646168538, 0.31262842338696606, 0.15886241980659957, 0.2613171688123051, 0.19685125932556904, 0.17267654326804302, 0.2106653827870125, 0.16463802782883455, 0.20026864579179127, 0.22422716476688287, 0.14805136084607884, 0.2623150667272849, 0.3220245841798813, 0.3220245841798813, 0.3220245841798813, 0.16695316704817056, 0.21155024591720242, 0.26186489900021276, 0.21155024591720242, 0.1480851721420417, 0.17427323707140127, 0.17427323707140127, 0.34854647414280254, 0.17427323707140127, 0.17427323707140127, 0.24027486477452065, 0.23390394032974168, 0.1911277333433687, 0.1783858844538108, 0.1556325828653145, 0.1805621852359123, 0.1633657866420159, 0.292338776096239, 0.13757118875117127, 0.22355318172065333, 0.20371942403458804, 0.15359797843877668, 0.21018670733727338, 0.2457567655020427, 0.1875512157778747, 0.14691561066572148, 0.14691561066572148, 0.2448593511095358, 0.31831715644239655, 0.14691561066572148, 0.185256468905773, 0.21557116381762675, 0.2470086252076973, 0.1324864444295831, 0.21893946325227717, 0.19060020843200612, 0.1740262772640056, 0.26794522054934194, 0.21546110518400693, 0.15469002423467165, 0.15421430424614865, 0.18742969285301145, 0.1518417764885156, 0.25860552558200317, 0.24674288679383785, 0.17846857181543302, 0.22050171035111416, 0.18053577534997473, 0.24117374569653113, 0.1798467075051275, 0.17556865250932044, 0.15118411743858148, 0.26010170742121547, 0.1479328460958163, 0.26497861443536325, 0.20787708639641211, 0.16890013269708484, 0.15590781479730909, 0.16890013269708484, 0.2923271527449545, 0.3262713185850552, 0.20391957411565947, 0.0815678296462638, 0.20391957411565947, 0.1631356592925276, 0.20315730702933918, 0.17268371097493831, 0.19299944167787222, 0.14221011492053742, 0.28442022984107485, 0.3257893331055028, 0.19643180378420022, 0.17247670576173676, 0.15331262734376602, 0.15331262734376602, 0.15723676192043354, 0.3144735238408671, 0.15723676192043354, 0.15723676192043354, 0.15723676192043354, 0.622222326240959, 0.6225126958756668, 0.6227440684752235, 0.6212217339372049, 0.6223267353137836, 0.622895269649401], \"Term\": [\"\", \"\", \"\", \"\", \"\", \"$\", \"$\", \"$\", \"$\", \"$\", \"-jon\", \"-jon\", \"-jon\", \"-jon\", \"104\", \"104\", \"104\", \"104\", \"104\", \"2\", \"2\", \"2\", \"2\", \"2\", \"2700\", \"2700\", \"2700\", \"2min\", \"2min\", \"2min\", \"2nd\", \"2nd\", \"2nd\", \"2nd\", \"2nd\", \"39.99\", \"39.99\", \"39.99\", \"39.99\", \"4/6\", \"4/6\", \"4/6\", \"4/6\", \"8/12/12\", \"8/12/12\", \"8/12/12\", \"AA\", \"AA\", \"AA\", \"AA\", \"AA\", \"Angelo\", \"Angelo\", \"Angelo\", \"Angelo\", \"Angelo\", \"Aryon\", \"Aryon\", \"Aryon\", \"Aryon\", \"BB\", \"BB\", \"Barlow\", \"Barlow\", \"Barlow\", \"Barlow\", \"Berman\", \"Berman\", \"Berman\", \"Berman\", \"Berman\", \"Bim\", \"Bim\", \"Bim\", \"Bim\", \"Bim\", \"Blue\", \"Blue\", \"Blue\", \"Blue\", \"Blue\", \"BodyFlo\", \"BodyFlo\", \"BodyFlo\", \"BodyFlo\", \"BodyFlo\", \"Brookline\", \"Brookline\", \"CHOP\", \"CHOP\", \"CHOP\", \"CT\", \"CT\", \"CT\", \"CTR\", \"CWRU\", \"CWRU\", \"CWRU\", \"Caliente\", \"Caliente\", \"Caliente\", \"Caliente\", \"Caliente\", \"Carousel\", \"Carousel\", \"Carousel\", \"Cary\", \"Cary\", \"Cary\", \"Coe\", \"Coe\", \"Coe\", \"Coe\", \"Colleen\", \"Colleen\", \"Colleen\", \"Convent\", \"Corey\", \"Corey\", \"Corey\", \"Corey\", \"Corey\", \"Dental\", \"Dental\", \"Dental\", \"Dental\", \"Dental\", \"Dimmi\", \"Dimmi\", \"Donovan\", \"Donovan\", \"Donovan\", \"Donovan\", \"Donovan\", \"Erica\", \"Erica\", \"Erica\", \"Erica\", \"Erica\", \"HKS\", \"HKS\", \"HKS\", \"HKS\", \"HKS\", \"Harlow\", \"Harlow\", \"Harlow\", \"Harlow\", \"Harlow\", \"Harter\", \"Harter\", \"Harter\", \"Harter\", \"Harter\", \"Hog\", \"Hog\", \"Hummus\", \"Hummus\", \"Hummus\", \"Hummus\", \"Hummus\", \"IEP\", \"IEP\", \"IEP\", \"IEP\", \"IEP\", \"JetBlue\", \"JetBlue\", \"JetBlue\", \"Joiner\", \"Joiner\", \"Joiner\", \"Karen\", \"Karen\", \"Karen\", \"Karen\", \"Keri\", \"Keri\", \"Keri\", \"Keri\", \"Keri\", \"Linda\", \"Linda\", \"Linda\", \"Linda\", \"Linda\", \"Mac\", \"Mac\", \"Mac\", \"Mac\", \"Mac\", \"McQueen\", \"McQueen\", \"McQueen\", \"McQueen\", \"Merest\", \"Merest\", \"Merest\", \"Mighty\", \"Mighty\", \"Mighty\", \"Mighty\", \"Mighty\", \"Mission\", \"Mission\", \"Mission\", \"Mission\", \"Mission\", \"Mississippi\", \"Moves\", \"Moves\", \"Moves\", \"Moves\", \"PRICED\", \"PRICED\", \"PRICED\", \"Panda\", \"Panda\", \"Panda\", \"Panda\", \"Panda\", \"Penn\", \"Penn\", \"Penn\", \"Penn\", \"Penn\", \"Prima\", \"Prima\", \"Prima\", \"Puzzlemaster\", \"Puzzlemaster\", \"Regis\", \"Regis\", \"Regis\", \"Regis\", \"Rico\", \"Rico\", \"Rico\", \"Rico\", \"Rico\", \"Roomtastic\", \"Roomtastic\", \"Roy\", \"Roy\", \"Roy\", \"SAW\", \"SAW\", \"SAW\", \"SAW\", \"SLOW\", \"Saturday\", \"Saturday\", \"Saturday\", \"Saturday\", \"Saturday\", \"Schwartz\", \"Schwartz\", \"Schwartz\", \"Schwartz\", \"Schwartz\", \"Secret\", \"Secret\", \"Secret\", \"Secret\", \"Secret\", \"Serenity\", \"Serenity\", \"Serenity\", \"Serenity\", \"Serenity\", \"Shenker\", \"Shenker\", \"Shenker\", \"Shenker\", \"Snapper\", \"Snapper\", \"Snapper\", \"Suzzanne\", \"Suzzanne\", \"Suzzanne\", \"Suzzanne\", \"Suzzanne\", \"Tuna\", \"Tuna\", \"Tuna\", \"Tuna\", \"Tuna\", \"Vegas\", \"Vegas\", \"Vegas\", \"Vegas\", \"Vegas\", \"Victoria\", \"Victoria\", \"Victoria\", \"Victoria\", \"Victoria\", \"Whew\", \"Whew\", \"Whew\", \"Wrestlemania\", \"Wrestlemania\", \"Yasmin\", \"Yasmin\", \"Yasmin\", \"Yasmin\", \"Yeahhhhhhh\", \"Yeahhhhhhh\", \"Yum\", \"Yum\", \"Yum\", \"Yum\", \"Yum\", \"absolutely\", \"absolutely\", \"absolutely\", \"absolutely\", \"absolutely\", \"accueil\", \"accueil\", \"accueil\", \"accueil\", \"alow\", \"alow\", \"alow\", \"amazing\", \"amazing\", \"amazing\", \"amazing\", \"amazing\", \"app\", \"app\", \"app\", \"app\", \"app\", \"appointment\", \"appointment\", \"appointment\", \"appointment\", \"appointment\", \"area\", \"area\", \"area\", \"area\", \"area\", \"arrive\", \"arrive\", \"arrive\", \"arrive\", \"arrive\", \"ask\", \"ask\", \"ask\", \"ask\", \"ask\", \"ate\", \"ate\", \"ate\", \"ate\", \"ate\", \"awful\", \"awful\", \"awful\", \"awful\", \"awful\", \"bad\", \"bad\", \"bad\", \"bad\", \"bad\", \"bake\", \"bake\", \"bake\", \"bake\", \"bake\", \"bank\", \"bank\", \"bank\", \"bank\", \"bank\", \"bar\", \"bar\", \"bar\", \"bar\", \"bar\", \"beagle\", \"beer\", \"beer\", \"beer\", \"beer\", \"beer\", \"bench\", \"bench\", \"bench\", \"bench\", \"bench\", \"berry\", \"berry\", \"berry\", \"berry\", \"berry\", \"big\", \"big\", \"big\", \"big\", \"big\", \"bit\", \"bit\", \"bit\", \"bit\", \"bit\", \"blowingly\", \"bookkeepe\", \"bookkeepe\", \"bookkeepe\", \"botanical\", \"botanical\", \"botanical\", \"bowler\", \"bowler\", \"bowling\", \"bowling\", \"bowling\", \"bowling\", \"bowling\", \"bring\", \"bring\", \"bring\", \"bring\", \"bring\", \"brother\", \"brother\", \"brother\", \"brother\", \"brother\", \"browse\", \"browse\", \"browse\", \"browse\", \"browse\", \"brunch\", \"brunch\", \"brunch\", \"brunch\", \"brunch\", \"butterfly\", \"butterfly\", \"butterfly\", \"call\", \"call\", \"call\", \"call\", \"call\", \"chauffeur\", \"chauffeur\", \"chauffeur\", \"chauffeur\", \"chicken\", \"chicken\", \"chicken\", \"chicken\", \"chicken\", \"chickpea\", \"chickpea\", \"chickpea\", \"chickpea\", \"chickpea\", \"clinical\", \"clinical\", \"collaborate\", \"collaborate\", \"collaborate\", \"collaborate\", \"come\", \"come\", \"come\", \"come\", \"come\", \"coolant\", \"couple\", \"couple\", \"couple\", \"couple\", \"couple\", \"customer\", \"customer\", \"customer\", \"customer\", \"customer\", \"day\", \"day\", \"day\", \"day\", \"day\", \"decide\", \"decide\", \"decide\", \"decide\", \"decide\", \"definitely\", \"definitely\", \"definitely\", \"definitely\", \"definitely\", \"delicious\", \"delicious\", \"delicious\", \"delicious\", \"delicious\", \"dessert\", \"dessert\", \"dessert\", \"dessert\", \"dessert\", \"dish\", \"dish\", \"dish\", \"dish\", \"dish\", \"doctor\", \"doctor\", \"doctor\", \"doctor\", \"doctor\", \"drink\", \"drink\", \"drink\", \"drink\", \"drink\", \"eat\", \"eat\", \"eat\", \"eat\", \"eat\", \"effectively\", \"effectively\", \"effectively\", \"effectively\", \"effectively\", \"effortlessly\", \"effortlessly\", \"effortlessly\", \"et\", \"et\", \"et\", \"et\", \"et\", \"everrrrr\", \"evidence\", \"evidence\", \"evidence\", \"evidence\", \"evidence\", \"excellent\", \"excellent\", \"excellent\", \"excellent\", \"excellent\", \"expect\", \"expect\", \"expect\", \"expect\", \"expect\", \"experience\", \"experience\", \"experience\", \"experience\", \"experience\", \"expertly\", \"expertly\", \"expertly\", \"expertly\", \"expertly\", \"family\", \"family\", \"family\", \"family\", \"family\", \"fantastic\", \"fantastic\", \"fantastic\", \"fantastic\", \"fantastic\", \"feel\", \"feel\", \"feel\", \"feel\", \"feel\", \"find\", \"find\", \"find\", \"find\", \"find\", \"fingernail\", \"fingernail\", \"fingernail\", \"fingernail\", \"fingernail\", \"flu\", \"flu\", \"flu\", \"flu\", \"flu\", \"food\", \"food\", \"food\", \"food\", \"food\", \"fresh\", \"fresh\", \"fresh\", \"fresh\", \"fresh\", \"friendly\", \"friendly\", \"friendly\", \"friendly\", \"friendly\", \"froide\", \"froide\", \"froide\", \"froide\", \"fun\", \"fun\", \"fun\", \"fun\", \"fun\", \"fungus\", \"fungus\", \"fungus\", \"fungus\", \"fungus\", \"get\", \"get\", \"get\", \"get\", \"get\", \"go\", \"go\", \"go\", \"go\", \"go\", \"good\", \"good\", \"good\", \"good\", \"good\", \"great\", \"great\", \"great\", \"great\", \"great\", \"grub\", \"grub\", \"grub\", \"grub\", \"grub\", \"gut\", \"gut\", \"gut\", \"gut\", \"gut\", \"happy\", \"happy\", \"happy\", \"happy\", \"happy\", \"highly\", \"highly\", \"highly\", \"highly\", \"highly\", \"hole\", \"hole\", \"hole\", \"hole\", \"hole\", \"honestly\", \"honestly\", \"honestly\", \"honestly\", \"honestly\", \"hotel\", \"hotel\", \"hotel\", \"hotel\", \"hotel\", \"hour\", \"hour\", \"hour\", \"hour\", \"hour\", \"hurry\", \"hurry\", \"hurry\", \"hurry\", \"hurry\", \"ice\", \"ice\", \"ice\", \"ice\", \"ice\", \"iep\", \"imcomplete\", \"imcomplete\", \"insectarium\", \"insectarium\", \"intelligently\", \"intelligently\", \"intelligently\", \"iphone\", \"iphone\", \"iphone\", \"ist\", \"ist\", \"ist\", \"ist\", \"italian\", \"italian\", \"italian\", \"italian\", \"italian\", \"jackpot\", \"jackpot\", \"jackpot\", \"jake\", \"jake\", \"know\", \"know\", \"know\", \"know\", \"know\", \"knowlagble\", \"knowlagble\", \"knowlagble\", \"knowlagble\", \"knowlagble\", \"leave\", \"leave\", \"leave\", \"leave\", \"leave\", \"like\", \"like\", \"like\", \"like\", \"like\", \"listen\", \"listen\", \"listen\", \"listen\", \"listen\", \"little\", \"little\", \"little\", \"little\", \"little\", \"live\", \"live\", \"live\", \"live\", \"live\", \"livermush\", \"livermush\", \"livermush\", \"load\", \"load\", \"load\", \"load\", \"load\", \"lolos\", \"look\", \"look\", \"look\", \"look\", \"look\", \"lot\", \"lot\", \"lot\", \"lot\", \"lot\", \"love\", \"love\", \"love\", \"love\", \"love\", \"machaca\", \"machaca\", \"machaca\", \"machaca\", \"machaca\", \"manchuri\", \"meal\", \"meal\", \"meal\", \"meal\", \"meal\", \"mean\", \"mean\", \"mean\", \"mean\", \"mean\", \"meat\", \"meat\", \"meat\", \"meat\", \"meat\", \"menu\", \"menu\", \"menu\", \"menu\", \"menu\", \"meringue\", \"meringue\", \"meringue\", \"meringue\", \"meringue\", \"messaging\", \"messaging\", \"messaging\", \"messaging\", \"messaging\", \"mikes\", \"mikes\", \"mind\", \"mind\", \"mind\", \"mind\", \"mind\", \"mistake\", \"mistake\", \"mistake\", \"mistake\", \"mistake\", \"mixologist\", \"month\", \"month\", \"month\", \"month\", \"month\", \"morning\", \"morning\", \"morning\", \"morning\", \"morning\", \"mother\", \"mother\", \"mother\", \"mother\", \"mother\", \"nail\", \"nail\", \"nail\", \"nail\", \"nail\", \"need\", \"need\", \"need\", \"need\", \"need\", \"new\", \"new\", \"new\", \"new\", \"new\", \"nice\", \"nice\", \"nice\", \"nice\", \"nice\", \"night\", \"night\", \"night\", \"night\", \"night\", \"noon\", \"noon\", \"noon\", \"noon\", \"noon\", \"offer\", \"offer\", \"offer\", \"offer\", \"offer\", \"ooze\", \"ooze\", \"ooze\", \"ooze\", \"ooze\", \"order\", \"order\", \"order\", \"order\", \"order\", \"outside\", \"outside\", \"outside\", \"outside\", \"outside\", \"palmas\", \"palmas\", \"people\", \"people\", \"people\", \"people\", \"people\", \"pizza\", \"pizza\", \"pizza\", \"pizza\", \"pizza\", \"place\", \"place\", \"place\", \"place\", \"place\", \"pleased\", \"pleased\", \"pleased\", \"pleased\", \"pleased\", \"plenty\", \"plenty\", \"plenty\", \"plenty\", \"plenty\", \"poor\", \"poor\", \"poor\", \"poor\", \"poor\", \"potato\", \"potato\", \"potato\", \"potato\", \"potato\", \"prenatal\", \"pretty\", \"pretty\", \"pretty\", \"pretty\", \"pretty\", \"price\", \"price\", \"price\", \"price\", \"price\", \"proceed\", \"proceed\", \"proceed\", \"proceed\", \"proceed\", \"product\", \"product\", \"product\", \"product\", \"product\", \"promoter\", \"promoter\", \"promoter\", \"promoter\", \"promoter\", \"quality\", \"quality\", \"quality\", \"quality\", \"quality\", \"raise\", \"raise\", \"raise\", \"raise\", \"raise\", \"rapide\", \"rapide\", \"rapide\", \"rapide\", \"rapide\", \"rating\", \"rating\", \"rating\", \"rating\", \"rating\", \"rear\", \"rear\", \"rear\", \"rear\", \"rear\", \"recommend\", \"recommend\", \"recommend\", \"recommend\", \"recommend\", \"refreshing\", \"refreshing\", \"refreshing\", \"refreshing\", \"refreshing\", \"regale\", \"rent\", \"rent\", \"rent\", \"rent\", \"rent\", \"restaurant\", \"restaurant\", \"restaurant\", \"restaurant\", \"restaurant\", \"return\", \"return\", \"return\", \"return\", \"return\", \"review\", \"review\", \"review\", \"review\", \"review\", \"ridgeville\", \"ridgeville\", \"room\", \"room\", \"room\", \"room\", \"room\", \"rush\", \"rush\", \"rush\", \"rush\", \"rush\", \"sandwich\", \"sandwich\", \"sandwich\", \"sandwich\", \"sandwich\", \"sant\\u00e9\", \"sauce\", \"sauce\", \"sauce\", \"sauce\", \"sauce\", \"saving\", \"saving\", \"saving\", \"saving\", \"saving\", \"say\", \"say\", \"say\", \"say\", \"say\", \"seat\", \"seat\", \"seat\", \"seat\", \"seat\", \"second\", \"second\", \"second\", \"second\", \"second\", \"selection\", \"selection\", \"selection\", \"selection\", \"selection\", \"server\", \"server\", \"server\", \"server\", \"server\", \"service\", \"service\", \"service\", \"service\", \"service\", \"shiek\", \"shiek\", \"shiek\", \"shiek\", \"shine\", \"shine\", \"shine\", \"shine\", \"shine\", \"shipper\", \"shipper\", \"shipper\", \"shower\", \"shower\", \"shower\", \"shower\", \"shower\", \"slew\", \"slew\", \"slew\", \"soften\", \"soften\", \"soften\", \"spend\", \"spend\", \"spend\", \"spend\", \"spend\", \"spicy\", \"spicy\", \"spicy\", \"spicy\", \"spicy\", \"stadium\", \"stadium\", \"stadium\", \"stadium\", \"stadium\", \"staff\", \"staff\", \"staff\", \"staff\", \"staff\", \"stance\", \"stance\", \"stance\", \"start\", \"start\", \"start\", \"start\", \"start\", \"stay\", \"stay\", \"stay\", \"stay\", \"stay\", \"steak\", \"steak\", \"steak\", \"steak\", \"steak\", \"strip\", \"strip\", \"strip\", \"strip\", \"strip\", \"suggestion-\", \"suggestion-\", \"suggestion-\", \"suitemate\", \"suitemate\", \"suitemate\", \"sure\", \"sure\", \"sure\", \"sure\", \"sure\", \"sushi\", \"sushi\", \"sushi\", \"sushi\", \"sushi\", \"table\", \"table\", \"table\", \"table\", \"table\", \"taco\", \"taco\", \"taco\", \"taco\", \"taco\", \"take\", \"take\", \"take\", \"take\", \"take\", \"tar\", \"tar\", \"tar\", \"tar\", \"tar\", \"taste\", \"taste\", \"taste\", \"taste\", \"taste\", \"tea\", \"tea\", \"tea\", \"tea\", \"tea\", \"tell\", \"tell\", \"tell\", \"tell\", \"tell\", \"thing\", \"thing\", \"thing\", \"thing\", \"thing\", \"think\", \"think\", \"think\", \"think\", \"think\", \"tidy\", \"tidy\", \"tidy\", \"tidy\", \"tidy\", \"time\", \"time\", \"time\", \"time\", \"time\", \"towel\", \"towel\", \"towel\", \"towel\", \"towel\", \"truly\", \"truly\", \"truly\", \"truly\", \"truly\", \"try\", \"try\", \"try\", \"try\", \"try\", \"umani\", \"umani\", \"umani\", \"upper\", \"upper\", \"upper\", \"upper\", \"upper\", \"visit\", \"visit\", \"visit\", \"visit\", \"visit\", \"wait\", \"wait\", \"wait\", \"wait\", \"wait\", \"walkthrough\", \"walkthrough\", \"walkthrough\", \"want\", \"want\", \"want\", \"want\", \"want\", \"washing\", \"washing\", \"washing\", \"washing\", \"washing\", \"way\", \"way\", \"way\", \"way\", \"way\", \"wedding\", \"wedding\", \"wedding\", \"wedding\", \"wedding\", \"week\", \"week\", \"week\", \"week\", \"week\", \"weekly\", \"weekly\", \"weekly\", \"weekly\", \"weekly\", \"well\", \"well\", \"well\", \"well\", \"well\", \"will\", \"will\", \"will\", \"will\", \"will\", \"wine\", \"wine\", \"wine\", \"wine\", \"wine\", \"work\", \"work\", \"work\", \"work\", \"work\", \"worth\", \"worth\", \"worth\", \"worth\", \"worth\", \"young\", \"young\", \"young\", \"young\", \"young\", \"yuk\", \"yuk\", \"yuk\", \"yuk\", \"yuk\", \"yum\", \"yum\", \"yum\", \"yum\", \"yum\", \"yummy\", \"yummy\", \"yummy\", \"yummy\", \"yummy\", \"zombie\", \"zombie\", \"zombie\", \"zombie\", \"zombie\", \"\\u307e\\u305f\\u662f\\u975e\\u30de\\u30c3\\u30b5\\u30fc\\u30b8\\u306a\\u3069\\u3067\\u4f3a\\u3044\\u305f\\u3044\\u3068\\u601d\\u3044\\u307e\\u3059\", \"\\u30cd\\u30a4\\u30eb\\u306f\\u3061\\u306f\\u308b\\u3055\\u3093\\u3068\\u8a00\\u3046\\u7dba\\u9e97\\u306a\\u65b9\\u304c\\u4e01\\u5be7\\u306b\\u3057\\u3066\\u304f\\u308c\\u3068\\u3066\\u3082\\u6c17\\u306b\\u5165\\u308a\\u307e\\u3057\\u305f\", \"\\u4e88\\u5b9a\\u306b\\u306a\\u304b\\u3063\\u305f\\u307e\\u3064\\u6bdb\\u30a8\\u30af\\u30b9\\u30c6\\u3082\\u304a\\u9858\\u3044\\u3057\\u3001\\u65e5\\u672c\\u3067\\u306f\\u307e\\u3060\\u3042\\u307e\\u308a\\u306a\\u3044\\u30d6\\u30e9\\u30a6\\u30f3\\u30ab\\u30e9\\u30fc\\u306e\\u30a8\\u30af\\u30b9\\u30c6\\u3092\\u3057\\u3066\\u3082\\u3089\\u3044\\u3001\\u3068\\u3066\\u3082\\u6c17\\u306b\\u5165\\u308a\\u307e\\u3057\\u305f\", \"\\u5929\\u6c23\\u5f88\\u71b1\\u5403\\u4e0d\\u4e0b\\u6771\\u897f\\uff0c\\u4eca\\u5929\\u6211\\u9ede\\u4e86\\u4e00\\u500b\\u97d3\\u570b\\u51b7\\u9762\\u6e6f\\u3001\\u9910\\u5f8c\\u9ede\\u4e86\\u751c\\u9ede\\uff0c\\u51b0\\u6c99\\u7cfb\\u5217\\u4e0d\\u6703\\u592a\\u751c\\u81a9\\uff0c\\u89ba\\u5f97\\u5e97\\u5bb6\\u5f88\\u7528\\u5fc3\\u88fd\\u4f5c\\uff0c\\u5305\\u542b\\u64fa\\u76e4\\u7cbe\\u7dfb\\u3001\\u4f50\\u6599\\u885b\\u751f\\uff0c\\u590f\\u65e5\\u60f3\\u958b\\u80c3\\uff0c\\u9019\\u662f\\u4e00\\u500b\\u4e0d\\u932f\\u7684\\u9078\\u64c7\\uff0c\\u670d\\u52d9\\u4eba\\u54e1\\u4e5f\\u5f88\\u656c\\u696d\\uff0c\\u4ee5\\u5f8c\\u6703\\u5e38\\u5e38\\u4f86\", \"\\u65c5\\u884c\\u3067\\u30e9\\u30b9\\u30d9\\u30ac\\u30b9\\u306b\\u6765\\u307e\\u3057\\u305f\\u304c\\u30cd\\u30a4\\u30eb\\u304c\\u306f\\u3052\\u3066\\u308b\\u306e\\u304c\\u6c17\\u306b\\u306a\\u308a\\u3001\\u63a2\\u3057\\u305f\\u304a\\u5e97\\u3067\\u3057\\u305f\", \"\\u8cea\\u554f\\u306b\\u3082\\u4e01\\u5be7\\u306b\\u7b54\\u3048\\u3066\\u304f\\u308c\\u307e\\u3057\\u305f\\u3057\\u3001\\u65e5\\u672c\\u4eba\\u306e\\u65b9\\u3082\\u65e5\\u672c\\u8a9e\\u304c\\u8a71\\u305b\\u308b\\u65b9\\u3082\\u5c45\\u3066\\u3001\\u3068\\u3066\\u3082\\u7dba\\u9e97\\u3067\\u5c45\\u5fc3\\u5730\\u306e\\u3044\\u3044\\u304a\\u5e97\\u3067\\u3057\\u305f\"]}, \"R\": 30, \"lambda.step\": 0.01, \"plot.opts\": {\"xlab\": \"PC1\", \"ylab\": \"PC2\"}, \"topic.order\": [1, 3, 5, 4, 2]};\n",
       "\n",
       "function LDAvis_load_lib(url, callback){\n",
       "  var s = document.createElement('script');\n",
       "  s.src = url;\n",
       "  s.async = true;\n",
       "  s.onreadystatechange = s.onload = callback;\n",
       "  s.onerror = function(){console.warn(\"failed to load library \" + url);};\n",
       "  document.getElementsByTagName(\"head\")[0].appendChild(s);\n",
       "}\n",
       "\n",
       "if(typeof(LDAvis) !== \"undefined\"){\n",
       "   // already loaded: just create the visualization\n",
       "   !function(LDAvis){\n",
       "       new LDAvis(\"#\" + \"ldavis_el6289140355873077792273669685\", ldavis_el6289140355873077792273669685_data);\n",
       "   }(LDAvis);\n",
       "}else if(typeof define === \"function\" && define.amd){\n",
       "   // require.js is available: use it to load d3/LDAvis\n",
       "   require.config({paths: {d3: \"https://cdnjs.cloudflare.com/ajax/libs/d3/3.5.5/d3.min\"}});\n",
       "   require([\"d3\"], function(d3){\n",
       "      window.d3 = d3;\n",
       "      LDAvis_load_lib(\"https://cdn.rawgit.com/bmabey/pyLDAvis/files/ldavis.v1.0.0.js\", function(){\n",
       "        new LDAvis(\"#\" + \"ldavis_el6289140355873077792273669685\", ldavis_el6289140355873077792273669685_data);\n",
       "      });\n",
       "    });\n",
       "}else{\n",
       "    // require.js not available: dynamically load d3 & LDAvis\n",
       "    LDAvis_load_lib(\"https://cdnjs.cloudflare.com/ajax/libs/d3/3.5.5/d3.min.js\", function(){\n",
       "         LDAvis_load_lib(\"https://cdn.rawgit.com/bmabey/pyLDAvis/files/ldavis.v1.0.0.js\", function(){\n",
       "                 new LDAvis(\"#\" + \"ldavis_el6289140355873077792273669685\", ldavis_el6289140355873077792273669685_data);\n",
       "            })\n",
       "         });\n",
       "}\n",
       "</script>"
      ],
      "text/plain": [
       "PreparedData(topic_coordinates=              x         y  topics  cluster       Freq\n",
       "topic                                                \n",
       "0     -0.005418  0.001155       1        1  20.884530\n",
       "2     -0.001124 -0.000450       2        1  20.274713\n",
       "4      0.003541  0.002388       3        1  19.830083\n",
       "3      0.001229 -0.005125       4        1  19.721997\n",
       "1      0.001771  0.002031       5        1  19.288676, topic_info=           Term          Freq         Total Category  logprob  loglift\n",
       "0                26347.000000  26347.000000  Default  30.0000  30.0000\n",
       "369       order   3280.000000   3280.000000  Default  29.0000  29.0000\n",
       "47         good   6055.000000   6055.000000  Default  28.0000  28.0000\n",
       "41          try   2458.000000   2458.000000  Default  27.0000  27.0000\n",
       "52      service   3527.000000   3527.000000  Default  26.0000  26.0000\n",
       "..          ...           ...           ...      ...      ...      ...\n",
       "339  definitely    286.891112   1389.415475   Topic5  -5.8587   0.0681\n",
       "164       think    287.288591   1420.248652   Topic5  -5.8573   0.0476\n",
       "1             $    372.503321   2160.140591   Topic5  -5.5975  -0.1120\n",
       "41          try    400.458228   2458.798052   Topic5  -5.5252  -0.1692\n",
       "369       order    363.013314   3280.232078   Topic5  -5.6233  -0.5556\n",
       "\n",
       "[461 rows x 6 columns], token_table=       Topic      Freq                                               Term\n",
       "term                                                                     \n",
       "0          1  0.267840                                                   \n",
       "0          2  0.226812                                                   \n",
       "0          3  0.158913                                                   \n",
       "0          4  0.180774                                                   \n",
       "0          5  0.165706                                                   \n",
       "...      ...       ...                                                ...\n",
       "22970      1  0.622513                 ネイルはちはるさんと言う綺麗な方が丁寧にしてくれとても気に入りました\n",
       "22971      1  0.622744  予定になかったまつ毛エクステもお願いし、日本ではまだあまりないブラウンカラーのエクステをして...\n",
       "23143      2  0.621222  天氣很熱吃不下東西，今天我點了一個韓國冷面湯、餐後點了甜點，冰沙系列不會太甜膩，覺得店家很用...\n",
       "22972      1  0.622327              旅行でラスベガスに来ましたがネイルがはげてるのが気になり、探したお店でした\n",
       "22973      1  0.622895  質問にも丁寧に答えてくれましたし、日本人の方も日本語が話せる方も居て、とても綺麗で居心地のい...\n",
       "\n",
       "[1336 rows x 3 columns], R=30, lambda_step=0.01, plot_opts={'xlab': 'PC1', 'ylab': 'PC2'}, topic_order=[1, 3, 5, 4, 2])"
      ]
     },
     "execution_count": 35,
     "metadata": {},
     "output_type": "execute_result"
    }
   ],
   "source": [
    "import seaborn as sns\n",
    "import matplotlib.pyplot as plt\n",
    "\n",
    "import pyLDAvis\n",
    "import pyLDAvis.gensim \n",
    "\n",
    "# Use pyLDAvis (or a ploting tool of your choice) to visualize your results \n",
    "\n",
    "pyLDAvis.enable_notebook()\n",
    "vis = pyLDAvis.gensim.prepare(lda, corpus, id2word)\n",
    "vis"
   ]
  },
  {
   "cell_type": "markdown",
   "metadata": {},
   "source": [
    "## Stretch Goals\n",
    "\n",
    "Complete one of more of these to push your score towards a three: \n",
    "* Create more visualizations of the LDA results and provide written analysis\n",
    "* Incorporate RandomizedSearchCV into docoument classification pipeline\n",
    "* Incorporate named entity recognition into your analysis\n",
    "* Compare vectorization methods in the classification section\n",
    "* Analyze more (or all) of the yelp dataset - this one is v. hard. \n",
    "* Use a generator object on the reviews file - this would help you with the analyzing the whole dataset.\n",
    "* Incorporate any of the other yelp dataset entities in your analysis (business, users, etc.)"
   ]
  }
 ],
 "metadata": {
  "kernel_info": {
   "name": "u4-s1-nlp"
  },
  "kernelspec": {
   "display_name": "U4-S1-NLP (Python3)",
   "language": "python",
   "name": "u4-s1-nlp"
  },
  "language_info": {
   "codemirror_mode": {
    "name": "ipython",
    "version": 3
   },
   "file_extension": ".py",
   "mimetype": "text/x-python",
   "name": "python",
   "nbconvert_exporter": "python",
   "pygments_lexer": "ipython3",
   "version": "3.7.0"
  },
  "nteract": {
   "version": "0.22.4"
  },
  "toc-autonumbering": false
 },
 "nbformat": 4,
 "nbformat_minor": 2
}
