{
 "cells": [
  {
   "cell_type": "markdown",
   "metadata": {},
   "source": [
    "---"
   ]
  },
  {
   "cell_type": "markdown",
   "metadata": {
    "id": "BlwQRqffGEqb",
    "toc-hr-collapsed": false
   },
   "source": [
    "Lambda School Data Science\n",
    "\n",
    "*Unit 4, Sprint 1, Module 1*\n",
    "\n",
    "---\n",
    "<h1 id=\"moduleTitle\"> Natural Language Processing Introduction (Prepare)</h1>\n",
    "\n",
    "\"Natural\" meaning - not computer languages but spoken/written human languages. The hard thing about NLP is that human languages are far less structured or consistent than computer languages. This is perhaps the largest source of difficulty when trying to get computers to \"understand\" human languages. How do you get a machine to understand sarcasm, and irony, and synonyms, connotation, denotation, nuance, and tone of voice --all without it having lived a lifetime of experience for context? If you think about it, our human brains have been exposed to quite a lot of training data to help us interpret languages, and even then we misunderstand each other pretty frequently. \n",
    "    \n",
    "\n",
    "<h2 id='moduleObjectives'>Learning Objectives</h2>\n",
    "\n",
    "By the end of end of this module, a student should be able to:\n",
    "* <a href=\"#p1\">Objective 1</a>: Tokenize text\n",
    "* <a href=\"#p1\">Objective 2</a>: Remove stop words from text\n",
    "* <a href=\"#p3\">Objective 3</a>: Perform stemming and lemmatization on tokens\n",
    "\n",
    "## Conda Environments\n",
    "\n",
    "You will be completing each module this sprint on your machine. We will be using conda environments to manage the packages and their dependencies for this sprint's content. In a classroom setting, instructors typically abstract away environment for you. However, environment management is an important professional data science skill. We showed you how to manage environments using pipvirtual env during Unit 3, but in this sprint, we will introduce an environment management tool common in the data science community: \n",
    "\n",
    "> __conda__: Package, dependency and environment management for any language—Python, R, Ruby, Lua, Scala, Java, JavaScript, C/ C++, FORTRAN, and more.\n",
    "\n",
    "The easiest way to install conda on your machine is via the [Anaconda Distribution](https://www.anaconda.com/distribution/) of Python & R. Once you have conda installed, read [\"A Guide to Conda Environments\"](https://towardsdatascience.com/a-guide-to-conda-environments-bc6180fc533). This article will provide an introduce into some of the conda basics. If you need some additional help getting started, the official [\"Setting started with conda\"](https://conda.io/projects/conda/en/latest/user-guide/getting-started.html) guide will point you in the right direction. \n",
    "\n",
    ":snake: \n",
    "\n",
    "To get the sprint environment setup: \n",
    "\n",
    "1. Open your command line tool (Terminal for MacOS, Anaconda Prompt for Windows)\n",
    "2. Navigate to the folder with this sprint's content. There should be a `requirements.txt`\n",
    "3. Run `conda create -n U4-S1-NLP python==3.7` => You can also rename the environment if you would like. Once the command completes, your conda environment should be ready.\n",
    "4. Now, we are going to add in the require python packages for this sprint. You will need to 'activate' the conda environment: `source activate U4-S1-NLP` on Terminal or `conda activate U4-S1-NLP` on Anaconda Prompt. Once your environment is activate, run `pip install -r requirements.txt` which will install the required packages into your environment.\n",
    "5. We are going to also add an Ipython Kernel reference to your conda environment, so we can use it from JupyterLab. \n",
    "6. Next run `python -m ipykernel install --user --name U4-S1-NLP --display-name \"U4-S1-NLP (Python3)\"` => This will add a json object to an ipython file, so JupterLab will know that it can use this isolated instance of Python. :) \n",
    "7. Last step, we need to install the models for Spacy. Run these commands `python -m spacy download en_core_web_md` and `python -m spacy download en_core_web_lg`\n",
    "8. Deactivate your conda environment and launch JupyterLab. You should know see \"U4-S1-NLP (Python3)\" in the list of available kernels on launch screen. "
   ]
  },
  {
   "cell_type": "code",
   "execution_count": null,
   "metadata": {},
   "outputs": [],
   "source": [
    "# Dependencies for the week (instead of conda)\n",
    "# Run if you're using colab, otherwise you should have a local copy of the data\n",
    "#!wget https://raw.githubusercontent.com/LambdaSchool/DS-Unit-4-Sprint-1-NLP/main/requirements.txt\n",
    "# !pip install -r requirements.txt"
   ]
  },
  {
   "cell_type": "code",
   "execution_count": null,
   "metadata": {
    "collapsed": true,
    "jupyter": {
     "outputs_hidden": true
    }
   },
   "outputs": [],
   "source": [
    "# You'll use en_core_web_sm for the sprint challenge due memory constraints on Codegrader\n",
    "#!python -m spacy download en_core_web_sm \n",
    "\n",
    "# Locally (or on colab) let's use en_core_web_lg \n",
    "!python -m spacy download en_core_web_lg # Can do lg, takes awhile\n",
    "# Also on Colab, need to restart runtime after this step!"
   ]
  },
  {
   "cell_type": "markdown",
   "metadata": {
    "id": "I0ssyXeiGEqc",
    "toc-hr-collapsed": false
   },
   "source": [
    "# Tokenze Text (Learn)\n",
    "<a id=\"p1\"></a>"
   ]
  },
  {
   "cell_type": "markdown",
   "metadata": {
    "id": "sd6cxaNTGEqc",
    "toc-hr-collapsed": true
   },
   "source": [
    "## Overview\n",
    "\n",
    "> **token**: an instance of a sequence of characters in some particular document that are grouped together as a useful semantic unit for processing\n",
    "\n",
    "> [_*Introduction to Information Retrival*_](https://nlp.stanford.edu/IR-book/)\n",
    "\n",
    "\n",
    "### The attributes of good tokens\n",
    "\n",
    "* Should be stored in an iterable data structure\n",
    "  - Allows analysis of the \"semantic unit\"\n",
    "* Should be all the same case\n",
    "  - Reduces the complexity of our data\n",
    "* Should be free of non-alphanumeric characters (ie punctuation, whitespace)\n",
    "  - Removes information that is probably not relevant to the analysis"
   ]
  },
  {
   "cell_type": "markdown",
   "metadata": {
    "id": "dK-EKGVNGEqd"
   },
   "source": [
    "Let's pretend we are trying analyze the random sequence here. Question: what is the most common character in this sequence?"
   ]
  },
  {
   "cell_type": "code",
   "execution_count": 1,
   "metadata": {
    "id": "NODbGehhGEqe"
   },
   "outputs": [],
   "source": [
    "random_seq = \"AABAAFBBBBCGCDDEEEFCFFDFFAFFZFGGGGHEAFJAAZBBFCZ\""
   ]
  },
  {
   "cell_type": "markdown",
   "metadata": {
    "id": "Uj0FHiJEGEqh"
   },
   "source": [
    "A useful unit of analysis for us is going to be a letter or character"
   ]
  },
  {
   "cell_type": "code",
   "execution_count": 2,
   "metadata": {
    "colab": {
     "base_uri": "https://localhost:8080/",
     "height": 54
    },
    "id": "OFWePC6XGEqh",
    "outputId": "41945a1a-6a50-4419-fcad-a08b4fe536cc"
   },
   "outputs": [
    {
     "name": "stdout",
     "output_type": "stream",
     "text": [
      "['A', 'A', 'B', 'A', 'A', 'F', 'B', 'B', 'B', 'B', 'C', 'G', 'C', 'D', 'D', 'E', 'E', 'E', 'F', 'C', 'F', 'F', 'D', 'F', 'F', 'A', 'F', 'F', 'Z', 'F', 'G', 'G', 'G', 'G', 'H', 'E', 'A', 'F', 'J', 'A', 'A', 'Z', 'B', 'B', 'F', 'C', 'Z']\n"
     ]
    }
   ],
   "source": [
    "tokens = list(random_seq)\n",
    "print(tokens)"
   ]
  },
  {
   "cell_type": "markdown",
   "metadata": {
    "id": "8tbp-hyDGEql"
   },
   "source": [
    "Our tokens are already \"good\": in an iterable datastructure, all the same case, and free of noise characters (punctuation, whitespace), so we can jump straight into analysis."
   ]
  },
  {
   "cell_type": "code",
   "execution_count": 3,
   "metadata": {
    "colab": {
     "base_uri": "https://localhost:8080/",
     "height": 319
    },
    "id": "mFQcACruGEql",
    "outputId": "5f37008f-1886-498a-b4f6-6356a65059a3"
   },
   "outputs": [
    {
     "data": {
      "image/png": "[encoded data removed]",
      "text/plain": [
       "<Figure size 432x288 with 1 Axes>"
      ]
     },
     "metadata": {
      "needs_background": "light"
     },
     "output_type": "display_data"
    }
   ],
   "source": [
    "import seaborn as sns\n",
    "\n",
    "sns.countplot(tokens);"
   ]
  },
  {
   "cell_type": "markdown",
   "metadata": {
    "id": "o3TbbxfHGEqo"
   },
   "source": [
    "The most common character in our sequence is  \"F\". We can't just glance at the the sequence to know which character is the most common. We (humans) struggle to subitize complex data (like random text sequences).\n",
    "\n",
    "> __Subitize__ is the ability to tell the number of objects in a set, quickly, without counting.  \n",
    "\n",
    "We need to chunk the data into countable pieces \"tokens\" for us to analyze them. This inability subitize text data is the motivation for our discussion today."
   ]
  },
  {
   "cell_type": "markdown",
   "metadata": {
    "id": "UMa8NJjlGEqo",
    "toc-hr-collapsed": true
   },
   "source": [
    "### Tokenizing with Pure Python"
   ]
  },
  {
   "cell_type": "code",
   "execution_count": 4,
   "metadata": {
    "id": "im96HX4XGEqp"
   },
   "outputs": [],
   "source": [
    "sample = \"Friends, Romans, countrymen, lend me your ears;\""
   ]
  },
  {
   "cell_type": "markdown",
   "metadata": {
    "id": "Q8ACUekrGEqr"
   },
   "source": [
    "##### Iterable Tokens\n",
    "\n",
    "A string object in Python is already iterable. However, the item you iterate over is a character not a token:\n",
    "\n",
    "```\n",
    "from time import sleep\n",
    "for num, character in enumerate(sample):\n",
    "    sleep(.5)\n",
    "    print(f\"Char {num} - {character}\", end=\"\\r\")\n",
    "```\n",
    "\n",
    "If we instead care about the words in our sample (our semantic unit), we can use the string method `.split()` to separate the whitespace and create iterable units. :)"
   ]
  },
  {
   "cell_type": "code",
   "execution_count": 5,
   "metadata": {},
   "outputs": [
    {
     "data": {
      "text/plain": [
       "['__add__',\n",
       " '__class__',\n",
       " '__contains__',\n",
       " '__delattr__',\n",
       " '__dir__',\n",
       " '__doc__',\n",
       " '__eq__',\n",
       " '__format__',\n",
       " '__ge__',\n",
       " '__getattribute__',\n",
       " '__getitem__',\n",
       " '__getnewargs__',\n",
       " '__gt__',\n",
       " '__hash__',\n",
       " '__init__',\n",
       " '__init_subclass__',\n",
       " '__iter__',\n",
       " '__le__',\n",
       " '__len__',\n",
       " '__lt__',\n",
       " '__mod__',\n",
       " '__mul__',\n",
       " '__ne__',\n",
       " '__new__',\n",
       " '__reduce__',\n",
       " '__reduce_ex__',\n",
       " '__repr__',\n",
       " '__rmod__',\n",
       " '__rmul__',\n",
       " '__setattr__',\n",
       " '__sizeof__',\n",
       " '__str__',\n",
       " '__subclasshook__',\n",
       " 'capitalize',\n",
       " 'casefold',\n",
       " 'center',\n",
       " 'count',\n",
       " 'encode',\n",
       " 'endswith',\n",
       " 'expandtabs',\n",
       " 'find',\n",
       " 'format',\n",
       " 'format_map',\n",
       " 'index',\n",
       " 'isalnum',\n",
       " 'isalpha',\n",
       " 'isascii',\n",
       " 'isdecimal',\n",
       " 'isdigit',\n",
       " 'isidentifier',\n",
       " 'islower',\n",
       " 'isnumeric',\n",
       " 'isprintable',\n",
       " 'isspace',\n",
       " 'istitle',\n",
       " 'isupper',\n",
       " 'join',\n",
       " 'ljust',\n",
       " 'lower',\n",
       " 'lstrip',\n",
       " 'maketrans',\n",
       " 'partition',\n",
       " 'replace',\n",
       " 'rfind',\n",
       " 'rindex',\n",
       " 'rjust',\n",
       " 'rpartition',\n",
       " 'rsplit',\n",
       " 'rstrip',\n",
       " 'split',\n",
       " 'splitlines',\n",
       " 'startswith',\n",
       " 'strip',\n",
       " 'swapcase',\n",
       " 'title',\n",
       " 'translate',\n",
       " 'upper',\n",
       " 'zfill']"
      ]
     },
     "execution_count": 5,
     "metadata": {},
     "output_type": "execute_result"
    }
   ],
   "source": [
    "dir(sample)"
   ]
  },
  {
   "cell_type": "code",
   "execution_count": 6,
   "metadata": {
    "colab": {
     "base_uri": "https://localhost:8080/",
     "height": 34
    },
    "id": "Q5Vh69V5GEqr",
    "outputId": "c16dd32b-fb89-4598-ef93-8a7b8c17122d"
   },
   "outputs": [
    {
     "data": {
      "text/plain": [
       "['Friends,', 'Romans,', 'countrymen,', 'lend', 'me', 'your', 'ears;']"
      ]
     },
     "execution_count": 6,
     "metadata": {},
     "output_type": "execute_result"
    }
   ],
   "source": [
    "sample.split(\" \")"
   ]
  },
  {
   "cell_type": "markdown",
   "metadata": {
    "id": "3h3fMFY0GEqu"
   },
   "source": [
    "##### Case Normalization\n",
    "A common data cleaning data cleaning task with token is to standardize or normalize the case. Normalizing case reduces the chance that you have duplicate records for things which have practically the same semantic meaning. You can use either the `.lower()` or `.upper()` string methods to normalize case.\n",
    "\n",
    "Consider the following example: "
   ]
  },
  {
   "cell_type": "code",
   "execution_count": 8,
   "metadata": {
    "id": "i2K43cyJGEqu"
   },
   "outputs": [
    {
     "name": "stdout",
     "output_type": "stream",
     "text": [
      "(28332, 24)\n"
     ]
    }
   ],
   "source": [
    "import pandas as pd\n",
    "\n",
    "df = pd.read_csv('./data/Datafiniti_Amazon_Consumer_Reviews_of_Amazon_Products_May19.csv')\n",
    "print(df.shape)"
   ]
  },
  {
   "cell_type": "code",
   "execution_count": 10,
   "metadata": {},
   "outputs": [
    {
     "data": {
      "text/html": [
       "<div>\n",
       "<style scoped>\n",
       "    .dataframe tbody tr th:only-of-type {\n",
       "        vertical-align: middle;\n",
       "    }\n",
       "\n",
       "    .dataframe tbody tr th {\n",
       "        vertical-align: top;\n",
       "    }\n",
       "\n",
       "    .dataframe thead th {\n",
       "        text-align: right;\n",
       "    }\n",
       "</style>\n",
       "<table border=\"1\" class=\"dataframe\">\n",
       "  <thead>\n",
       "    <tr style=\"text-align: right;\">\n",
       "      <th></th>\n",
       "      <th>id</th>\n",
       "      <th>dateAdded</th>\n",
       "      <th>dateUpdated</th>\n",
       "      <th>name</th>\n",
       "      <th>asins</th>\n",
       "      <th>brand</th>\n",
       "      <th>categories</th>\n",
       "      <th>primaryCategories</th>\n",
       "      <th>imageURLs</th>\n",
       "      <th>keys</th>\n",
       "      <th>...</th>\n",
       "      <th>reviews.didPurchase</th>\n",
       "      <th>reviews.doRecommend</th>\n",
       "      <th>reviews.id</th>\n",
       "      <th>reviews.numHelpful</th>\n",
       "      <th>reviews.rating</th>\n",
       "      <th>reviews.sourceURLs</th>\n",
       "      <th>reviews.text</th>\n",
       "      <th>reviews.title</th>\n",
       "      <th>reviews.username</th>\n",
       "      <th>sourceURLs</th>\n",
       "    </tr>\n",
       "  </thead>\n",
       "  <tbody>\n",
       "    <tr>\n",
       "      <th>0</th>\n",
       "      <td>AVpgNzjwLJeJML43Kpxn</td>\n",
       "      <td>2015-10-30T08:59:32Z</td>\n",
       "      <td>2019-04-25T09:08:16Z</td>\n",
       "      <td>AmazonBasics AAA Performance Alkaline Batterie...</td>\n",
       "      <td>B00QWO9P0O,B00LH3DMUO</td>\n",
       "      <td>Amazonbasics</td>\n",
       "      <td>AA,AAA,Health,Electronics,Health &amp; Household,C...</td>\n",
       "      <td>Health &amp; Beauty</td>\n",
       "      <td>https://images-na.ssl-images-amazon.com/images...</td>\n",
       "      <td>amazonbasics/hl002619,amazonbasicsaaaperforman...</td>\n",
       "      <td>...</td>\n",
       "      <td>NaN</td>\n",
       "      <td>NaN</td>\n",
       "      <td>NaN</td>\n",
       "      <td>NaN</td>\n",
       "      <td>3</td>\n",
       "      <td>https://www.amazon.com/product-reviews/B00QWO9...</td>\n",
       "      <td>I order 3 of them and one of the item is bad q...</td>\n",
       "      <td>... 3 of them and one of the item is bad quali...</td>\n",
       "      <td>Byger yang</td>\n",
       "      <td>https://www.barcodable.com/upc/841710106442,ht...</td>\n",
       "    </tr>\n",
       "    <tr>\n",
       "      <th>1</th>\n",
       "      <td>AVpgNzjwLJeJML43Kpxn</td>\n",
       "      <td>2015-10-30T08:59:32Z</td>\n",
       "      <td>2019-04-25T09:08:16Z</td>\n",
       "      <td>AmazonBasics AAA Performance Alkaline Batterie...</td>\n",
       "      <td>B00QWO9P0O,B00LH3DMUO</td>\n",
       "      <td>Amazonbasics</td>\n",
       "      <td>AA,AAA,Health,Electronics,Health &amp; Household,C...</td>\n",
       "      <td>Health &amp; Beauty</td>\n",
       "      <td>https://images-na.ssl-images-amazon.com/images...</td>\n",
       "      <td>amazonbasics/hl002619,amazonbasicsaaaperforman...</td>\n",
       "      <td>...</td>\n",
       "      <td>NaN</td>\n",
       "      <td>NaN</td>\n",
       "      <td>NaN</td>\n",
       "      <td>NaN</td>\n",
       "      <td>4</td>\n",
       "      <td>https://www.amazon.com/product-reviews/B00QWO9...</td>\n",
       "      <td>Bulk is always the less expensive way to go fo...</td>\n",
       "      <td>... always the less expensive way to go for pr...</td>\n",
       "      <td>ByMG</td>\n",
       "      <td>https://www.barcodable.com/upc/841710106442,ht...</td>\n",
       "    </tr>\n",
       "  </tbody>\n",
       "</table>\n",
       "<p>2 rows × 24 columns</p>\n",
       "</div>"
      ],
      "text/plain": [
       "                     id             dateAdded           dateUpdated  \\\n",
       "0  AVpgNzjwLJeJML43Kpxn  2015-10-30T08:59:32Z  2019-04-25T09:08:16Z   \n",
       "1  AVpgNzjwLJeJML43Kpxn  2015-10-30T08:59:32Z  2019-04-25T09:08:16Z   \n",
       "\n",
       "                                                name                  asins  \\\n",
       "0  AmazonBasics AAA Performance Alkaline Batterie...  B00QWO9P0O,B00LH3DMUO   \n",
       "1  AmazonBasics AAA Performance Alkaline Batterie...  B00QWO9P0O,B00LH3DMUO   \n",
       "\n",
       "          brand                                         categories  \\\n",
       "0  Amazonbasics  AA,AAA,Health,Electronics,Health & Household,C...   \n",
       "1  Amazonbasics  AA,AAA,Health,Electronics,Health & Household,C...   \n",
       "\n",
       "  primaryCategories                                          imageURLs  \\\n",
       "0   Health & Beauty  https://images-na.ssl-images-amazon.com/images...   \n",
       "1   Health & Beauty  https://images-na.ssl-images-amazon.com/images...   \n",
       "\n",
       "                                                keys  ... reviews.didPurchase  \\\n",
       "0  amazonbasics/hl002619,amazonbasicsaaaperforman...  ...                 NaN   \n",
       "1  amazonbasics/hl002619,amazonbasicsaaaperforman...  ...                 NaN   \n",
       "\n",
       "  reviews.doRecommend reviews.id reviews.numHelpful reviews.rating  \\\n",
       "0                 NaN        NaN                NaN              3   \n",
       "1                 NaN        NaN                NaN              4   \n",
       "\n",
       "                                  reviews.sourceURLs  \\\n",
       "0  https://www.amazon.com/product-reviews/B00QWO9...   \n",
       "1  https://www.amazon.com/product-reviews/B00QWO9...   \n",
       "\n",
       "                                        reviews.text  \\\n",
       "0  I order 3 of them and one of the item is bad q...   \n",
       "1  Bulk is always the less expensive way to go fo...   \n",
       "\n",
       "                                       reviews.title  reviews.username  \\\n",
       "0  ... 3 of them and one of the item is bad quali...        Byger yang   \n",
       "1  ... always the less expensive way to go for pr...              ByMG   \n",
       "\n",
       "                                          sourceURLs  \n",
       "0  https://www.barcodable.com/upc/841710106442,ht...  \n",
       "1  https://www.barcodable.com/upc/841710106442,ht...  \n",
       "\n",
       "[2 rows x 24 columns]"
      ]
     },
     "execution_count": 10,
     "metadata": {},
     "output_type": "execute_result"
    }
   ],
   "source": [
    "df.head(2)"
   ]
  },
  {
   "cell_type": "code",
   "execution_count": 11,
   "metadata": {},
   "outputs": [
    {
     "data": {
      "text/plain": [
       "5    19897\n",
       "4     5648\n",
       "3     1206\n",
       "1      965\n",
       "2      616\n",
       "Name: reviews.rating, dtype: int64"
      ]
     },
     "execution_count": 11,
     "metadata": {},
     "output_type": "execute_result"
    }
   ],
   "source": [
    "df['reviews.rating'].value_counts()"
   ]
  },
  {
   "cell_type": "code",
   "execution_count": 14,
   "metadata": {
    "colab": {
     "base_uri": "https://localhost:8080/",
     "height": 85
    },
    "deletable": false,
    "id": "vbsvd0VvGEqx",
    "nbgrader": {
     "cell_type": "code",
     "checksum": "e986ee4afc96df48ac674f9b99732272",
     "grade": false,
     "grade_id": "cell-a170e7dda094d54e",
     "locked": false,
     "schema_version": 3,
     "solution": true,
     "task": false
    },
    "outputId": "ee9a8342-c843-449e-ac69-b52d6668bb05"
   },
   "outputs": [
    {
     "data": {
      "text/plain": [
       "amazon          16153\n",
       "amazonbasics    12179\n",
       "Name: brand, dtype: int64"
      ]
     },
     "execution_count": 14,
     "metadata": {},
     "output_type": "execute_result"
    }
   ],
   "source": [
    "# Get the count of how many times each unique brand occurs\n",
    "df['brand'] = df['brand'].apply(lambda x: x.lower())\n",
    "df.brand.value_counts()"
   ]
  },
  {
   "cell_type": "markdown",
   "metadata": {
    "id": "YkhFYsNXGEq1"
   },
   "source": [
    "##### Keep Only Alphanumeric Characters\n",
    "Yes, we only want letters and numbers. Everything else is probably noise: punctuation, whitespace, and other notation. This one is little bit more complicated than our previous example. Here we will have to import the base package `re` (regular expressions). \n",
    "\n",
    "The only regex expression pattern you need for this is `'[^a-zA-Z 0-9]'` which keeps lower case letters, upper case letters, spaces, and numbers."
   ]
  },
  {
   "cell_type": "code",
   "execution_count": 15,
   "metadata": {
    "colab": {
     "base_uri": "https://localhost:8080/",
     "height": 37
    },
    "id": "YRY7kKSAGEq4",
    "outputId": "050ddca4-0c50-40bb-95be-c06c4e3d1055"
   },
   "outputs": [
    {
     "name": "stdout",
     "output_type": "stream",
     "text": [
      "Friends, Romans, countrymen, lend me your ears; 911\n"
     ]
    }
   ],
   "source": [
    "sample = sample +\" 911\"\n",
    "print(sample)"
   ]
  },
  {
   "cell_type": "code",
   "execution_count": 20,
   "metadata": {
    "colab": {
     "base_uri": "https://localhost:8080/",
     "height": 37
    },
    "id": "YRY7kKSAGEq4",
    "outputId": "050ddca4-0c50-40bb-95be-c06c4e3d1055"
   },
   "outputs": [
    {
     "data": {
      "text/plain": [
       "'Friends Romans countrymen lend me your ears 911'"
      ]
     },
     "execution_count": 20,
     "metadata": {},
     "output_type": "execute_result"
    }
   ],
   "source": [
    "import re\n",
    "\n",
    "re.sub('[^a-zA-Z 0-9]', '', sample)"
   ]
  },
  {
   "cell_type": "markdown",
   "metadata": {
    "id": "obloLh7rGEq7"
   },
   "source": [
    "#### Two Minute Challenge \n",
    "- Complete the function `tokenize` below\n",
    "- Combine the methods which we discussed above to clean text before we analyze it\n",
    "- You can put the methods in any order you want"
   ]
  },
  {
   "cell_type": "code",
   "execution_count": 25,
   "metadata": {
    "deletable": false,
    "id": "0zgbOnoIGEq7",
    "nbgrader": {
     "cell_type": "code",
     "checksum": "0f09207520f5a3a425756889e9cf78aa",
     "grade": false,
     "grade_id": "cell-42630c1891924a1a",
     "locked": false,
     "schema_version": 3,
     "solution": true,
     "task": false
    }
   },
   "outputs": [],
   "source": [
    "def tokenize(text):\n",
    "    \"\"\"Parses a string into a list of semantic units (words)\n",
    "\n",
    "    Args:\n",
    "        text (str): The string that the function will tokenize.\n",
    "\n",
    "    Returns:\n",
    "        list: tokens parsed out by the mechanics of your choice\n",
    "    \"\"\"\n",
    "    lower = text.lower()\n",
    "    lower_no_punc = re.sub('[^a-z 0-9]', '', lower)\n",
    "    tokens = lower_no_punc.split()\n",
    "    \n",
    "    return tokens"
   ]
  },
  {
   "cell_type": "code",
   "execution_count": 26,
   "metadata": {
    "colab": {
     "base_uri": "https://localhost:8080/",
     "height": 34
    },
    "id": "qWsYy-LqGEq9",
    "outputId": "22ff3fdc-2185-4224-b42e-42ccaeb9663e"
   },
   "outputs": [
    {
     "data": {
      "text/plain": [
       "['friends', 'romans', 'countrymen', 'lend', 'me', 'your', 'ears', '911']"
      ]
     },
     "execution_count": 26,
     "metadata": {},
     "output_type": "execute_result"
    }
   ],
   "source": [
    "# this should be your output\n",
    "tokenize(sample)"
   ]
  },
  {
   "cell_type": "code",
   "execution_count": 28,
   "metadata": {},
   "outputs": [
    {
     "name": "stdout",
     "output_type": "stream",
     "text": [
      "3924466\n"
     ]
    }
   ],
   "source": [
    "long_string = ' '.join(df['reviews.text'].to_list())\n",
    "print(len(long_string))"
   ]
  },
  {
   "cell_type": "code",
   "execution_count": 29,
   "metadata": {},
   "outputs": [
    {
     "name": "stdout",
     "output_type": "stream",
     "text": [
      "111\n"
     ]
    },
    {
     "data": {
      "text/plain": [
       "{' ',\n",
       " '!',\n",
       " '\"',\n",
       " '#',\n",
       " '$',\n",
       " '%',\n",
       " '&',\n",
       " \"'\",\n",
       " '(',\n",
       " ')',\n",
       " '*',\n",
       " '+',\n",
       " ',',\n",
       " '-',\n",
       " '.',\n",
       " '/',\n",
       " '0',\n",
       " '1',\n",
       " '2',\n",
       " '3',\n",
       " '4',\n",
       " '5',\n",
       " '6',\n",
       " '7',\n",
       " '8',\n",
       " '9',\n",
       " ':',\n",
       " ';',\n",
       " '<',\n",
       " '=',\n",
       " '>',\n",
       " '?',\n",
       " '@',\n",
       " 'A',\n",
       " 'B',\n",
       " 'C',\n",
       " 'D',\n",
       " 'E',\n",
       " 'F',\n",
       " 'G',\n",
       " 'H',\n",
       " 'I',\n",
       " 'J',\n",
       " 'K',\n",
       " 'L',\n",
       " 'M',\n",
       " 'N',\n",
       " 'O',\n",
       " 'P',\n",
       " 'Q',\n",
       " 'R',\n",
       " 'S',\n",
       " 'T',\n",
       " 'U',\n",
       " 'V',\n",
       " 'W',\n",
       " 'X',\n",
       " 'Y',\n",
       " 'Z',\n",
       " '_',\n",
       " '`',\n",
       " 'a',\n",
       " 'b',\n",
       " 'c',\n",
       " 'd',\n",
       " 'e',\n",
       " 'f',\n",
       " 'g',\n",
       " 'h',\n",
       " 'i',\n",
       " 'j',\n",
       " 'k',\n",
       " 'l',\n",
       " 'm',\n",
       " 'n',\n",
       " 'o',\n",
       " 'p',\n",
       " 'q',\n",
       " 'r',\n",
       " 's',\n",
       " 't',\n",
       " 'u',\n",
       " 'v',\n",
       " 'w',\n",
       " 'x',\n",
       " 'y',\n",
       " 'z',\n",
       " '{',\n",
       " '|',\n",
       " '©',\n",
       " '¬',\n",
       " '¶',\n",
       " 'º',\n",
       " 'Ä',\n",
       " 'Å',\n",
       " 'Ô',\n",
       " 'ã',\n",
       " 'è',\n",
       " 'ì',\n",
       " 'ò',\n",
       " 'ô',\n",
       " 'ù',\n",
       " 'ú',\n",
       " 'ƒ',\n",
       " '‚',\n",
       " '†',\n",
       " '∏',\n",
       " '√',\n",
       " '∞',\n",
       " '∫',\n",
       " '≤'}"
      ]
     },
     "execution_count": 29,
     "metadata": {},
     "output_type": "execute_result"
    }
   ],
   "source": [
    "unique_chars = set(list(long_string))\n",
    "print(len(unique_chars))\n",
    "unique_chars"
   ]
  },
  {
   "cell_type": "code",
   "execution_count": 30,
   "metadata": {},
   "outputs": [
    {
     "name": "stdout",
     "output_type": "stream",
     "text": [
      "63\n"
     ]
    },
    {
     "data": {
      "text/plain": [
       "{' ',\n",
       " '0',\n",
       " '1',\n",
       " '2',\n",
       " '3',\n",
       " '4',\n",
       " '5',\n",
       " '6',\n",
       " '7',\n",
       " '8',\n",
       " '9',\n",
       " 'A',\n",
       " 'B',\n",
       " 'C',\n",
       " 'D',\n",
       " 'E',\n",
       " 'F',\n",
       " 'G',\n",
       " 'H',\n",
       " 'I',\n",
       " 'J',\n",
       " 'K',\n",
       " 'L',\n",
       " 'M',\n",
       " 'N',\n",
       " 'O',\n",
       " 'P',\n",
       " 'Q',\n",
       " 'R',\n",
       " 'S',\n",
       " 'T',\n",
       " 'U',\n",
       " 'V',\n",
       " 'W',\n",
       " 'X',\n",
       " 'Y',\n",
       " 'Z',\n",
       " 'a',\n",
       " 'b',\n",
       " 'c',\n",
       " 'd',\n",
       " 'e',\n",
       " 'f',\n",
       " 'g',\n",
       " 'h',\n",
       " 'i',\n",
       " 'j',\n",
       " 'k',\n",
       " 'l',\n",
       " 'm',\n",
       " 'n',\n",
       " 'o',\n",
       " 'p',\n",
       " 'q',\n",
       " 'r',\n",
       " 's',\n",
       " 't',\n",
       " 'u',\n",
       " 'v',\n",
       " 'w',\n",
       " 'x',\n",
       " 'y',\n",
       " 'z'}"
      ]
     },
     "execution_count": 30,
     "metadata": {},
     "output_type": "execute_result"
    }
   ],
   "source": [
    "clean_string = re.sub('[^a-zA-Z 0-9]', '', long_string)\n",
    "\n",
    "unique_chars = set(list(clean_string))\n",
    "print(len(unique_chars))\n",
    "unique_chars"
   ]
  },
  {
   "cell_type": "markdown",
   "metadata": {
    "id": "erSMd4diGEq_",
    "toc-hr-collapsed": true
   },
   "source": [
    "## Follow Along\n",
    "\n",
    "Our inability to analyze text data becomes quickly amplified in a business context. Consider the following: \n",
    "\n",
    "A business which sells widgets also collects customer reviews of those widgets. When the business first started out, they had a human read the reviews to look for patterns. Now, the business sells thousands of widgets a month. The human readers can't keep up with the pace of reviews to synthesize an accurate analysis. They need some science to help them analyze their data.\n",
    "\n",
    "Now, let's pretend that business is Amazon, and the widgets are Amazon products such as the Alexa, Echo, or other AmazonBasics products. Let's analyze their reviews with some counts. This dataset is available on [Kaggle](https://www.kaggle.com/datafiniti/consumer-reviews-of-amazon-products/)."
   ]
  },
  {
   "cell_type": "code",
   "execution_count": 34,
   "metadata": {
    "id": "8Ap1zL81GErA"
   },
   "outputs": [],
   "source": [
    "\"\"\"\n",
    "Import Statements\n",
    "\"\"\"\n",
    "\n",
    "# Base\n",
    "from collections import Counter\n",
    "import re\n",
    " \n",
    "import pandas as pd\n",
    "\n",
    "# Plotting\n",
    "import squarify\n",
    "import matplotlib.pyplot as plt\n",
    "import seaborn as sns\n",
    "\n",
    "# NLP Libraries\n",
    "import spacy\n",
    "from spacy.tokenizer import Tokenizer\n",
    "from nltk.stem import PorterStemmer\n",
    "\n",
    "nlp = spacy.load('en_core_web_md')"
   ]
  },
  {
   "cell_type": "code",
   "execution_count": 35,
   "metadata": {
    "colab": {
     "base_uri": "https://localhost:8080/",
     "height": 267
    },
    "id": "ydhFysF-GErC",
    "outputId": "a6ba71f2-a186-441c-a00f-0bb9f0b6dc76"
   },
   "outputs": [
    {
     "data": {
      "text/html": [
       "<div>\n",
       "<style scoped>\n",
       "    .dataframe tbody tr th:only-of-type {\n",
       "        vertical-align: middle;\n",
       "    }\n",
       "\n",
       "    .dataframe tbody tr th {\n",
       "        vertical-align: top;\n",
       "    }\n",
       "\n",
       "    .dataframe thead th {\n",
       "        text-align: right;\n",
       "    }\n",
       "</style>\n",
       "<table border=\"1\" class=\"dataframe\">\n",
       "  <thead>\n",
       "    <tr style=\"text-align: right;\">\n",
       "      <th></th>\n",
       "      <th>id</th>\n",
       "      <th>dateAdded</th>\n",
       "      <th>dateUpdated</th>\n",
       "      <th>name</th>\n",
       "      <th>asins</th>\n",
       "      <th>brand</th>\n",
       "      <th>categories</th>\n",
       "      <th>primaryCategories</th>\n",
       "      <th>imageURLs</th>\n",
       "      <th>keys</th>\n",
       "      <th>...</th>\n",
       "      <th>reviews.didPurchase</th>\n",
       "      <th>reviews.doRecommend</th>\n",
       "      <th>reviews.id</th>\n",
       "      <th>reviews.numHelpful</th>\n",
       "      <th>reviews.rating</th>\n",
       "      <th>reviews.sourceURLs</th>\n",
       "      <th>reviews.text</th>\n",
       "      <th>reviews.title</th>\n",
       "      <th>reviews.username</th>\n",
       "      <th>sourceURLs</th>\n",
       "    </tr>\n",
       "  </thead>\n",
       "  <tbody>\n",
       "    <tr>\n",
       "      <th>0</th>\n",
       "      <td>AVpgNzjwLJeJML43Kpxn</td>\n",
       "      <td>2015-10-30T08:59:32Z</td>\n",
       "      <td>2019-04-25T09:08:16Z</td>\n",
       "      <td>AmazonBasics AAA Performance Alkaline Batterie...</td>\n",
       "      <td>B00QWO9P0O,B00LH3DMUO</td>\n",
       "      <td>amazonbasics</td>\n",
       "      <td>AA,AAA,Health,Electronics,Health &amp; Household,C...</td>\n",
       "      <td>Health &amp; Beauty</td>\n",
       "      <td>https://images-na.ssl-images-amazon.com/images...</td>\n",
       "      <td>amazonbasics/hl002619,amazonbasicsaaaperforman...</td>\n",
       "      <td>...</td>\n",
       "      <td>NaN</td>\n",
       "      <td>NaN</td>\n",
       "      <td>NaN</td>\n",
       "      <td>NaN</td>\n",
       "      <td>3</td>\n",
       "      <td>https://www.amazon.com/product-reviews/B00QWO9...</td>\n",
       "      <td>I order 3 of them and one of the item is bad q...</td>\n",
       "      <td>... 3 of them and one of the item is bad quali...</td>\n",
       "      <td>Byger yang</td>\n",
       "      <td>https://www.barcodable.com/upc/841710106442,ht...</td>\n",
       "    </tr>\n",
       "    <tr>\n",
       "      <th>1</th>\n",
       "      <td>AVpgNzjwLJeJML43Kpxn</td>\n",
       "      <td>2015-10-30T08:59:32Z</td>\n",
       "      <td>2019-04-25T09:08:16Z</td>\n",
       "      <td>AmazonBasics AAA Performance Alkaline Batterie...</td>\n",
       "      <td>B00QWO9P0O,B00LH3DMUO</td>\n",
       "      <td>amazonbasics</td>\n",
       "      <td>AA,AAA,Health,Electronics,Health &amp; Household,C...</td>\n",
       "      <td>Health &amp; Beauty</td>\n",
       "      <td>https://images-na.ssl-images-amazon.com/images...</td>\n",
       "      <td>amazonbasics/hl002619,amazonbasicsaaaperforman...</td>\n",
       "      <td>...</td>\n",
       "      <td>NaN</td>\n",
       "      <td>NaN</td>\n",
       "      <td>NaN</td>\n",
       "      <td>NaN</td>\n",
       "      <td>4</td>\n",
       "      <td>https://www.amazon.com/product-reviews/B00QWO9...</td>\n",
       "      <td>Bulk is always the less expensive way to go fo...</td>\n",
       "      <td>... always the less expensive way to go for pr...</td>\n",
       "      <td>ByMG</td>\n",
       "      <td>https://www.barcodable.com/upc/841710106442,ht...</td>\n",
       "    </tr>\n",
       "  </tbody>\n",
       "</table>\n",
       "<p>2 rows × 24 columns</p>\n",
       "</div>"
      ],
      "text/plain": [
       "                     id             dateAdded           dateUpdated  \\\n",
       "0  AVpgNzjwLJeJML43Kpxn  2015-10-30T08:59:32Z  2019-04-25T09:08:16Z   \n",
       "1  AVpgNzjwLJeJML43Kpxn  2015-10-30T08:59:32Z  2019-04-25T09:08:16Z   \n",
       "\n",
       "                                                name                  asins  \\\n",
       "0  AmazonBasics AAA Performance Alkaline Batterie...  B00QWO9P0O,B00LH3DMUO   \n",
       "1  AmazonBasics AAA Performance Alkaline Batterie...  B00QWO9P0O,B00LH3DMUO   \n",
       "\n",
       "          brand                                         categories  \\\n",
       "0  amazonbasics  AA,AAA,Health,Electronics,Health & Household,C...   \n",
       "1  amazonbasics  AA,AAA,Health,Electronics,Health & Household,C...   \n",
       "\n",
       "  primaryCategories                                          imageURLs  \\\n",
       "0   Health & Beauty  https://images-na.ssl-images-amazon.com/images...   \n",
       "1   Health & Beauty  https://images-na.ssl-images-amazon.com/images...   \n",
       "\n",
       "                                                keys  ... reviews.didPurchase  \\\n",
       "0  amazonbasics/hl002619,amazonbasicsaaaperforman...  ...                 NaN   \n",
       "1  amazonbasics/hl002619,amazonbasicsaaaperforman...  ...                 NaN   \n",
       "\n",
       "  reviews.doRecommend reviews.id reviews.numHelpful reviews.rating  \\\n",
       "0                 NaN        NaN                NaN              3   \n",
       "1                 NaN        NaN                NaN              4   \n",
       "\n",
       "                                  reviews.sourceURLs  \\\n",
       "0  https://www.amazon.com/product-reviews/B00QWO9...   \n",
       "1  https://www.amazon.com/product-reviews/B00QWO9...   \n",
       "\n",
       "                                        reviews.text  \\\n",
       "0  I order 3 of them and one of the item is bad q...   \n",
       "1  Bulk is always the less expensive way to go fo...   \n",
       "\n",
       "                                       reviews.title  reviews.username  \\\n",
       "0  ... 3 of them and one of the item is bad quali...        Byger yang   \n",
       "1  ... always the less expensive way to go for pr...              ByMG   \n",
       "\n",
       "                                          sourceURLs  \n",
       "0  https://www.barcodable.com/upc/841710106442,ht...  \n",
       "1  https://www.barcodable.com/upc/841710106442,ht...  \n",
       "\n",
       "[2 rows x 24 columns]"
      ]
     },
     "execution_count": 35,
     "metadata": {},
     "output_type": "execute_result"
    }
   ],
   "source": [
    "df.head(2)"
   ]
  },
  {
   "cell_type": "code",
   "execution_count": 36,
   "metadata": {
    "colab": {
     "base_uri": "https://localhost:8080/",
     "height": 884
    },
    "deletable": false,
    "id": "Lkl_l_3KGErH",
    "nbgrader": {
     "cell_type": "code",
     "checksum": "c9af223b0b92d4f38bf65a8a59b77553",
     "grade": false,
     "grade_id": "cell-afe39f461a4852ac",
     "locked": false,
     "schema_version": 3,
     "solution": true,
     "task": false
    },
    "outputId": "23b1f11e-5349-46d7-8823-e1a46a93747f"
   },
   "outputs": [
    {
     "data": {
      "text/plain": [
       "good                                                                                                                                                                        60\n",
       "great                                                                                                                                                                       49\n",
       "Good                                                                                                                                                                        42\n",
       "Great                                                                                                                                                                       38\n",
       "ok                                                                                                                                                                          33\n",
       "                                                                                                                                                                            ..\n",
       "Great tablet for kids and elders. Easy to use. Nothing fancy about it. It just gets the simplest of task done at a great price. Had for 1 week and it has had no issues.     1\n",
       "Bought this for my grandniece, keeps her entertained. Can't beat the price.                                                                                                  1\n",
       "Really nice tablet , screen is pretty clear. Useful apps is reason I bought it.                                                                                              1\n",
       "Perfect and what a great deal. Better to buy in bulk, FRUSTRATION free packaging I love this!                                                                                1\n",
       "Lot of batteries for cheap. Perfect for the holiday electronic rush. Also good to have in my home office.                                                                    1\n",
       "Name: reviews.text, Length: 18168, dtype: int64"
      ]
     },
     "execution_count": 36,
     "metadata": {},
     "output_type": "execute_result"
    }
   ],
   "source": [
    "df['reviews.text'].value_counts()"
   ]
  },
  {
   "cell_type": "code",
   "execution_count": 38,
   "metadata": {},
   "outputs": [
    {
     "data": {
      "text/plain": [
       "0    [i, order, 3, of, them, and, one, of, the, ite...\n",
       "1    [bulk, is, always, the, less, expensive, way, ...\n",
       "2    [well, they, are, not, duracell, but, for, the...\n",
       "3    [seem, to, work, as, well, as, name, brand, ba...\n",
       "4    [these, batteries, are, very, long, lasting, t...\n",
       "Name: tokens, dtype: object"
      ]
     },
     "execution_count": 38,
     "metadata": {},
     "output_type": "execute_result"
    }
   ],
   "source": [
    "df['tokens'] = df['reviews.text'].apply(lambda x: tokenize(x))\n",
    "df['tokens'].head()"
   ]
  },
  {
   "cell_type": "markdown",
   "metadata": {
    "id": "8hOBAw2yGErU"
   },
   "source": [
    "#### Analyzing Tokens"
   ]
  },
  {
   "cell_type": "code",
   "execution_count": 39,
   "metadata": {
    "colab": {
     "base_uri": "https://localhost:8080/",
     "height": 187
    },
    "deletable": false,
    "id": "6jVvZAvJGErU",
    "nbgrader": {
     "cell_type": "code",
     "checksum": "4fcf360b68c204e6742580d513c4239e",
     "grade": false,
     "grade_id": "cell-1df54ac52c426166",
     "locked": false,
     "schema_version": 3,
     "solution": true,
     "task": false
    },
    "outputId": "79b4c6c6-5dda-4903-e472-94b4530cd049"
   },
   "outputs": [
    {
     "data": {
      "text/plain": [
       "[('the', 28836),\n",
       " ('and', 22302),\n",
       " ('i', 20588),\n",
       " ('to', 19537),\n",
       " ('for', 17918),\n",
       " ('a', 17599),\n",
       " ('it', 16793),\n",
       " ('is', 11482),\n",
       " ('my', 11149),\n",
       " ('this', 10420)]"
      ]
     },
     "execution_count": 39,
     "metadata": {},
     "output_type": "execute_result"
    }
   ],
   "source": [
    "# Object from Base Python\n",
    "from collections import Counter\n",
    "\n",
    "# The object `Counter` takes an iterable, but you can instaniate an empty one and update it. \n",
    "word_counts = Counter()\n",
    "\n",
    "# Update it based on a split of each of our documents\n",
    "df['tokens'].apply(lambda x: word_counts.update(x))\n",
    "\n",
    "# Print out the 10 most common words\n",
    "word_counts.most_common(10)"
   ]
  },
  {
   "cell_type": "markdown",
   "metadata": {
    "id": "TiVHbw6xGErW"
   },
   "source": [
    "Let's create a fuction which takes a corpus of document and returns and dataframe of word counts for us to analyze."
   ]
  },
  {
   "cell_type": "code",
   "execution_count": 40,
   "metadata": {
    "id": "ypyH-_x1GErX"
   },
   "outputs": [],
   "source": [
    "def count(tokens):\n",
    "    \"\"\"\n",
    "    Calculates some basic statistics about tokens in our corpus (i.e. corpus means collections text data)\n",
    "    \"\"\"\n",
    "    # stores the count of each token\n",
    "    word_counts = Counter()\n",
    "    \n",
    "    # stores the number of docs that each token appears in \n",
    "    appears_in = Counter()\n",
    "\n",
    "    total_docs = len(tokens)\n",
    "\n",
    "    for token in tokens:\n",
    "        # stores count of every appearance of a token \n",
    "        word_counts.update(token)\n",
    "        # use set() in order to not count duplicates, thereby count the num of docs that each token appears in\n",
    "        appears_in.update(set(token))\n",
    "\n",
    "    # build word count dataframe\n",
    "    temp = zip(word_counts.keys(), word_counts.values())\n",
    "    wc = pd.DataFrame(temp, columns = ['word', 'count'])\n",
    "\n",
    "    # rank the the word counts\n",
    "    wc['rank'] = wc['count'].rank(method='first', ascending=False)\n",
    "    total = wc['count'].sum()\n",
    "\n",
    "    # calculate the percent total of each token\n",
    "    wc['pct_total'] = wc['count'].apply(lambda token_count: token_count / total)\n",
    "\n",
    "    # calculate the cumulative percent total of word counts \n",
    "    wc = wc.sort_values(by='rank')\n",
    "    wc['cul_pct_total'] = wc['pct_total'].cumsum()\n",
    "\n",
    "    # create dataframe for document stats\n",
    "    t2 = zip(appears_in.keys(), appears_in.values())\n",
    "    ac = pd.DataFrame(t2, columns=['word', 'appears_in'])\n",
    "    \n",
    "    # merge word count stats with doc stats\n",
    "    wc = ac.merge(wc, on='word')\n",
    "\n",
    "    wc['appears_in_pct'] = wc['appears_in'].apply(lambda x: x / total_docs)\n",
    "\n",
    "    return wc.sort_values(by='rank')"
   ]
  },
  {
   "cell_type": "code",
   "execution_count": 41,
   "metadata": {
    "id": "GqqwygrUGErZ"
   },
   "outputs": [
    {
     "name": "stdout",
     "output_type": "stream",
     "text": [
      "(12895, 7)\n"
     ]
    },
    {
     "data": {
      "text/html": [
       "<div>\n",
       "<style scoped>\n",
       "    .dataframe tbody tr th:only-of-type {\n",
       "        vertical-align: middle;\n",
       "    }\n",
       "\n",
       "    .dataframe tbody tr th {\n",
       "        vertical-align: top;\n",
       "    }\n",
       "\n",
       "    .dataframe thead th {\n",
       "        text-align: right;\n",
       "    }\n",
       "</style>\n",
       "<table border=\"1\" class=\"dataframe\">\n",
       "  <thead>\n",
       "    <tr style=\"text-align: right;\">\n",
       "      <th></th>\n",
       "      <th>word</th>\n",
       "      <th>appears_in</th>\n",
       "      <th>count</th>\n",
       "      <th>rank</th>\n",
       "      <th>pct_total</th>\n",
       "      <th>cul_pct_total</th>\n",
       "      <th>appears_in_pct</th>\n",
       "    </tr>\n",
       "  </thead>\n",
       "  <tbody>\n",
       "    <tr>\n",
       "      <th>17</th>\n",
       "      <td>the</td>\n",
       "      <td>13185</td>\n",
       "      <td>28836</td>\n",
       "      <td>1.0</td>\n",
       "      <td>0.039350</td>\n",
       "      <td>0.039350</td>\n",
       "      <td>0.465375</td>\n",
       "    </tr>\n",
       "    <tr>\n",
       "      <th>10</th>\n",
       "      <td>and</td>\n",
       "      <td>13731</td>\n",
       "      <td>22302</td>\n",
       "      <td>2.0</td>\n",
       "      <td>0.030434</td>\n",
       "      <td>0.069784</td>\n",
       "      <td>0.484646</td>\n",
       "    </tr>\n",
       "    <tr>\n",
       "      <th>8</th>\n",
       "      <td>i</td>\n",
       "      <td>10301</td>\n",
       "      <td>20588</td>\n",
       "      <td>3.0</td>\n",
       "      <td>0.028095</td>\n",
       "      <td>0.097879</td>\n",
       "      <td>0.363582</td>\n",
       "    </tr>\n",
       "    <tr>\n",
       "      <th>16</th>\n",
       "      <td>to</td>\n",
       "      <td>11312</td>\n",
       "      <td>19537</td>\n",
       "      <td>4.0</td>\n",
       "      <td>0.026661</td>\n",
       "      <td>0.124539</td>\n",
       "      <td>0.399266</td>\n",
       "    </tr>\n",
       "    <tr>\n",
       "      <th>34</th>\n",
       "      <td>for</td>\n",
       "      <td>12101</td>\n",
       "      <td>17918</td>\n",
       "      <td>5.0</td>\n",
       "      <td>0.024451</td>\n",
       "      <td>0.148990</td>\n",
       "      <td>0.427114</td>\n",
       "    </tr>\n",
       "  </tbody>\n",
       "</table>\n",
       "</div>"
      ],
      "text/plain": [
       "   word  appears_in  count  rank  pct_total  cul_pct_total  appears_in_pct\n",
       "17  the       13185  28836   1.0   0.039350       0.039350        0.465375\n",
       "10  and       13731  22302   2.0   0.030434       0.069784        0.484646\n",
       "8     i       10301  20588   3.0   0.028095       0.097879        0.363582\n",
       "16   to       11312  19537   4.0   0.026661       0.124539        0.399266\n",
       "34  for       12101  17918   5.0   0.024451       0.148990        0.427114"
      ]
     },
     "execution_count": 41,
     "metadata": {},
     "output_type": "execute_result"
    }
   ],
   "source": [
    "# Use the Function\n",
    "wc = count(df['tokens'])\n",
    "print(wc.shape)\n",
    "wc.head()"
   ]
  },
  {
   "cell_type": "code",
   "execution_count": 42,
   "metadata": {
    "colab": {
     "base_uri": "https://localhost:8080/",
     "height": 279
    },
    "id": "u9kI5BjnGErc",
    "outputId": "8622477c-d7c7-4d6c-c58e-994ae23b65ee"
   },
   "outputs": [
    {
     "data": {
      "image/png": "[encoded data removed]",
      "text/plain": [
       "<Figure size 432x288 with 1 Axes>"
      ]
     },
     "metadata": {
      "needs_background": "light"
     },
     "output_type": "display_data"
    }
   ],
   "source": [
    "import seaborn as sns\n",
    "\n",
    "# Cumulative Distribution Plot\n",
    "sns.lineplot(x='rank', y='cul_pct_total', data=wc);"
   ]
  },
  {
   "cell_type": "code",
   "execution_count": 43,
   "metadata": {
    "colab": {
     "base_uri": "https://localhost:8080/",
     "height": 34
    },
    "id": "GKpixh5DGEre",
    "outputId": "0611cd25-46ce-4e16-edd3-d1ae2ca09e92"
   },
   "outputs": [
    {
     "data": {
      "text/plain": [
       "0.6012123263182888"
      ]
     },
     "execution_count": 43,
     "metadata": {},
     "output_type": "execute_result"
    }
   ],
   "source": [
    "wc[wc['rank'] <= 100]['cul_pct_total'].max()"
   ]
  },
  {
   "cell_type": "code",
   "execution_count": 44,
   "metadata": {
    "colab": {
     "base_uri": "https://localhost:8080/",
     "height": 248
    },
    "id": "-yuCq8nuGErg",
    "outputId": "a4d60c06-06a5-47cc-84ad-cd1faa8d30de"
   },
   "outputs": [
    {
     "data": {
      "image/png": "[encoded data removed]",
      "text/plain": [
       "<Figure size 432x288 with 1 Axes>"
      ]
     },
     "metadata": {
      "needs_background": "light"
     },
     "output_type": "display_data"
    }
   ],
   "source": [
    "import squarify\n",
    "import matplotlib.pyplot as plt\n",
    "\n",
    "wc_top20 = wc[wc['rank'] <= 20]\n",
    "\n",
    "squarify.plot(sizes=wc_top20['pct_total'], label=wc_top20['word'], alpha=.8)\n",
    "plt.axis('off')\n",
    "plt.show()"
   ]
  },
  {
   "cell_type": "markdown",
   "metadata": {
    "id": "XIXSsYI_GEri"
   },
   "source": [
    "### Processing Raw Text with Spacy\n",
    "\n",
    "Spacy's datamodel for documents is unique among NLP libraries. Instead of storing the documents components in various data structures, Spacy indexes components and simply stores the lookup information. \n",
    "\n",
    "This is often why Spacy is considered to be more production grade than library like NLTK."
   ]
  },
  {
   "cell_type": "code",
   "execution_count": 46,
   "metadata": {
    "id": "4qlRt5SIGErk"
   },
   "outputs": [],
   "source": [
    "sample = \"\"\"\n",
    "Natural Language Processing Summary\n",
    "The field of study that focuses on the interactions between human language and computers is called Natural Language Processing, or NLP for short. It sits at the intersection of computer science, artificial intelligence, and computational linguistics (Wikipedia).\n",
    "\n",
    "“Nat­ur­al Lan­guage Pro­cessing is a field that cov­ers com­puter un­der­stand­ing and ma­nip­u­la­tion of hu­man lan­guage, and it’s ripe with pos­sib­il­it­ies for news­gath­er­ing,” Anthony Pesce said in Natural Language Processing in the kitchen. “You usu­ally hear about it in the con­text of ana­lyz­ing large pools of legis­la­tion or other doc­u­ment sets, at­tempt­ing to dis­cov­er pat­terns or root out cor­rup­tion.”\n",
    "\"\"\""
   ]
  },
  {
   "cell_type": "code",
   "execution_count": 47,
   "metadata": {
    "id": "FjA1TF9vGErl"
   },
   "outputs": [],
   "source": [
    "doc = nlp(sample)"
   ]
  },
  {
   "cell_type": "code",
   "execution_count": 48,
   "metadata": {},
   "outputs": [
    {
     "data": {
      "text/plain": [
       "['_',\n",
       " '__bytes__',\n",
       " '__class__',\n",
       " '__delattr__',\n",
       " '__dir__',\n",
       " '__doc__',\n",
       " '__eq__',\n",
       " '__format__',\n",
       " '__ge__',\n",
       " '__getattribute__',\n",
       " '__getitem__',\n",
       " '__gt__',\n",
       " '__hash__',\n",
       " '__init__',\n",
       " '__init_subclass__',\n",
       " '__iter__',\n",
       " '__le__',\n",
       " '__len__',\n",
       " '__lt__',\n",
       " '__ne__',\n",
       " '__new__',\n",
       " '__pyx_vtable__',\n",
       " '__reduce__',\n",
       " '__reduce_ex__',\n",
       " '__repr__',\n",
       " '__setattr__',\n",
       " '__setstate__',\n",
       " '__sizeof__',\n",
       " '__str__',\n",
       " '__subclasshook__',\n",
       " '__unicode__',\n",
       " '_bulk_merge',\n",
       " '_py_tokens',\n",
       " '_realloc',\n",
       " '_vector',\n",
       " '_vector_norm',\n",
       " 'cats',\n",
       " 'char_span',\n",
       " 'count_by',\n",
       " 'doc',\n",
       " 'ents',\n",
       " 'extend_tensor',\n",
       " 'from_array',\n",
       " 'from_bytes',\n",
       " 'from_disk',\n",
       " 'get_extension',\n",
       " 'get_lca_matrix',\n",
       " 'has_extension',\n",
       " 'has_vector',\n",
       " 'is_nered',\n",
       " 'is_parsed',\n",
       " 'is_sentenced',\n",
       " 'is_tagged',\n",
       " 'lang',\n",
       " 'lang_',\n",
       " 'mem',\n",
       " 'merge',\n",
       " 'noun_chunks',\n",
       " 'noun_chunks_iterator',\n",
       " 'print_tree',\n",
       " 'remove_extension',\n",
       " 'retokenize',\n",
       " 'sentiment',\n",
       " 'sents',\n",
       " 'set_extension',\n",
       " 'similarity',\n",
       " 'tensor',\n",
       " 'text',\n",
       " 'text_with_ws',\n",
       " 'to_array',\n",
       " 'to_bytes',\n",
       " 'to_disk',\n",
       " 'to_json',\n",
       " 'to_utf8_array',\n",
       " 'user_data',\n",
       " 'user_hooks',\n",
       " 'user_span_hooks',\n",
       " 'user_token_hooks',\n",
       " 'vector',\n",
       " 'vector_norm',\n",
       " 'vocab']"
      ]
     },
     "execution_count": 48,
     "metadata": {},
     "output_type": "execute_result"
    }
   ],
   "source": [
    "dir(doc)"
   ]
  },
  {
   "cell_type": "code",
   "execution_count": 53,
   "metadata": {
    "deletable": false,
    "id": "ZBa99HsYGErn",
    "nbgrader": {
     "cell_type": "code",
     "checksum": "81b7eb7803a81637e2acde6779d1452a",
     "grade": false,
     "grade_id": "cell-fc63dad59954bbff",
     "locked": false,
     "schema_version": 3,
     "solution": true,
     "task": false
    }
   },
   "outputs": [
    {
     "data": {
      "image/png": "[encoded data removed]",
      "text/plain": [
       "<Figure size 432x288 with 1 Axes>"
      ]
     },
     "metadata": {
      "needs_background": "light"
     },
     "output_type": "display_data"
    }
   ],
   "source": [
    "nlp.disable_pipes('tagger', 'parser')\n",
    "\n",
    "# create a tokenizer using spacy\n",
    "spacy_tokens = []\n",
    "for doc in nlp.pipe(df['reviews.text']):\n",
    "    \n",
    "    doc_tokens = []\n",
    "    for token in doc:\n",
    "        doc_tokens.append(token.text)\n",
    "        \n",
    "    spacy_tokens.append(doc_tokens)\n",
    "    \n",
    "df['spacy_tokens'] = spacy_tokens\n",
    "\n",
    "wc = count(df['spacy_tokens'])\n",
    "wc_top20 = wc[wc['rank'] <= 20]\n",
    "\n",
    "squarify.plot(sizes=wc_top20['pct_total'], label=wc_top20['word'], alpha=.8)\n",
    "plt.axis('off')\n",
    "plt.show()"
   ]
  },
  {
   "cell_type": "code",
   "execution_count": 63,
   "metadata": {},
   "outputs": [
    {
     "data": {
      "text/plain": [
       "(13832, 7)"
      ]
     },
     "execution_count": 63,
     "metadata": {},
     "output_type": "execute_result"
    }
   ],
   "source": [
    "wc.shape"
   ]
  },
  {
   "cell_type": "code",
   "execution_count": 56,
   "metadata": {},
   "outputs": [
    {
     "data": {
      "text/plain": [
       "['_',\n",
       " '__bytes__',\n",
       " '__class__',\n",
       " '__delattr__',\n",
       " '__dir__',\n",
       " '__doc__',\n",
       " '__eq__',\n",
       " '__format__',\n",
       " '__ge__',\n",
       " '__getattribute__',\n",
       " '__gt__',\n",
       " '__hash__',\n",
       " '__init__',\n",
       " '__init_subclass__',\n",
       " '__le__',\n",
       " '__len__',\n",
       " '__lt__',\n",
       " '__ne__',\n",
       " '__new__',\n",
       " '__pyx_vtable__',\n",
       " '__reduce__',\n",
       " '__reduce_ex__',\n",
       " '__repr__',\n",
       " '__setattr__',\n",
       " '__sizeof__',\n",
       " '__str__',\n",
       " '__subclasshook__',\n",
       " '__unicode__',\n",
       " 'ancestors',\n",
       " 'check_flag',\n",
       " 'children',\n",
       " 'cluster',\n",
       " 'conjuncts',\n",
       " 'dep',\n",
       " 'dep_',\n",
       " 'doc',\n",
       " 'ent_id',\n",
       " 'ent_id_',\n",
       " 'ent_iob',\n",
       " 'ent_iob_',\n",
       " 'ent_kb_id',\n",
       " 'ent_kb_id_',\n",
       " 'ent_type',\n",
       " 'ent_type_',\n",
       " 'get_extension',\n",
       " 'has_extension',\n",
       " 'has_vector',\n",
       " 'head',\n",
       " 'i',\n",
       " 'idx',\n",
       " 'is_alpha',\n",
       " 'is_ancestor',\n",
       " 'is_ascii',\n",
       " 'is_bracket',\n",
       " 'is_currency',\n",
       " 'is_digit',\n",
       " 'is_left_punct',\n",
       " 'is_lower',\n",
       " 'is_oov',\n",
       " 'is_punct',\n",
       " 'is_quote',\n",
       " 'is_right_punct',\n",
       " 'is_sent_start',\n",
       " 'is_space',\n",
       " 'is_stop',\n",
       " 'is_title',\n",
       " 'is_upper',\n",
       " 'lang',\n",
       " 'lang_',\n",
       " 'left_edge',\n",
       " 'lefts',\n",
       " 'lemma',\n",
       " 'lemma_',\n",
       " 'lex_id',\n",
       " 'like_email',\n",
       " 'like_num',\n",
       " 'like_url',\n",
       " 'lower',\n",
       " 'lower_',\n",
       " 'morph',\n",
       " 'n_lefts',\n",
       " 'n_rights',\n",
       " 'nbor',\n",
       " 'norm',\n",
       " 'norm_',\n",
       " 'orth',\n",
       " 'orth_',\n",
       " 'pos',\n",
       " 'pos_',\n",
       " 'prefix',\n",
       " 'prefix_',\n",
       " 'prob',\n",
       " 'rank',\n",
       " 'remove_extension',\n",
       " 'right_edge',\n",
       " 'rights',\n",
       " 'sent',\n",
       " 'sent_start',\n",
       " 'sentiment',\n",
       " 'set_extension',\n",
       " 'shape',\n",
       " 'shape_',\n",
       " 'similarity',\n",
       " 'string',\n",
       " 'subtree',\n",
       " 'suffix',\n",
       " 'suffix_',\n",
       " 'tag',\n",
       " 'tag_',\n",
       " 'tensor',\n",
       " 'text',\n",
       " 'text_with_ws',\n",
       " 'vector',\n",
       " 'vector_norm',\n",
       " 'vocab',\n",
       " 'whitespace_']"
      ]
     },
     "execution_count": 56,
     "metadata": {},
     "output_type": "execute_result"
    }
   ],
   "source": [
    "dir(token)"
   ]
  },
  {
   "cell_type": "code",
   "execution_count": 55,
   "metadata": {},
   "outputs": [
    {
     "data": {
      "text/plain": [
       "'.'"
      ]
     },
     "execution_count": 55,
     "metadata": {},
     "output_type": "execute_result"
    }
   ],
   "source": [
    "token.text"
   ]
  },
  {
   "cell_type": "code",
   "execution_count": 58,
   "metadata": {},
   "outputs": [
    {
     "data": {
      "text/plain": [
       "True"
      ]
     },
     "execution_count": 58,
     "metadata": {},
     "output_type": "execute_result"
    }
   ],
   "source": [
    "token.is_punct"
   ]
  },
  {
   "cell_type": "code",
   "execution_count": 61,
   "metadata": {},
   "outputs": [
    {
     "data": {
      "text/plain": [
       "''"
      ]
     },
     "execution_count": 61,
     "metadata": {},
     "output_type": "execute_result"
    }
   ],
   "source": [
    "token.pos_"
   ]
  },
  {
   "cell_type": "markdown",
   "metadata": {
    "id": "FS-IuYRdGEr3",
    "toc-hr-collapsed": true
   },
   "source": [
    "## Challenge\n",
    "\n",
    "In the module project, you will apply tokenization to another set of review data and produce visualizations of those tokens. "
   ]
  },
  {
   "cell_type": "markdown",
   "metadata": {
    "id": "qy-JQ3VUGEr6",
    "toc-hr-collapsed": true
   },
   "source": [
    "# Stop Words (Learn)\n",
    "<a id=\"p2\"></a>"
   ]
  },
  {
   "cell_type": "markdown",
   "metadata": {
    "id": "APfLF769GEr6"
   },
   "source": [
    "## Overview\n",
    "Section Agenda\n",
    "- What are they?\n",
    "- How do we get rid of them using Spacy?\n",
    "- Visualization\n",
    "- Libraries of Stop Words\n",
    "- Extending Stop Words\n",
    "- Statistical trimming\n",
    "\n",
    "If the visualizations above, you began to notice a pattern. Most of the words don't really add much to our understanding of product reviews. Words such as \"I\", \"and\", \"of\", etc. have almost no semantic meaning to us. We call these useless words \"stop words,\" because we should 'stop' ourselves from including them in the analysis. \n",
    "\n",
    "Most NLP libraries have built in lists of stop words that common english words: conjunctions, articles, adverbs, pronouns, and common verbs. The best practice, however, is to extend/customize these standard english stopwords for your problem's domain. If I am studying political science, I may want to exclude the word \"politics\" from my analysis; it's so common it does not add to my understanding. "
   ]
  },
  {
   "cell_type": "markdown",
   "metadata": {
    "id": "7b5yWU9hGEr7",
    "toc-hr-collapsed": true
   },
   "source": [
    "## Follow Along \n",
    "\n",
    "### Default Stop Words\n",
    "Let's take a look at the standard stop words that came with our Spacy model:"
   ]
  },
  {
   "cell_type": "code",
   "execution_count": 62,
   "metadata": {
    "colab": {
     "base_uri": "https://localhost:8080/",
     "height": 1000
    },
    "id": "zeOqLNAhGEr7",
    "outputId": "fc3f6f19-ae76-44e0-9351-eabe86837e8d"
   },
   "outputs": [
    {
     "data": {
      "text/plain": [
       "{\"'d\",\n",
       " \"'ll\",\n",
       " \"'m\",\n",
       " \"'re\",\n",
       " \"'s\",\n",
       " \"'ve\",\n",
       " 'a',\n",
       " 'about',\n",
       " 'above',\n",
       " 'across',\n",
       " 'after',\n",
       " 'afterwards',\n",
       " 'again',\n",
       " 'against',\n",
       " 'all',\n",
       " 'almost',\n",
       " 'alone',\n",
       " 'along',\n",
       " 'already',\n",
       " 'also',\n",
       " 'although',\n",
       " 'always',\n",
       " 'am',\n",
       " 'among',\n",
       " 'amongst',\n",
       " 'amount',\n",
       " 'an',\n",
       " 'and',\n",
       " 'another',\n",
       " 'any',\n",
       " 'anyhow',\n",
       " 'anyone',\n",
       " 'anything',\n",
       " 'anyway',\n",
       " 'anywhere',\n",
       " 'are',\n",
       " 'around',\n",
       " 'as',\n",
       " 'at',\n",
       " 'back',\n",
       " 'be',\n",
       " 'became',\n",
       " 'because',\n",
       " 'become',\n",
       " 'becomes',\n",
       " 'becoming',\n",
       " 'been',\n",
       " 'before',\n",
       " 'beforehand',\n",
       " 'behind',\n",
       " 'being',\n",
       " 'below',\n",
       " 'beside',\n",
       " 'besides',\n",
       " 'between',\n",
       " 'beyond',\n",
       " 'both',\n",
       " 'bottom',\n",
       " 'but',\n",
       " 'by',\n",
       " 'ca',\n",
       " 'call',\n",
       " 'can',\n",
       " 'cannot',\n",
       " 'could',\n",
       " 'did',\n",
       " 'do',\n",
       " 'does',\n",
       " 'doing',\n",
       " 'done',\n",
       " 'down',\n",
       " 'due',\n",
       " 'during',\n",
       " 'each',\n",
       " 'eight',\n",
       " 'either',\n",
       " 'eleven',\n",
       " 'else',\n",
       " 'elsewhere',\n",
       " 'empty',\n",
       " 'enough',\n",
       " 'even',\n",
       " 'ever',\n",
       " 'every',\n",
       " 'everyone',\n",
       " 'everything',\n",
       " 'everywhere',\n",
       " 'except',\n",
       " 'few',\n",
       " 'fifteen',\n",
       " 'fifty',\n",
       " 'first',\n",
       " 'five',\n",
       " 'for',\n",
       " 'former',\n",
       " 'formerly',\n",
       " 'forty',\n",
       " 'four',\n",
       " 'from',\n",
       " 'front',\n",
       " 'full',\n",
       " 'further',\n",
       " 'get',\n",
       " 'give',\n",
       " 'go',\n",
       " 'had',\n",
       " 'has',\n",
       " 'have',\n",
       " 'he',\n",
       " 'hence',\n",
       " 'her',\n",
       " 'here',\n",
       " 'hereafter',\n",
       " 'hereby',\n",
       " 'herein',\n",
       " 'hereupon',\n",
       " 'hers',\n",
       " 'herself',\n",
       " 'him',\n",
       " 'himself',\n",
       " 'his',\n",
       " 'how',\n",
       " 'however',\n",
       " 'hundred',\n",
       " 'i',\n",
       " 'if',\n",
       " 'in',\n",
       " 'indeed',\n",
       " 'into',\n",
       " 'is',\n",
       " 'it',\n",
       " 'its',\n",
       " 'itself',\n",
       " 'just',\n",
       " 'keep',\n",
       " 'last',\n",
       " 'latter',\n",
       " 'latterly',\n",
       " 'least',\n",
       " 'less',\n",
       " 'made',\n",
       " 'make',\n",
       " 'many',\n",
       " 'may',\n",
       " 'me',\n",
       " 'meanwhile',\n",
       " 'might',\n",
       " 'mine',\n",
       " 'more',\n",
       " 'moreover',\n",
       " 'most',\n",
       " 'mostly',\n",
       " 'move',\n",
       " 'much',\n",
       " 'must',\n",
       " 'my',\n",
       " 'myself',\n",
       " \"n't\",\n",
       " 'name',\n",
       " 'namely',\n",
       " 'neither',\n",
       " 'never',\n",
       " 'nevertheless',\n",
       " 'next',\n",
       " 'nine',\n",
       " 'no',\n",
       " 'nobody',\n",
       " 'none',\n",
       " 'noone',\n",
       " 'nor',\n",
       " 'not',\n",
       " 'nothing',\n",
       " 'now',\n",
       " 'nowhere',\n",
       " 'n‘t',\n",
       " 'n’t',\n",
       " 'of',\n",
       " 'off',\n",
       " 'often',\n",
       " 'on',\n",
       " 'once',\n",
       " 'one',\n",
       " 'only',\n",
       " 'onto',\n",
       " 'or',\n",
       " 'other',\n",
       " 'others',\n",
       " 'otherwise',\n",
       " 'our',\n",
       " 'ours',\n",
       " 'ourselves',\n",
       " 'out',\n",
       " 'over',\n",
       " 'own',\n",
       " 'part',\n",
       " 'per',\n",
       " 'perhaps',\n",
       " 'please',\n",
       " 'put',\n",
       " 'quite',\n",
       " 'rather',\n",
       " 're',\n",
       " 'really',\n",
       " 'regarding',\n",
       " 'same',\n",
       " 'say',\n",
       " 'see',\n",
       " 'seem',\n",
       " 'seemed',\n",
       " 'seeming',\n",
       " 'seems',\n",
       " 'serious',\n",
       " 'several',\n",
       " 'she',\n",
       " 'should',\n",
       " 'show',\n",
       " 'side',\n",
       " 'since',\n",
       " 'six',\n",
       " 'sixty',\n",
       " 'so',\n",
       " 'some',\n",
       " 'somehow',\n",
       " 'someone',\n",
       " 'something',\n",
       " 'sometime',\n",
       " 'sometimes',\n",
       " 'somewhere',\n",
       " 'still',\n",
       " 'such',\n",
       " 'take',\n",
       " 'ten',\n",
       " 'than',\n",
       " 'that',\n",
       " 'the',\n",
       " 'their',\n",
       " 'them',\n",
       " 'themselves',\n",
       " 'then',\n",
       " 'thence',\n",
       " 'there',\n",
       " 'thereafter',\n",
       " 'thereby',\n",
       " 'therefore',\n",
       " 'therein',\n",
       " 'thereupon',\n",
       " 'these',\n",
       " 'they',\n",
       " 'third',\n",
       " 'this',\n",
       " 'those',\n",
       " 'though',\n",
       " 'three',\n",
       " 'through',\n",
       " 'throughout',\n",
       " 'thru',\n",
       " 'thus',\n",
       " 'to',\n",
       " 'together',\n",
       " 'too',\n",
       " 'top',\n",
       " 'toward',\n",
       " 'towards',\n",
       " 'twelve',\n",
       " 'twenty',\n",
       " 'two',\n",
       " 'under',\n",
       " 'unless',\n",
       " 'until',\n",
       " 'up',\n",
       " 'upon',\n",
       " 'us',\n",
       " 'used',\n",
       " 'using',\n",
       " 'various',\n",
       " 'very',\n",
       " 'via',\n",
       " 'was',\n",
       " 'we',\n",
       " 'well',\n",
       " 'were',\n",
       " 'what',\n",
       " 'whatever',\n",
       " 'when',\n",
       " 'whence',\n",
       " 'whenever',\n",
       " 'where',\n",
       " 'whereafter',\n",
       " 'whereas',\n",
       " 'whereby',\n",
       " 'wherein',\n",
       " 'whereupon',\n",
       " 'wherever',\n",
       " 'whether',\n",
       " 'which',\n",
       " 'while',\n",
       " 'whither',\n",
       " 'who',\n",
       " 'whoever',\n",
       " 'whole',\n",
       " 'whom',\n",
       " 'whose',\n",
       " 'why',\n",
       " 'will',\n",
       " 'with',\n",
       " 'within',\n",
       " 'without',\n",
       " 'would',\n",
       " 'yet',\n",
       " 'you',\n",
       " 'your',\n",
       " 'yours',\n",
       " 'yourself',\n",
       " 'yourselves',\n",
       " '‘d',\n",
       " '‘ll',\n",
       " '‘m',\n",
       " '‘re',\n",
       " '‘s',\n",
       " '‘ve',\n",
       " '’d',\n",
       " '’ll',\n",
       " '’m',\n",
       " '’re',\n",
       " '’s',\n",
       " '’ve'}"
      ]
     },
     "execution_count": 62,
     "metadata": {},
     "output_type": "execute_result"
    }
   ],
   "source": [
    "# Spacy's Default Stop Words\n",
    "nlp.Defaults.stop_words"
   ]
  },
  {
   "cell_type": "code",
   "execution_count": 75,
   "metadata": {
    "deletable": false,
    "id": "gYnQfN9TGEr9",
    "nbgrader": {
     "cell_type": "code",
     "checksum": "659d58e18d2e1352236109ea3597cd08",
     "grade": false,
     "grade_id": "cell-6786f165c68a0aa6",
     "locked": false,
     "schema_version": 3,
     "solution": true,
     "task": false
    }
   },
   "outputs": [
    {
     "name": "stdout",
     "output_type": "stream",
     "text": [
      "(10565, 7)\n"
     ]
    },
    {
     "data": {
      "image/png": "[encoded data removed]",
      "text/plain": [
       "<Figure size 432x288 with 1 Axes>"
      ]
     },
     "metadata": {
      "needs_background": "light"
     },
     "output_type": "display_data"
    }
   ],
   "source": [
    "# Use spacy to create a tokenizer that removes stop words\n",
    "# nlp.disable_pipes('tagger', 'parser')\n",
    "\n",
    "# create a tokenizer using spacy\n",
    "spacy_tokens = []\n",
    "for doc in nlp.pipe(df['reviews.text'], disable=['parser', 'tagger']):\n",
    "    \n",
    "    doc_tokens = []\n",
    "    for token in doc:\n",
    "        if (token.is_stop == False) & (token.is_punct == False) & (len(token.text) > 2):\n",
    "            doc_tokens.append(token.text.lower())\n",
    "        \n",
    "    spacy_tokens.append(doc_tokens)\n",
    "    \n",
    "df['spacy_tokens_v2'] = spacy_tokens\n",
    "\n",
    "wc = count(df['spacy_tokens_v2'])\n",
    "print(wc.shape)\n",
    "\n",
    "wc_top20 = wc[wc['rank'] <= 20]\n",
    "\n",
    "squarify.plot(sizes=wc_top20['pct_total'], label=wc_top20['word'], alpha=.8)\n",
    "plt.axis('off')\n",
    "plt.show()"
   ]
  },
  {
   "cell_type": "markdown",
   "metadata": {
    "id": "wW7qoSu_GEsD"
   },
   "source": [
    "### Extending Stop Words"
   ]
  },
  {
   "cell_type": "code",
   "execution_count": 65,
   "metadata": {
    "colab": {
     "base_uri": "https://localhost:8080/",
     "height": 34
    },
    "id": "MxLUxpRvGEsD",
    "outputId": "b30d3b87-1e0f-46f1-b444-51a475803152"
   },
   "outputs": [
    {
     "name": "stdout",
     "output_type": "stream",
     "text": [
      "<class 'set'>\n"
     ]
    }
   ],
   "source": [
    "print(type(nlp.Defaults.stop_words))"
   ]
  },
  {
   "cell_type": "code",
   "execution_count": 66,
   "metadata": {
    "id": "7D6R_35SGEsF"
   },
   "outputs": [],
   "source": [
    "STOP_WORDS = nlp.Defaults.stop_words.union(['batteries','I', 'amazon', 'i', 'Amazon', 'it', \"it's\", 'it.', 'the', 'this',])"
   ]
  },
  {
   "cell_type": "raw",
   "metadata": {
    "deletable": false,
    "id": "0JOoLRyUGEsJ",
    "nbgrader": {
     "cell_type": "code",
     "checksum": "068a4f6cd4bebc5c8cbc74372c41a905",
     "grade": false,
     "grade_id": "cell-37cd0e460b63ff43",
     "locked": false,
     "schema_version": 3,
     "solution": true,
     "task": false
    }
   },
   "source": [
    "# use spacy to create a tokenizer that removes stopwords using STOP_WORDS\n",
    "tokens = []\n",
    "for doc in nlp.pipe(df['reviews.text'], disable=['parser', 'tagger']):\n",
    "    doc_tokens = []\n",
    "    for token in doc:\n",
    "        if (token.text.lower() not in STOP_WORDS) & (token.is_punct == False):\n",
    "            doc_tokens.append(token.text.lower())\n",
    "    tokens.append(doc_tokens)\n",
    "    \n",
    "df['spaCyTokens_v2'] = tokens\n",
    "\n",
    "wc = count(df['spaCyTokens_v2'])\n",
    "print(wc.shape)\n",
    "\n",
    "wc_top20 = wc[wc['rank'] <= 20]\n",
    "\n",
    "plt.figure(figsize=(8,8))\n",
    "squarify.plot(sizes=wc_top20['pct_total'], label=wc_top20['word'], alpha=.8 )\n",
    "plt.axis('off')\n",
    "plt.show()"
   ]
  },
  {
   "cell_type": "markdown",
   "metadata": {
    "id": "55BKEXW6GEsQ"
   },
   "source": [
    "### Statistical Trimming\n",
    "\n",
    "So far, we have talked about stop word in relation to either broad english words or domain specific stop words. Another common approach to stop word removal is via statistical trimming. The basic idea: preserve the words that give the most about of variation in your data. \n",
    "\n",
    "Do you remember this graph?"
   ]
  },
  {
   "cell_type": "code",
   "execution_count": 67,
   "metadata": {
    "colab": {
     "base_uri": "https://localhost:8080/",
     "height": 279
    },
    "id": "m7M5bXwUGEsQ",
    "outputId": "841a517d-7e36-4410-d030-263eb09da596"
   },
   "outputs": [
    {
     "data": {
      "image/png": "[encoded data removed]",
      "text/plain": [
       "<Figure size 432x288 with 1 Axes>"
      ]
     },
     "metadata": {
      "needs_background": "light"
     },
     "output_type": "display_data"
    }
   ],
   "source": [
    "sns.lineplot(x='rank', y='cul_pct_total', data=wc);"
   ]
  },
  {
   "cell_type": "markdown",
   "metadata": {
    "id": "NSY5DHLKGEsS"
   },
   "source": [
    "This graph tells us that only a *handful* of words represented 80% of words in the overall corpus. We can interpret this in two ways: \n",
    "1. The words that appear most frequently may not provide any insight into the mean on the documents since they are so prevalent. \n",
    "2. Words that appear infrequency (at the end of the graph) also probably do not add much value, because the are mentioned so rarely. \n",
    "\n",
    "Let's take a look at the words at the bottom and the top and make a decision for ourselves:"
   ]
  },
  {
   "cell_type": "code",
   "execution_count": 68,
   "metadata": {
    "colab": {
     "base_uri": "https://localhost:8080/",
     "height": 280
    },
    "id": "evsmVP2VGEsV",
    "outputId": "e83b1d0c-1ddf-4310-b820-e82647c0fcef"
   },
   "outputs": [
    {
     "data": {
      "image/png": "[encoded data removed]",
      "text/plain": [
       "<Figure size 432x288 with 1 Axes>"
      ]
     },
     "metadata": {
      "needs_background": "light"
     },
     "output_type": "display_data"
    }
   ],
   "source": [
    "# Frequency of appears in documents\n",
    "sns.distplot(wc['appears_in_pct']);"
   ]
  },
  {
   "cell_type": "code",
   "execution_count": 70,
   "metadata": {},
   "outputs": [
    {
     "data": {
      "text/html": [
       "<div>\n",
       "<style scoped>\n",
       "    .dataframe tbody tr th:only-of-type {\n",
       "        vertical-align: middle;\n",
       "    }\n",
       "\n",
       "    .dataframe tbody tr th {\n",
       "        vertical-align: top;\n",
       "    }\n",
       "\n",
       "    .dataframe thead th {\n",
       "        text-align: right;\n",
       "    }\n",
       "</style>\n",
       "<table border=\"1\" class=\"dataframe\">\n",
       "  <thead>\n",
       "    <tr style=\"text-align: right;\">\n",
       "      <th></th>\n",
       "      <th>word</th>\n",
       "      <th>appears_in</th>\n",
       "      <th>count</th>\n",
       "      <th>rank</th>\n",
       "      <th>pct_total</th>\n",
       "      <th>cul_pct_total</th>\n",
       "      <th>appears_in_pct</th>\n",
       "    </tr>\n",
       "  </thead>\n",
       "  <tbody>\n",
       "    <tr>\n",
       "      <th>10555</th>\n",
       "      <td>mounts</td>\n",
       "      <td>1</td>\n",
       "      <td>1</td>\n",
       "      <td>10556.0</td>\n",
       "      <td>0.000003</td>\n",
       "      <td>0.999972</td>\n",
       "      <td>0.000035</td>\n",
       "    </tr>\n",
       "    <tr>\n",
       "      <th>10553</th>\n",
       "      <td>magnetically</td>\n",
       "      <td>1</td>\n",
       "      <td>1</td>\n",
       "      <td>10557.0</td>\n",
       "      <td>0.000003</td>\n",
       "      <td>0.999975</td>\n",
       "      <td>0.000035</td>\n",
       "    </tr>\n",
       "    <tr>\n",
       "      <th>10557</th>\n",
       "      <td>vent</td>\n",
       "      <td>1</td>\n",
       "      <td>1</td>\n",
       "      <td>10558.0</td>\n",
       "      <td>0.000003</td>\n",
       "      <td>0.999978</td>\n",
       "      <td>0.000035</td>\n",
       "    </tr>\n",
       "    <tr>\n",
       "      <th>10558</th>\n",
       "      <td>kindlelishous</td>\n",
       "      <td>1</td>\n",
       "      <td>1</td>\n",
       "      <td>10559.0</td>\n",
       "      <td>0.000003</td>\n",
       "      <td>0.999981</td>\n",
       "      <td>0.000035</td>\n",
       "    </tr>\n",
       "    <tr>\n",
       "      <th>10559</th>\n",
       "      <td>competent</td>\n",
       "      <td>1</td>\n",
       "      <td>1</td>\n",
       "      <td>10560.0</td>\n",
       "      <td>0.000003</td>\n",
       "      <td>0.999984</td>\n",
       "      <td>0.000035</td>\n",
       "    </tr>\n",
       "    <tr>\n",
       "      <th>10560</th>\n",
       "      <td>relies</td>\n",
       "      <td>1</td>\n",
       "      <td>1</td>\n",
       "      <td>10561.0</td>\n",
       "      <td>0.000003</td>\n",
       "      <td>0.999987</td>\n",
       "      <td>0.000035</td>\n",
       "    </tr>\n",
       "    <tr>\n",
       "      <th>10561</th>\n",
       "      <td>readi</td>\n",
       "      <td>1</td>\n",
       "      <td>1</td>\n",
       "      <td>10562.0</td>\n",
       "      <td>0.000003</td>\n",
       "      <td>0.999991</td>\n",
       "      <td>0.000035</td>\n",
       "    </tr>\n",
       "    <tr>\n",
       "      <th>10562</th>\n",
       "      <td>blanking</td>\n",
       "      <td>1</td>\n",
       "      <td>1</td>\n",
       "      <td>10563.0</td>\n",
       "      <td>0.000003</td>\n",
       "      <td>0.999994</td>\n",
       "      <td>0.000035</td>\n",
       "    </tr>\n",
       "    <tr>\n",
       "      <th>10563</th>\n",
       "      <td>moztly</td>\n",
       "      <td>1</td>\n",
       "      <td>1</td>\n",
       "      <td>10564.0</td>\n",
       "      <td>0.000003</td>\n",
       "      <td>0.999997</td>\n",
       "      <td>0.000035</td>\n",
       "    </tr>\n",
       "    <tr>\n",
       "      <th>10564</th>\n",
       "      <td>bookreader</td>\n",
       "      <td>1</td>\n",
       "      <td>1</td>\n",
       "      <td>10565.0</td>\n",
       "      <td>0.000003</td>\n",
       "      <td>1.000000</td>\n",
       "      <td>0.000035</td>\n",
       "    </tr>\n",
       "  </tbody>\n",
       "</table>\n",
       "</div>"
      ],
      "text/plain": [
       "                word  appears_in  count     rank  pct_total  cul_pct_total  \\\n",
       "10555         mounts           1      1  10556.0   0.000003       0.999972   \n",
       "10553   magnetically           1      1  10557.0   0.000003       0.999975   \n",
       "10557           vent           1      1  10558.0   0.000003       0.999978   \n",
       "10558  kindlelishous           1      1  10559.0   0.000003       0.999981   \n",
       "10559      competent           1      1  10560.0   0.000003       0.999984   \n",
       "10560         relies           1      1  10561.0   0.000003       0.999987   \n",
       "10561          readi           1      1  10562.0   0.000003       0.999991   \n",
       "10562       blanking           1      1  10563.0   0.000003       0.999994   \n",
       "10563         moztly           1      1  10564.0   0.000003       0.999997   \n",
       "10564     bookreader           1      1  10565.0   0.000003       1.000000   \n",
       "\n",
       "       appears_in_pct  \n",
       "10555        0.000035  \n",
       "10553        0.000035  \n",
       "10557        0.000035  \n",
       "10558        0.000035  \n",
       "10559        0.000035  \n",
       "10560        0.000035  \n",
       "10561        0.000035  \n",
       "10562        0.000035  \n",
       "10563        0.000035  \n",
       "10564        0.000035  "
      ]
     },
     "execution_count": 70,
     "metadata": {},
     "output_type": "execute_result"
    }
   ],
   "source": [
    "wc.tail(10)"
   ]
  },
  {
   "cell_type": "code",
   "execution_count": 73,
   "metadata": {
    "colab": {
     "base_uri": "https://localhost:8080/",
     "height": 280
    },
    "id": "dJkyvXn0GEsX",
    "outputId": "dbfefb88-13d1-4152-f804-ea063f73f631"
   },
   "outputs": [
    {
     "name": "stdout",
     "output_type": "stream",
     "text": [
      "(675, 7)\n"
     ]
    },
    {
     "data": {
      "image/png": "[encoded data removed]",
      "text/plain": [
       "<Figure size 432x288 with 1 Axes>"
      ]
     },
     "metadata": {
      "needs_background": "light"
     },
     "output_type": "display_data"
    }
   ],
   "source": [
    "# Tree-Map w/ Words that appear in a least 0.5% of documents. \n",
    "\n",
    "wc = wc[wc['appears_in_pct'] >= 0.0025]\n",
    "print(wc.shape)\n",
    "\n",
    "sns.distplot(wc['appears_in_pct']);"
   ]
  },
  {
   "cell_type": "code",
   "execution_count": 74,
   "metadata": {},
   "outputs": [
    {
     "data": {
      "text/html": [
       "<div>\n",
       "<style scoped>\n",
       "    .dataframe tbody tr th:only-of-type {\n",
       "        vertical-align: middle;\n",
       "    }\n",
       "\n",
       "    .dataframe tbody tr th {\n",
       "        vertical-align: top;\n",
       "    }\n",
       "\n",
       "    .dataframe thead th {\n",
       "        text-align: right;\n",
       "    }\n",
       "</style>\n",
       "<table border=\"1\" class=\"dataframe\">\n",
       "  <thead>\n",
       "    <tr style=\"text-align: right;\">\n",
       "      <th></th>\n",
       "      <th>word</th>\n",
       "      <th>appears_in</th>\n",
       "      <th>count</th>\n",
       "      <th>rank</th>\n",
       "      <th>pct_total</th>\n",
       "      <th>cul_pct_total</th>\n",
       "      <th>appears_in_pct</th>\n",
       "    </tr>\n",
       "  </thead>\n",
       "  <tbody>\n",
       "    <tr>\n",
       "      <th>1011</th>\n",
       "      <td>primarily</td>\n",
       "      <td>73</td>\n",
       "      <td>73</td>\n",
       "      <td>681.0</td>\n",
       "      <td>0.000230</td>\n",
       "      <td>0.791577</td>\n",
       "      <td>0.002577</td>\n",
       "    </tr>\n",
       "    <tr>\n",
       "      <th>1208</th>\n",
       "      <td>require</td>\n",
       "      <td>73</td>\n",
       "      <td>73</td>\n",
       "      <td>682.0</td>\n",
       "      <td>0.000230</td>\n",
       "      <td>0.791806</td>\n",
       "      <td>0.002577</td>\n",
       "    </tr>\n",
       "    <tr>\n",
       "      <th>1404</th>\n",
       "      <td>mind</td>\n",
       "      <td>71</td>\n",
       "      <td>73</td>\n",
       "      <td>684.0</td>\n",
       "      <td>0.000230</td>\n",
       "      <td>0.792265</td>\n",
       "      <td>0.002506</td>\n",
       "    </tr>\n",
       "    <tr>\n",
       "      <th>1480</th>\n",
       "      <td>excited</td>\n",
       "      <td>73</td>\n",
       "      <td>73</td>\n",
       "      <td>685.0</td>\n",
       "      <td>0.000230</td>\n",
       "      <td>0.792495</td>\n",
       "      <td>0.002577</td>\n",
       "    </tr>\n",
       "    <tr>\n",
       "      <th>2800</th>\n",
       "      <td>responsive</td>\n",
       "      <td>72</td>\n",
       "      <td>73</td>\n",
       "      <td>689.0</td>\n",
       "      <td>0.000230</td>\n",
       "      <td>0.793413</td>\n",
       "      <td>0.002541</td>\n",
       "    </tr>\n",
       "    <tr>\n",
       "      <th>716</th>\n",
       "      <td>operated</td>\n",
       "      <td>71</td>\n",
       "      <td>72</td>\n",
       "      <td>691.0</td>\n",
       "      <td>0.000226</td>\n",
       "      <td>0.793866</td>\n",
       "      <td>0.002506</td>\n",
       "    </tr>\n",
       "    <tr>\n",
       "      <th>2314</th>\n",
       "      <td>sharp</td>\n",
       "      <td>72</td>\n",
       "      <td>72</td>\n",
       "      <td>694.0</td>\n",
       "      <td>0.000226</td>\n",
       "      <td>0.794545</td>\n",
       "      <td>0.002541</td>\n",
       "    </tr>\n",
       "    <tr>\n",
       "      <th>382</th>\n",
       "      <td>electronic</td>\n",
       "      <td>71</td>\n",
       "      <td>71</td>\n",
       "      <td>695.0</td>\n",
       "      <td>0.000223</td>\n",
       "      <td>0.794768</td>\n",
       "      <td>0.002506</td>\n",
       "    </tr>\n",
       "    <tr>\n",
       "      <th>926</th>\n",
       "      <td>prefer</td>\n",
       "      <td>71</td>\n",
       "      <td>71</td>\n",
       "      <td>697.0</td>\n",
       "      <td>0.000223</td>\n",
       "      <td>0.795214</td>\n",
       "      <td>0.002506</td>\n",
       "    </tr>\n",
       "    <tr>\n",
       "      <th>1126</th>\n",
       "      <td>given</td>\n",
       "      <td>71</td>\n",
       "      <td>71</td>\n",
       "      <td>698.0</td>\n",
       "      <td>0.000223</td>\n",
       "      <td>0.795438</td>\n",
       "      <td>0.002506</td>\n",
       "    </tr>\n",
       "  </tbody>\n",
       "</table>\n",
       "</div>"
      ],
      "text/plain": [
       "            word  appears_in  count   rank  pct_total  cul_pct_total  \\\n",
       "1011   primarily          73     73  681.0   0.000230       0.791577   \n",
       "1208     require          73     73  682.0   0.000230       0.791806   \n",
       "1404        mind          71     73  684.0   0.000230       0.792265   \n",
       "1480     excited          73     73  685.0   0.000230       0.792495   \n",
       "2800  responsive          72     73  689.0   0.000230       0.793413   \n",
       "716     operated          71     72  691.0   0.000226       0.793866   \n",
       "2314       sharp          72     72  694.0   0.000226       0.794545   \n",
       "382   electronic          71     71  695.0   0.000223       0.794768   \n",
       "926       prefer          71     71  697.0   0.000223       0.795214   \n",
       "1126       given          71     71  698.0   0.000223       0.795438   \n",
       "\n",
       "      appears_in_pct  \n",
       "1011        0.002577  \n",
       "1208        0.002577  \n",
       "1404        0.002506  \n",
       "1480        0.002577  \n",
       "2800        0.002541  \n",
       "716         0.002506  \n",
       "2314        0.002541  \n",
       "382         0.002506  \n",
       "926         0.002506  \n",
       "1126        0.002506  "
      ]
     },
     "execution_count": 74,
     "metadata": {},
     "output_type": "execute_result"
    }
   ],
   "source": [
    "wc.tail(10)"
   ]
  },
  {
   "cell_type": "code",
   "execution_count": 78,
   "metadata": {},
   "outputs": [
    {
     "name": "stdout",
     "output_type": "stream",
     "text": [
      "(3599, 7)\n"
     ]
    },
    {
     "data": {
      "text/html": [
       "<div>\n",
       "<style scoped>\n",
       "    .dataframe tbody tr th:only-of-type {\n",
       "        vertical-align: middle;\n",
       "    }\n",
       "\n",
       "    .dataframe tbody tr th {\n",
       "        vertical-align: top;\n",
       "    }\n",
       "\n",
       "    .dataframe thead th {\n",
       "        text-align: right;\n",
       "    }\n",
       "</style>\n",
       "<table border=\"1\" class=\"dataframe\">\n",
       "  <thead>\n",
       "    <tr style=\"text-align: right;\">\n",
       "      <th></th>\n",
       "      <th>word</th>\n",
       "      <th>appears_in</th>\n",
       "      <th>count</th>\n",
       "      <th>rank</th>\n",
       "      <th>pct_total</th>\n",
       "      <th>cul_pct_total</th>\n",
       "      <th>appears_in_pct</th>\n",
       "    </tr>\n",
       "  </thead>\n",
       "  <tbody>\n",
       "    <tr>\n",
       "      <th>9277</th>\n",
       "      <td>worm</td>\n",
       "      <td>5</td>\n",
       "      <td>5</td>\n",
       "      <td>3662.0</td>\n",
       "      <td>0.000016</td>\n",
       "      <td>0.960252</td>\n",
       "      <td>0.000176</td>\n",
       "    </tr>\n",
       "    <tr>\n",
       "      <th>9306</th>\n",
       "      <td>hbo</td>\n",
       "      <td>5</td>\n",
       "      <td>5</td>\n",
       "      <td>3663.0</td>\n",
       "      <td>0.000016</td>\n",
       "      <td>0.960268</td>\n",
       "      <td>0.000176</td>\n",
       "    </tr>\n",
       "    <tr>\n",
       "      <th>9361</th>\n",
       "      <td>maximum</td>\n",
       "      <td>5</td>\n",
       "      <td>5</td>\n",
       "      <td>3664.0</td>\n",
       "      <td>0.000016</td>\n",
       "      <td>0.960283</td>\n",
       "      <td>0.000176</td>\n",
       "    </tr>\n",
       "    <tr>\n",
       "      <th>9387</th>\n",
       "      <td>unaware</td>\n",
       "      <td>5</td>\n",
       "      <td>5</td>\n",
       "      <td>3665.0</td>\n",
       "      <td>0.000016</td>\n",
       "      <td>0.960299</td>\n",
       "      <td>0.000176</td>\n",
       "    </tr>\n",
       "    <tr>\n",
       "      <th>9403</th>\n",
       "      <td>removes</td>\n",
       "      <td>5</td>\n",
       "      <td>5</td>\n",
       "      <td>3666.0</td>\n",
       "      <td>0.000016</td>\n",
       "      <td>0.960315</td>\n",
       "      <td>0.000176</td>\n",
       "    </tr>\n",
       "    <tr>\n",
       "      <th>9410</th>\n",
       "      <td>assignments</td>\n",
       "      <td>5</td>\n",
       "      <td>5</td>\n",
       "      <td>3667.0</td>\n",
       "      <td>0.000016</td>\n",
       "      <td>0.960331</td>\n",
       "      <td>0.000176</td>\n",
       "    </tr>\n",
       "    <tr>\n",
       "      <th>9408</th>\n",
       "      <td>reduce</td>\n",
       "      <td>5</td>\n",
       "      <td>5</td>\n",
       "      <td>3668.0</td>\n",
       "      <td>0.000016</td>\n",
       "      <td>0.960346</td>\n",
       "      <td>0.000176</td>\n",
       "    </tr>\n",
       "    <tr>\n",
       "      <th>9518</th>\n",
       "      <td>misleading</td>\n",
       "      <td>5</td>\n",
       "      <td>5</td>\n",
       "      <td>3669.0</td>\n",
       "      <td>0.000016</td>\n",
       "      <td>0.960362</td>\n",
       "      <td>0.000176</td>\n",
       "    </tr>\n",
       "    <tr>\n",
       "      <th>9522</th>\n",
       "      <td>crossword</td>\n",
       "      <td>5</td>\n",
       "      <td>5</td>\n",
       "      <td>3670.0</td>\n",
       "      <td>0.000016</td>\n",
       "      <td>0.960378</td>\n",
       "      <td>0.000176</td>\n",
       "    </tr>\n",
       "    <tr>\n",
       "      <th>9561</th>\n",
       "      <td>touches</td>\n",
       "      <td>5</td>\n",
       "      <td>5</td>\n",
       "      <td>3671.0</td>\n",
       "      <td>0.000016</td>\n",
       "      <td>0.960393</td>\n",
       "      <td>0.000176</td>\n",
       "    </tr>\n",
       "  </tbody>\n",
       "</table>\n",
       "</div>"
      ],
      "text/plain": [
       "             word  appears_in  count    rank  pct_total  cul_pct_total  \\\n",
       "9277         worm           5      5  3662.0   0.000016       0.960252   \n",
       "9306          hbo           5      5  3663.0   0.000016       0.960268   \n",
       "9361      maximum           5      5  3664.0   0.000016       0.960283   \n",
       "9387      unaware           5      5  3665.0   0.000016       0.960299   \n",
       "9403      removes           5      5  3666.0   0.000016       0.960315   \n",
       "9410  assignments           5      5  3667.0   0.000016       0.960331   \n",
       "9408       reduce           5      5  3668.0   0.000016       0.960346   \n",
       "9518   misleading           5      5  3669.0   0.000016       0.960362   \n",
       "9522    crossword           5      5  3670.0   0.000016       0.960378   \n",
       "9561      touches           5      5  3671.0   0.000016       0.960393   \n",
       "\n",
       "      appears_in_pct  \n",
       "9277        0.000176  \n",
       "9306        0.000176  \n",
       "9361        0.000176  \n",
       "9387        0.000176  \n",
       "9403        0.000176  \n",
       "9410        0.000176  \n",
       "9408        0.000176  \n",
       "9518        0.000176  \n",
       "9522        0.000176  \n",
       "9561        0.000176  "
      ]
     },
     "execution_count": 78,
     "metadata": {},
     "output_type": "execute_result"
    }
   ],
   "source": [
    "# preferred approach for statistical trimming\n",
    "# lower bound use counts (i.e. must appear in 2 docs)\n",
    "# upper bound use percentage (i.e. must not appear in more than 50%)\n",
    "wc = wc[wc['appears_in'] >= 5]\n",
    "print(wc.shape)\n",
    "wc.tail(10)"
   ]
  },
  {
   "cell_type": "markdown",
   "metadata": {
    "id": "riFOSWTuGEsa"
   },
   "source": [
    "## Challenge\n",
    "\n",
    "In the module project, you will apply stop word removal to a new corpus. You will focus on applying dictionary based stop word removal, but as a stretch goal, you should consider applying statistical stopword trimming. "
   ]
  },
  {
   "cell_type": "markdown",
   "metadata": {
    "id": "xh6NpgGhGEsa",
    "toc-hr-collapsed": true
   },
   "source": [
    "# Stemming & Lemmatization (Learn)\n",
    "<a id=\"p3\"></a>"
   ]
  },
  {
   "cell_type": "markdown",
   "metadata": {
    "id": "82BICah4GEsa",
    "toc-hr-collapsed": false
   },
   "source": [
    "## Overview\n",
    "\n",
    "You can see from our example above there is still some normalization to do to get a clean analysis. You notice that there many words (*i.e.* 'batteries', 'battery') which share the same root word. We can use either the process of stemming or lemmatization to trim our words down to the 'root' word. \n",
    "\n",
    "__Section Agenda__:\n",
    "\n",
    "- Which is which\n",
    "- why use one v. other\n",
    "- show side by side visualizations \n",
    "- how to do it in spacy & nltk\n",
    "- introduce PoS in here as well"
   ]
  },
  {
   "cell_type": "markdown",
   "metadata": {
    "id": "Unc5QrF4GEsb",
    "toc-hr-collapsed": true
   },
   "source": [
    "## Follow Along"
   ]
  },
  {
   "cell_type": "markdown",
   "metadata": {
    "id": "-2qObh4HGEsb",
    "toc-hr-collapsed": true
   },
   "source": [
    "### Stemming\n",
    "\n",
    "> *a process for removing the commoner morphological and inflexional endings from words in English. Its main use is as part of a term normalisation process that is usually done when setting up Information Retrieval systems.* - [Martin Porter](https://tartarus.org/martin/PorterStemmer/)\n",
    "\n",
    "Some examples include:\n",
    "- 'ing'\n",
    "- 'ed'\n",
    "- 's'\n",
    "\n",
    "These rules are by no means comprehensive, but they are somewhere to start. Most stemming is done by well documented algorithms such as Porter, Snowball, and Dawson. Porter and its newer version Snowball are the most popular stemming algorithms today. For more information on various stemming algorithms check out [*\"A Comparative Study of Stemming Algorithms\"*](https://pdfs.semanticscholar.org/1c0c/0fa35d4ff8a2f925eb955e48d655494bd167.pdf) \n",
    "\n",
    "\n",
    "Spacy does not do stemming out of the box, but instead uses a different technique called *lemmatization* which we will discuss in the next section. Let's turn to an antique python package `nltk` for stemming. "
   ]
  },
  {
   "cell_type": "code",
   "execution_count": 81,
   "metadata": {
    "colab": {
     "base_uri": "https://localhost:8080/",
     "height": 85
    },
    "id": "o7z49DWNGEsb",
    "outputId": "b181a9b8-ff70-4bd4-be2a-1cf92098710c"
   },
   "outputs": [
    {
     "name": "stdout",
     "output_type": "stream",
     "text": [
      "python\n",
      "python\n",
      "pythonli\n",
      "python\n",
      "love\n",
      "python\n",
      "repli\n"
     ]
    }
   ],
   "source": [
    "from nltk.stem import PorterStemmer\n",
    "\n",
    "ps = PorterStemmer()\n",
    "\n",
    "words = [\"python\", \"pythoning\", \"pythonly\", \"pythons\", \"loves\", \"pythonic\", 'replies']\n",
    "\n",
    "for word in words:\n",
    "    print(ps.stem(word))"
   ]
  },
  {
   "cell_type": "markdown",
   "metadata": {
    "id": "xkPTDh-dGEsd"
   },
   "source": [
    "### Two Minute Challenge\n",
    "\n",
    "Apply the Porter stemming algorithm to the tokens in the `df` dataframe. Visualize the results in the tree graph we have been using for this session."
   ]
  },
  {
   "cell_type": "code",
   "execution_count": 83,
   "metadata": {},
   "outputs": [],
   "source": [
    "from tqdm import tqdm\n",
    "tqdm.pandas()"
   ]
  },
  {
   "cell_type": "code",
   "execution_count": 84,
   "metadata": {
    "deletable": false,
    "id": "sCrtEa_uGEsd",
    "nbgrader": {
     "cell_type": "code",
     "checksum": "492b5c13a834b2ce914c350efb369854",
     "grade": false,
     "grade_id": "cell-5944a38ffd47803f",
     "locked": false,
     "schema_version": 3,
     "solution": true,
     "task": false
    }
   },
   "outputs": [
    {
     "name": "stderr",
     "output_type": "stream",
     "text": [
      "100%|███████████████████████████████████████████████████████████████████████████████████████████████████████████████| 28332/28332 [00:08<00:00, 3178.50it/s]\n"
     ]
    },
    {
     "name": "stdout",
     "output_type": "stream",
     "text": [
      "(18679, 7)\n"
     ]
    },
    {
     "data": {
      "image/png": "[encoded data removed]",
      "text/plain": [
       "<Figure size 576x576 with 1 Axes>"
      ]
     },
     "metadata": {
      "needs_background": "light"
     },
     "output_type": "display_data"
    }
   ],
   "source": [
    "def get_stems(text):\n",
    "    return [ps.stem(word.lower()) for word in text.split() if word not in STOP_WORDS]\n",
    "\n",
    "df['stems'] = df['reviews.text'].progress_apply(get_stems)\n",
    "\n",
    "wc = count(df['stems'])\n",
    "print(wc.shape)\n",
    "\n",
    "wc_top20 = wc[wc['rank'] <= 20]\n",
    "\n",
    "plt.figure(figsize=(8,8))\n",
    "squarify.plot(sizes=wc_top20['pct_total'], label=wc_top20['word'], alpha=.8)\n",
    "plt.axis('off')\n",
    "plt.show()"
   ]
  },
  {
   "cell_type": "markdown",
   "metadata": {
    "id": "HU96W_PnGEsg",
    "toc-hr-collapsed": false
   },
   "source": [
    "### Lemmatization\n",
    "\n",
    "You notice immediately that results are kinda funky - words just oddly chopped off. The Porter algorithm did exactly what it knows to do: chop off endings. Stemming works well in applications where humans don't have to worry about reading the results. Search engines and more broadly information retrieval algorithms use stemming. Why? Because it's fast. \n",
    "\n",
    "Lemmatization on the other hand is more methodical. The goal is to transform a word into its base form called a lemma. Plural nouns with funky spellings get transformed to singular tense. Verbs are all transformed to the transitive. Nice tidy data for a visualization. :) However, this tidy data can come at computational cost. Spacy does a pretty freaking good job of it though. Let's take a look:"
   ]
  },
  {
   "cell_type": "code",
   "execution_count": 86,
   "metadata": {
    "colab": {
     "base_uri": "https://localhost:8080/",
     "height": 204
    },
    "id": "c1uvFqG9GEsg",
    "outputId": "fd1c2125-c6d9-44e8-a03c-edf3cb4006c0"
   },
   "outputs": [
    {
     "name": "stdout",
     "output_type": "stream",
     "text": [
      "men    man\n",
      "man    man\n",
      "women    woman\n",
      "woman    woman\n",
      "wolf    wolf\n",
      "wolves    wolf\n",
      "run    run\n",
      "runs    run\n",
      "running    run\n",
      "replies    reply\n"
     ]
    }
   ],
   "source": [
    "sent = \"men man women woman wolf wolves run runs running replies\"\n",
    "doc = nlp(sent)\n",
    "\n",
    "# Lemma Attributes\n",
    "for token in doc:\n",
    "    print(token.text, \"  \", token.lemma_)"
   ]
  },
  {
   "cell_type": "code",
   "execution_count": 87,
   "metadata": {},
   "outputs": [],
   "source": [
    "# Re-load nlp without parser/tagger to speed up pipeline\n",
    "nlp = spacy.load('en_core_web_md', disable=['parser', 'tagger'])"
   ]
  },
  {
   "cell_type": "code",
   "execution_count": 88,
   "metadata": {
    "deletable": false,
    "id": "sjt7J4RsGEsh",
    "nbgrader": {
     "cell_type": "code",
     "checksum": "ca7ddfb773402c65d8f76dd921bd3389",
     "grade": false,
     "grade_id": "cell-792ac177c78518bc",
     "locked": false,
     "schema_version": 3,
     "solution": true,
     "task": false
    }
   },
   "outputs": [],
   "source": [
    "# Wrap it all in a function\n",
    "def get_lemmas(text):\n",
    "\n",
    "    lemmas = []\n",
    "    doc = nlp(text)\n",
    "    \n",
    "    for token in doc:\n",
    "        if ((token.is_stop == False) and (token.is_punct == False) and (token.pos_ != 'PRON')):\n",
    "            lemmas.append(token.lemma_.lower())\n",
    "    \n",
    "    return lemmas"
   ]
  },
  {
   "cell_type": "code",
   "execution_count": 90,
   "metadata": {
    "id": "P0RL6T5OGEsi"
   },
   "outputs": [
    {
     "name": "stderr",
     "output_type": "stream",
     "text": [
      "100%|████████████████████████████████████████████████████████████████████████████████████████████████████████████████| 28332/28332 [01:55<00:00, 246.16it/s]\n"
     ]
    }
   ],
   "source": [
    "df['lemmas'] = df['reviews.text'].progress_apply(get_lemmas)  # Might take a few minutes!"
   ]
  },
  {
   "cell_type": "code",
   "execution_count": 91,
   "metadata": {
    "colab": {
     "base_uri": "https://localhost:8080/",
     "height": 119
    },
    "id": "V50IDI9_GEsj",
    "outputId": "91cd8059-235e-4e4c-ec87-c67c962d3548"
   },
   "outputs": [
    {
     "data": {
      "text/html": [
       "<div>\n",
       "<style scoped>\n",
       "    .dataframe tbody tr th:only-of-type {\n",
       "        vertical-align: middle;\n",
       "    }\n",
       "\n",
       "    .dataframe tbody tr th {\n",
       "        vertical-align: top;\n",
       "    }\n",
       "\n",
       "    .dataframe thead th {\n",
       "        text-align: right;\n",
       "    }\n",
       "</style>\n",
       "<table border=\"1\" class=\"dataframe\">\n",
       "  <thead>\n",
       "    <tr style=\"text-align: right;\">\n",
       "      <th></th>\n",
       "      <th>lemmas</th>\n",
       "      <th>reviews.text</th>\n",
       "    </tr>\n",
       "  </thead>\n",
       "  <tbody>\n",
       "    <tr>\n",
       "      <th>0</th>\n",
       "      <td>[order, 3, item, bad, quality, miss, backup, s...</td>\n",
       "      <td>I order 3 of them and one of the item is bad q...</td>\n",
       "    </tr>\n",
       "    <tr>\n",
       "      <th>1</th>\n",
       "      <td>[bulk, expensive, way, product, like]</td>\n",
       "      <td>Bulk is always the less expensive way to go fo...</td>\n",
       "    </tr>\n",
       "    <tr>\n",
       "      <th>2</th>\n",
       "      <td>[duracell, price, happy]</td>\n",
       "      <td>Well they are not Duracell but for the price i...</td>\n",
       "    </tr>\n",
       "    <tr>\n",
       "      <th>3</th>\n",
       "      <td>[work, brand, battery, well, price]</td>\n",
       "      <td>Seem to work as well as name brand batteries a...</td>\n",
       "    </tr>\n",
       "    <tr>\n",
       "      <th>4</th>\n",
       "      <td>[battery, long, last, price, great]</td>\n",
       "      <td>These batteries are very long lasting the pric...</td>\n",
       "    </tr>\n",
       "  </tbody>\n",
       "</table>\n",
       "</div>"
      ],
      "text/plain": [
       "                                              lemmas  \\\n",
       "0  [order, 3, item, bad, quality, miss, backup, s...   \n",
       "1              [bulk, expensive, way, product, like]   \n",
       "2                           [duracell, price, happy]   \n",
       "3                [work, brand, battery, well, price]   \n",
       "4                [battery, long, last, price, great]   \n",
       "\n",
       "                                        reviews.text  \n",
       "0  I order 3 of them and one of the item is bad q...  \n",
       "1  Bulk is always the less expensive way to go fo...  \n",
       "2  Well they are not Duracell but for the price i...  \n",
       "3  Seem to work as well as name brand batteries a...  \n",
       "4  These batteries are very long lasting the pric...  "
      ]
     },
     "execution_count": 91,
     "metadata": {},
     "output_type": "execute_result"
    }
   ],
   "source": [
    "cols = ['lemmas', 'reviews.text']\n",
    "df[cols].head()"
   ]
  },
  {
   "cell_type": "code",
   "execution_count": 92,
   "metadata": {
    "colab": {
     "base_uri": "https://localhost:8080/",
     "height": 248
    },
    "id": "D4FNmpcNGEsl",
    "outputId": "5236c048-395c-408b-bf46-e6dbec91f2bc"
   },
   "outputs": [
    {
     "name": "stdout",
     "output_type": "stream",
     "text": [
      "(8963, 7) (4185, 7) (2401, 7)\n"
     ]
    },
    {
     "data": {
      "image/png": "[encoded data removed]",
      "text/plain": [
       "<Figure size 1440x576 with 3 Axes>"
      ]
     },
     "metadata": {
      "needs_background": "light"
     },
     "output_type": "display_data"
    }
   ],
   "source": [
    "# To make this comparison more interesting, let's compare: All Amazon Reviews, Fire HD 8 only, and Kindle only\n",
    "df['FireHD_8'] = df['name'].str.contains('fire hd 8', case=False)\n",
    "df['Kindle'] = df['name'].str.contains('kindle', case=False)\n",
    "\n",
    "# Use the Function for all reviews, Fire HD 8 only, and Kindle only\n",
    "wc = count(df['lemmas'])\n",
    "wc_fire_hd_8 = count(df[df['FireHD_8'] == True]['lemmas'])\n",
    "wc_kindle = count(df[df['Kindle'] == True]['lemmas'])\n",
    "print(wc.shape, wc_fire_hd_8.shape, wc_kindle.shape)\n",
    "\n",
    "# Get top 20 word occurences for each set of data\n",
    "wc_top20 = wc[wc['rank'] <= 20]\n",
    "wc_fire_top20 = wc_fire_hd_8[wc_fire_hd_8['rank'] <= 20]\n",
    "wc_kindle_top20 = wc_kindle[wc_kindle['rank'] <= 20]\n",
    "\n",
    "fig, axes = plt.subplots(1, 3, figsize=(20, 8))\n",
    "\n",
    "axes[0].set_title('All Amazon Reviews')\n",
    "squarify.plot(sizes=wc_top20['pct_total'], label=wc_top20['word'], alpha=.8, ax=axes[0])\n",
    "axes[0].axis('off')\n",
    "\n",
    "axes[1].set_title('Fire HD 8 Tablet')\n",
    "squarify.plot(sizes=wc_fire_top20['pct_total'], label=wc_fire_top20['word'], alpha=.8, ax=axes[1])\n",
    "axes[1].axis('off')\n",
    "\n",
    "axes[2].set_title('Kindle')\n",
    "squarify.plot(sizes=wc_kindle_top20['pct_total'], label=wc_kindle_top20['word'], alpha=.8, ax=axes[2])\n",
    "axes[2].axis('off')\n",
    "plt.show()"
   ]
  },
  {
   "cell_type": "markdown",
   "metadata": {},
   "source": [
    "## (Bonus Material) ScatterText\n",
    "\n",
    "To run this section, go to your terminal and execute: \n",
    "\n",
    "- pip install scattertext"
   ]
  },
  {
   "cell_type": "markdown",
   "metadata": {
    "id": "G_0hfUbGGEsn"
   },
   "source": [
    "## Challenge\n",
    "\n",
    "You should know how to apply lemmatization with Spacy to a corpus of text. "
   ]
  },
  {
   "cell_type": "markdown",
   "metadata": {},
   "source": [
    "## Scattertext Kindle vs. FireHD Comparison\n",
    "\n",
    "To run this section, go to your terminal and execute: \n",
    "\n",
    "- pip install scattertext"
   ]
  },
  {
   "cell_type": "code",
   "execution_count": 31,
   "metadata": {},
   "outputs": [
    {
     "name": "stdout",
     "output_type": "stream",
     "text": [
      "(8257, 25)\n"
     ]
    },
    {
     "data": {
      "text/plain": [
       "Fire HD 8    7146\n",
       "Kindle       1111\n",
       "Name: product, dtype: int64"
      ]
     },
     "execution_count": 31,
     "metadata": {},
     "output_type": "execute_result"
    }
   ],
   "source": [
    "# Create a copy and add column with product tags\n",
    "subset_df = df.copy()\n",
    "subset_df.loc[subset_df['name'].str.contains('kindle', case=False), 'product'] = 'Kindle'\n",
    "subset_df.loc[subset_df['name'].str.contains('fire hd 8', case=False), 'product'] = 'Fire HD 8'\n",
    "\n",
    "# Drop Review that aren't Kindle/Fire HD 8\n",
    "subset_df.dropna(subset=['product'], inplace=True)\n",
    "\n",
    "# Confirm shape and distribution of reviews\n",
    "print(subset_df.shape)\n",
    "subset_df['product'].value_counts()"
   ]
  },
  {
   "cell_type": "code",
   "execution_count": 33,
   "metadata": {},
   "outputs": [
    {
     "data": {
      "text/plain": [
       "2591586"
      ]
     },
     "execution_count": 33,
     "metadata": {},
     "output_type": "execute_result"
    }
   ],
   "source": [
    "import spacy\n",
    "import scattertext as st\n",
    "\n",
    "nlp = spacy.load(\"en_core_web_md\")\n",
    "\n",
    "corpus = st.CorpusFromPandas(subset_df, \n",
    "                             category_col='product', \n",
    "                             text_col='reviews.text',\n",
    "                             nlp=nlp).build()\n",
    "\n",
    "html = st.produce_scattertext_explorer(\n",
    "    corpus,\n",
    "    category='Kindle',\n",
    "    category_name='Kindle',\n",
    "    not_category_name='Fire HD 8',\n",
    "    width_in_pixels=1000,\n",
    "    metadata=subset_df['reviews.rating'])\n",
    "\n",
    "open('./kindle_vs_firehd8.html', 'w').write(html)"
   ]
  },
  {
   "cell_type": "markdown",
   "metadata": {
    "id": "TV0MV3qqGEso"
   },
   "source": [
    "# Review\n",
    "\n",
    "In this module project, you've seen us apply Natural Language Processing techniques (tokenization, stopword removal, and lemmatization) to a corpus of Amazon text reviews. We analyzed those reviews using these techniques and discovered that Amazon customers are generally satisfied with the battery life of Amazon products and generally appear satisfied. \n",
    "\n",
    "You will apply similar techniques to today's [module project assignment](LS_DS_411_Text_Data_Assignment.ipynb) to analyze coffee shop reviews from yelp. Remember that the techniques of processing the text are just the beginning. There are many ways to slice and dice the data. "
   ]
  },
  {
   "cell_type": "markdown",
   "metadata": {
    "id": "sf2wyGutGEso"
   },
   "source": [
    "# Sources\n",
    "\n",
    "* Spacy 101 - https://course.spacy.io\n",
    "* NLTK Book - https://www.nltk.org/book/\n",
    "* An Introduction to Information Retrieval - https://nlp.stanford.edu/IR-book/pdf/irbookonlinereading.pdf"
   ]
  },
  {
   "cell_type": "markdown",
   "metadata": {
    "id": "TIXFuZCEGEso",
    "toc-hr-collapsed": true
   },
   "source": [
    "## Advanced Resources & Techniques\n",
    "- Named Entity Recognition (NER)\n",
    "- Dependcy Trees \n",
    "- Generators\n",
    "- the major libraries (NLTK, Spacy, Gensim)"
   ]
  }
 ],
 "metadata": {
  "colab": {
   "collapsed_sections": [],
   "name": "COLAB VERSION LS_DS_411_Text Data_Lecture.ipynb",
   "provenance": []
  },
  "kernelspec": {
   "display_name": "U4-S1-NLP (Python3)",
   "language": "python",
   "name": "u4-s1-nlp"
  },
  "language_info": {
   "codemirror_mode": {
    "name": "ipython",
    "version": 3
   },
   "file_extension": ".py",
   "mimetype": "text/x-python",
   "name": "python",
   "nbconvert_exporter": "python",
   "pygments_lexer": "ipython3",
   "version": "3.8.5"
  },
  "toc-autonumbering": false,
  "toc-showcode": false,
  "toc-showmarkdowntxt": false
 },
 "nbformat": 4,
 "nbformat_minor": 4
}
